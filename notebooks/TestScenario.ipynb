{
 "cells": [
  {
   "cell_type": "code",
   "execution_count": null,
   "id": "d1ee7aa5-5697-4fe2-bf5c-82572f0e204c",
   "metadata": {},
   "outputs": [],
   "source": [
    "import xarray as xr\n",
    "from matplotlib import pyplot as plt\n",
    "import numpy as np\n",
    "\n",
    "import os\n",
    "import cdo"
   ]
  },
  {
   "cell_type": "code",
   "execution_count": null,
   "id": "ff9b741b-c844-453b-9cdc-6e153318bd3f",
   "metadata": {},
   "outputs": [],
   "source": [
    "cdo = cdo.Cdo()"
   ]
  },
  {
   "cell_type": "code",
   "execution_count": null,
   "id": "17b12638-43f7-40bc-8b07-046cf8ffe04f",
   "metadata": {},
   "outputs": [],
   "source": [
    "bridges = ['cffi', 'pipes', 'mpi']"
   ]
  },
  {
   "cell_type": "markdown",
   "id": "b87aff72-e0db-4445-af5f-f664b348434d",
   "metadata": {},
   "source": [
    "Change this to your experiment root directory"
   ]
  },
  {
   "cell_type": "code",
   "execution_count": null,
   "id": "4640e149-baca-42aa-b4f4-b0773a6fda92",
   "metadata": {},
   "outputs": [],
   "source": [
    "expdir = '/work/ka1176/caroline/gitlab/icon-aes-fork/experiments/'"
   ]
  },
  {
   "cell_type": "code",
   "execution_count": null,
   "id": "32cc4997-b9b7-4609-91b1-2133a34e1354",
   "metadata": {},
   "outputs": [],
   "source": [
    "fortran_reference = os.path.join(expdir, 'atm_amip_iconml_emission_fortran')"
   ]
  },
  {
   "cell_type": "markdown",
   "id": "22d11c7b-3802-411d-9ab6-4d82599b946d",
   "metadata": {},
   "source": [
    "Output file for reference (note it is not regridded)"
   ]
  },
  {
   "cell_type": "code",
   "execution_count": null,
   "id": "ee39e160-9e2c-4769-888d-896a7ed17d27",
   "metadata": {},
   "outputs": [],
   "source": [
    "outputfile = 'atm_amip_iconml_emission_fortran_atm_3d_ml_19790101T001600Z.nc'"
   ]
  },
  {
   "cell_type": "code",
   "execution_count": null,
   "id": "584ddb6f-b8e9-46fa-ab3f-c6ea4bccd8d9",
   "metadata": {},
   "outputs": [],
   "source": [
    "ds_fortran = xr.open_dataset( os.path.join(fortran_reference, outputfile) )"
   ]
  },
  {
   "cell_type": "code",
   "execution_count": null,
   "id": "6cd279f8-eb76-4039-a1f0-5e106e44d983",
   "metadata": {},
   "outputs": [],
   "source": [
    "ds_fortran.qttr_phy"
   ]
  },
  {
   "cell_type": "markdown",
   "id": "4a972c38-5fc0-4d82-bce2-eda7f82416cd",
   "metadata": {},
   "source": [
    "Ignore the regridding for now and just plot the variable to see if it is not empty"
   ]
  },
  {
   "cell_type": "code",
   "execution_count": null,
   "id": "1e3c507f-79e2-4e9f-a783-ed5fb22ecb4c",
   "metadata": {},
   "outputs": [],
   "source": [
    "plt.plot(ds_fortran.qttr_phy.values.flatten())"
   ]
  },
  {
   "cell_type": "code",
   "execution_count": null,
   "id": "343cdc0b-aa72-41fc-96a4-820e6f639d01",
   "metadata": {},
   "outputs": [],
   "source": [
    "for bridge in bridges:\n",
    "    print('*'*30)\n",
    "    print(' Bridge: ', bridge)\n",
    "    print('*'*30)\n",
    "        \n",
    "    f = os.path.join(expdir, \n",
    "                     f'atm_amip_iconml_emission_{bridge}', \n",
    "                     f'atm_amip_iconml_emission_{bridge}_atm_3d_ml_19790101T001600Z.nc')\n",
    "    \n",
    "    if not os.path.exists(f):\n",
    "        print('  No such file: ', f)\n",
    "        continue\n",
    "    else:\n",
    "        print('  Loading file: ', f)\n",
    "    \n",
    "    ds = xr.open_dataset( f )\n",
    "    \n",
    "    assert ds_fortran.equals(ds)"
   ]
  },
  {
   "cell_type": "code",
   "execution_count": null,
   "id": "a71b93ae-0b74-4ed9-84b6-d20c49e3e512",
   "metadata": {},
   "outputs": [],
   "source": [
    "ds_pipes = xr.open_dataset(os.path.join(expdir, \n",
    "                     f'atm_amip_iconml_emission_pipes', \n",
    "                     f'atm_amip_iconml_emission_pipes_atm_3d_ml_19790101T001600Z.nc'))"
   ]
  },
  {
   "cell_type": "code",
   "execution_count": null,
   "id": "07976930-1b8c-4d55-86cf-09b8ed37b885",
   "metadata": {},
   "outputs": [],
   "source": []
  }
 ],
 "metadata": {
  "kernelspec": {
   "display_name": "Python 3 (based on the module python3/2022.01)",
   "language": "python",
   "name": "python3_2022_01"
  },
  "language_info": {
   "codemirror_mode": {
    "name": "ipython",
    "version": 3
   },
   "file_extension": ".py",
   "mimetype": "text/x-python",
   "name": "python",
   "nbconvert_exporter": "python",
   "pygments_lexer": "ipython3",
   "version": "3.9.9"
  }
 },
 "nbformat": 4,
 "nbformat_minor": 5
}
