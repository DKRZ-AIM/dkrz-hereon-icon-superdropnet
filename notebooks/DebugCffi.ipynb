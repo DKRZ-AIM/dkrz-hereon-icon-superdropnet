{
 "cells": [
  {
   "cell_type": "code",
   "execution_count": 1,
   "metadata": {},
   "outputs": [],
   "source": [
    "import sys\n",
    "\n",
    "sys.path.append('/work/ka1176/caroline/gitlab/2022-03-hereon-python-fortran-bridges/lib/')\n",
    "sys.path.append('/work/ka1176/caroline/gitlab/2022-03-hereon-python-fortran-bridges/cffi_interface/')"
   ]
  },
  {
   "cell_type": "code",
   "execution_count": 2,
   "metadata": {},
   "outputs": [],
   "source": [
    "import cffi_plugin"
   ]
  },
  {
   "cell_type": "markdown",
   "metadata": {},
   "source": [
    "We import the cffi_plugin like a Python library and try to execute a function following the description in \n",
    "\n",
    "https://cffi.readthedocs.io/en/latest/embedding.html#issues-about-using-the-so --> testing"
   ]
  },
  {
   "cell_type": "code",
   "execution_count": 3,
   "metadata": {},
   "outputs": [
    {
     "data": {
      "text/plain": [
       "{'__name__': 'cffi_plugin',\n",
       " '__doc__': None,\n",
       " '__package__': '',\n",
       " '__loader__': <_frozen_importlib_external.ExtensionFileLoader at 0x7ffff1050d00>,\n",
       " '__spec__': ModuleSpec(name='cffi_plugin', loader=<_frozen_importlib_external.ExtensionFileLoader object at 0x7ffff1050d00>, origin='/work/ka1176/caroline/gitlab/2022-03-hereon-python-fortran-bridges/lib/cffi_plugin.so'),\n",
       " 'ffi': <_cffi_backend.FFI at 0x7ffff08094a0>,\n",
       " 'lib': <Lib object for 'cffi_plugin'>,\n",
       " '__file__': '/work/ka1176/caroline/gitlab/2022-03-hereon-python-fortran-bridges/lib/cffi_plugin.so'}"
      ]
     },
     "execution_count": 3,
     "metadata": {},
     "output_type": "execute_result"
    }
   ],
   "source": [
    "cffi_plugin.__dict__"
   ]
  },
  {
   "cell_type": "code",
   "execution_count": 4,
   "metadata": {},
   "outputs": [],
   "source": [
    "from cffi_plugin import ffi, lib"
   ]
  },
  {
   "cell_type": "code",
   "execution_count": 5,
   "metadata": {},
   "outputs": [
    {
     "data": {
      "text/plain": [
       "{'i_add_emi_echam_ttr': <cdata 'void(*)(int *, int *, int *, int *, double *, double *, double *, double *, double *, double *)' 0x7ffff07e0310>,\n",
       " 'i_add_one': <cdata 'void(*)(int *, double *)' 0x7ffff07e0370>,\n",
       " 'i_check_interface': <cdata 'void(*)()' 0x7ffff07e03a0>,\n",
       " 'i_get_emi_float': <cdata 'void(*)(double *)' 0x7ffff07e03c0>,\n",
       " 'i_get_emi_number': <cdata 'void(*)(int *)' 0x7ffff07e03e0>,\n",
       " 'i_hello_world': <cdata 'void(*)()' 0x7ffff07e0400>,\n",
       " 'i_warm_rain_nn': <cdata 'void(*)(int *, int *, int *, int *, double *, double *, double *, double *, double *, double *, double *, double *)' 0x7ffff07e0420>}"
      ]
     },
     "execution_count": 5,
     "metadata": {},
     "output_type": "execute_result"
    }
   ],
   "source": [
    "lib.__dict__"
   ]
  },
  {
   "cell_type": "code",
   "execution_count": 6,
   "metadata": {},
   "outputs": [
    {
     "data": {
      "text/plain": [
       "<cdata 'void(*)()' 0x7ffff07e0400>"
      ]
     },
     "execution_count": 6,
     "metadata": {},
     "output_type": "execute_result"
    }
   ],
   "source": [
    "lib.i_hello_world"
   ]
  },
  {
   "cell_type": "code",
   "execution_count": 7,
   "metadata": {},
   "outputs": [
    {
     "name": "stderr",
     "output_type": "stream",
     "text": [
      "/home/k/k202141/.conda/envs/iconml/lib/python3.9/site-packages/tqdm/auto.py:22: TqdmWarning: IProgress not found. Please update jupyter and ipywidgets. See https://ipywidgets.readthedocs.io/en/stable/user_install.html\n",
      "  from .autonotebook import tqdm as notebook_tqdm\n"
     ]
    },
    {
     "name": "stdout",
     "output_type": "stream",
     "text": [
      "Hello from the Python World!\n"
     ]
    }
   ],
   "source": [
    "lib.i_hello_world()"
   ]
  },
  {
   "cell_type": "code",
   "execution_count": 15,
   "metadata": {},
   "outputs": [],
   "source": [
    "import transfer_arrays"
   ]
  },
  {
   "cell_type": "code",
   "execution_count": 17,
   "metadata": {},
   "outputs": [
    {
     "ename": "error",
     "evalue": "identifier expected\n0\n^",
     "output_type": "error",
     "traceback": [
      "\u001b[0;31m---------------------------------------------------------------------------\u001b[0m",
      "\u001b[0;31merror\u001b[0m                                     Traceback (most recent call last)",
      "Input \u001b[0;32mIn [17]\u001b[0m, in \u001b[0;36m<cell line: 1>\u001b[0;34m()\u001b[0m\n\u001b[0;32m----> 1\u001b[0m \u001b[43mtransfer_arrays\u001b[49m\u001b[38;5;241;43m.\u001b[39;49m\u001b[43masarray\u001b[49m\u001b[43m(\u001b[49m\u001b[43mffi\u001b[49m\u001b[43m,\u001b[49m\u001b[43m \u001b[49m\u001b[38;5;124;43m'\u001b[39;49m\u001b[38;5;124;43m0\u001b[39;49m\u001b[38;5;124;43m'\u001b[39;49m\u001b[43m,\u001b[49m\u001b[43m  \u001b[49m\u001b[43mshape\u001b[49m\u001b[38;5;241;43m=\u001b[39;49m\u001b[43m(\u001b[49m\u001b[38;5;241;43m5\u001b[39;49m\u001b[43m,\u001b[49m\u001b[38;5;241;43m1\u001b[39;49m\u001b[43m)\u001b[49m\u001b[43m)\u001b[49m\n",
      "File \u001b[0;32m/work/ka1176/caroline/gitlab/2022-03-hereon-python-fortran-bridges/cffi_interface/transfer_arrays.py:27\u001b[0m, in \u001b[0;36masarray\u001b[0;34m(ffi, ptr, shape, **kwargs)\u001b[0m\n\u001b[1;32m     25\u001b[0m length \u001b[38;5;241m=\u001b[39m np\u001b[38;5;241m.\u001b[39mprod(shape)\n\u001b[1;32m     26\u001b[0m \u001b[38;5;66;03m# Get the canonical C type of the elements of ptr as a string.\u001b[39;00m\n\u001b[0;32m---> 27\u001b[0m T \u001b[38;5;241m=\u001b[39m ffi\u001b[38;5;241m.\u001b[39mgetctype(\u001b[43mffi\u001b[49m\u001b[38;5;241;43m.\u001b[39;49m\u001b[43mtypeof\u001b[49m\u001b[43m(\u001b[49m\u001b[43mptr\u001b[49m\u001b[43m)\u001b[49m\u001b[38;5;241m.\u001b[39mitem)\n\u001b[1;32m     29\u001b[0m \u001b[38;5;28;01mif\u001b[39;00m T \u001b[38;5;129;01mnot\u001b[39;00m \u001b[38;5;129;01min\u001b[39;00m ctype2dtype:\n\u001b[1;32m     30\u001b[0m     \u001b[38;5;28;01mraise\u001b[39;00m \u001b[38;5;167;01mRuntimeError\u001b[39;00m(\u001b[38;5;124m\"\u001b[39m\u001b[38;5;124mCannot create an array for element type: \u001b[39m\u001b[38;5;132;01m%s\u001b[39;00m\u001b[38;5;124m\"\u001b[39m \u001b[38;5;241m%\u001b[39m T)\n",
      "\u001b[0;31merror\u001b[0m: identifier expected\n0\n^"
     ]
    }
   ],
   "source": [
    "transfer_arrays.asarray(ffi, '0',  shape=(5,1))"
   ]
  },
  {
   "cell_type": "code",
   "execution_count": 20,
   "metadata": {},
   "outputs": [
    {
     "data": {
      "text/plain": [
       "0"
      ]
     },
     "execution_count": 20,
     "metadata": {},
     "output_type": "execute_result"
    }
   ],
   "source": [
    "shape=(4,0)\n",
    "import numpy as np\n",
    "np.product(shape)"
   ]
  },
  {
   "cell_type": "code",
   "execution_count": 23,
   "metadata": {},
   "outputs": [],
   "source": [
    "import os"
   ]
  },
  {
   "cell_type": "code",
   "execution_count": 24,
   "metadata": {},
   "outputs": [],
   "source": [
    "ff = '/home/k/k202141/jobdir/hereon_iconml/LOG_fortran_reference_with_moments'\n",
    "cf = '/home/k/k202141/jobdir/hereon_iconml/LOG_cffi_with_moments'"
   ]
  },
  {
   "cell_type": "code",
   "execution_count": 56,
   "metadata": {},
   "outputs": [],
   "source": [
    "def get_first_moments(logfile):\n",
    "    with open(logfile) as f:\n",
    "        line = f.readline()\n",
    "        in_first_timestep = False\n",
    "        \n",
    "        non_zero_moments = dict(n_cloud_t0=[],\n",
    "                               q_cloud_t0=[],\n",
    "                               n_rain_t0=[],\n",
    "                               q_rain_t0=[],\n",
    "                               n_cloud_t1=[],\n",
    "                               q_cloud_t1=[],\n",
    "                               n_rain_t1=[],\n",
    "                               q_rain_t1=[])\n",
    "    \n",
    "        \n",
    "        while line:\n",
    "            if '_t0 :' in line or '_t1 :' in line:\n",
    "                splits = line.split(':')\n",
    "                key = splits[1].split()[1]\n",
    "                val = float(splits[2])\n",
    "                in_first_timestep = True\n",
    "                \n",
    "                non_zero_moments[key].append(val)\n",
    "            elif in_first_timestep:\n",
    "                print(line)\n",
    "                break\n",
    "            \n",
    "            line = f.readline()\n",
    "            \n",
    "        return non_zero_moments"
   ]
  },
  {
   "cell_type": "code",
   "execution_count": 90,
   "metadata": {},
   "outputs": [],
   "source": [
    "def get_first_new_moments(logfile):\n",
    "    with open(logfile) as f:\n",
    "        line = f.readline()\n",
    "        in_first_timestep = False\n",
    "        \n",
    "        non_zero_moments = dict(n_cloud_t0=[],\n",
    "                               q_cloud_t0=[],\n",
    "                               n_rain_t0=[],\n",
    "                               q_rain_t0=[],\n",
    "                               n_cloud_t1=[],\n",
    "                               q_cloud_t1=[],\n",
    "                               n_rain_t1=[],\n",
    "                               q_rain_t1=[])\n",
    "    \n",
    "        \n",
    "        while line:\n",
    "            if '_t1 :' in line:\n",
    "                splits = line.split(':')\n",
    "                key = splits[1].split()[1]\n",
    "                val = float(splits[2])\n",
    "                in_first_timestep = True\n",
    "                \n",
    "                non_zero_moments[key].append(val)\n",
    "            elif '_t0 :' in line:\n",
    "                pass\n",
    "            elif in_first_timestep:\n",
    "                print(line)\n",
    "                break\n",
    "            \n",
    "            line = f.readline()\n",
    "            \n",
    "        return non_zero_moments"
   ]
  },
  {
   "cell_type": "code",
   "execution_count": 91,
   "metadata": {},
   "outputs": [
    {
     "name": "stdout",
     "output_type": "stream",
     "text": [
      "0:  mo_2mom_mcrph_driver: two moment mcrph ends!\n",
      "\n",
      "0:  mo_2mom_mcrph_driver: two moment mcrph ends!\n",
      "\n",
      "0:  mo_2mom_mcrph_driver: two moment mcrph ends!\n",
      "\n",
      "0:  mo_2mom_mcrph_driver: two moment mcrph ends!\n",
      "\n"
     ]
    }
   ],
   "source": [
    "fmom = get_first_moments(ff)\n",
    "cmom = get_first_moments(cf)\n",
    "fmom1 = get_first_new_moments(ff)\n",
    "cmom1 = get_first_new_moments(cf)"
   ]
  },
  {
   "cell_type": "code",
   "execution_count": 67,
   "metadata": {},
   "outputs": [],
   "source": [
    "from matplotlib import pyplot as plt\n",
    "%matplotlib inline"
   ]
  },
  {
   "cell_type": "code",
   "execution_count": 73,
   "metadata": {},
   "outputs": [],
   "source": [
    "for key in fmom:\n",
    "    if 't0' in key:\n",
    "        assert np.array(fmom[key] == cmom[key])"
   ]
  },
  {
   "cell_type": "code",
   "execution_count": 74,
   "metadata": {},
   "outputs": [
    {
     "name": "stdout",
     "output_type": "stream",
     "text": [
      "[14836000.0, 14836000.0, 14836000.0, 14836000.0, 148760000.0, 148760000.0, 148760000.0, 148760000.0, 150270000.0, 150270000.0, 150270000.0, 150270000.0]\n",
      "[]\n",
      "[7.7681e-06, 7.7681e-06, 7.7681e-06, 7.7681e-06, 4.7928e-05, 4.7928e-05, 4.7928e-05, 4.7928e-05, 3.3131e-05, 3.3131e-05, 3.3131e-05, 3.3131e-05]\n",
      "[]\n",
      "[9.0825e-06, 9.0825e-06, 9.0825e-06, 9.0825e-06, 0.00013062, 0.00013062, 0.00013062, 0.00013062, 2.9176e-05, 2.9176e-05, 2.9176e-05, 2.9176e-05]\n",
      "[]\n",
      "[2.3614e-15, 2.3614e-15, 2.3614e-15, 2.3614e-15, 3.3962e-14, 3.3962e-14, 3.3962e-14, 3.3962e-14, 7.5857e-15, 7.5857e-15, 7.5857e-15, 7.5857e-15]\n",
      "[]\n"
     ]
    }
   ],
   "source": [
    "for key in fmom:\n",
    "    if 't1' in key:\n",
    "        print(fmom[key])\n",
    "        print(cmom[key])"
   ]
  },
  {
   "cell_type": "code",
   "execution_count": 76,
   "metadata": {},
   "outputs": [
    {
     "data": {
      "text/plain": [
       "{'n_cloud_t0': [14836000.0,\n",
       "  14836000.0,\n",
       "  14836000.0,\n",
       "  14836000.0,\n",
       "  148760000.0,\n",
       "  148760000.0,\n",
       "  148760000.0,\n",
       "  148760000.0,\n",
       "  150270000.0,\n",
       "  150270000.0,\n",
       "  150270000.0,\n",
       "  150270000.0],\n",
       " 'q_cloud_t0': [7.7681e-06,\n",
       "  7.7681e-06,\n",
       "  7.7681e-06,\n",
       "  7.7681e-06,\n",
       "  4.7928e-05,\n",
       "  4.7928e-05,\n",
       "  4.7928e-05,\n",
       "  4.7928e-05,\n",
       "  3.3131e-05,\n",
       "  3.3131e-05,\n",
       "  3.3131e-05,\n",
       "  3.3131e-05],\n",
       " 'n_rain_t0': [],\n",
       " 'q_rain_t0': [],\n",
       " 'n_cloud_t1': [],\n",
       " 'q_cloud_t1': [],\n",
       " 'n_rain_t1': [],\n",
       " 'q_rain_t1': []}"
      ]
     },
     "execution_count": 76,
     "metadata": {},
     "output_type": "execute_result"
    }
   ],
   "source": [
    "cmom"
   ]
  },
  {
   "cell_type": "code",
   "execution_count": 92,
   "metadata": {},
   "outputs": [
    {
     "data": {
      "text/plain": [
       "{'n_cloud_t0': [],\n",
       " 'q_cloud_t0': [],\n",
       " 'n_rain_t0': [],\n",
       " 'q_rain_t0': [],\n",
       " 'n_cloud_t1': [84260000.0],\n",
       " 'q_cloud_t1': [],\n",
       " 'n_rain_t1': [5200.5],\n",
       " 'q_rain_t1': [1.6439e-05]}"
      ]
     },
     "execution_count": 92,
     "metadata": {},
     "output_type": "execute_result"
    }
   ],
   "source": [
    "cmom1"
   ]
  },
  {
   "cell_type": "code",
   "execution_count": 93,
   "metadata": {},
   "outputs": [
    {
     "data": {
      "text/plain": [
       "{'n_cloud_t0': [],\n",
       " 'q_cloud_t0': [],\n",
       " 'n_rain_t0': [],\n",
       " 'q_rain_t0': [],\n",
       " 'n_cloud_t1': [14836000.0,\n",
       "  14836000.0,\n",
       "  14836000.0,\n",
       "  14836000.0,\n",
       "  148760000.0,\n",
       "  148760000.0,\n",
       "  148760000.0,\n",
       "  148760000.0,\n",
       "  150270000.0,\n",
       "  150270000.0,\n",
       "  150270000.0,\n",
       "  150270000.0],\n",
       " 'q_cloud_t1': [7.7681e-06,\n",
       "  7.7681e-06,\n",
       "  7.7681e-06,\n",
       "  7.7681e-06,\n",
       "  4.7928e-05,\n",
       "  4.7928e-05,\n",
       "  4.7928e-05,\n",
       "  4.7928e-05,\n",
       "  3.3131e-05,\n",
       "  3.3131e-05,\n",
       "  3.3131e-05,\n",
       "  3.3131e-05],\n",
       " 'n_rain_t1': [9.0825e-06,\n",
       "  9.0825e-06,\n",
       "  9.0825e-06,\n",
       "  9.0825e-06,\n",
       "  0.00013062,\n",
       "  0.00013062,\n",
       "  0.00013062,\n",
       "  0.00013062,\n",
       "  2.9176e-05,\n",
       "  2.9176e-05,\n",
       "  2.9176e-05,\n",
       "  2.9176e-05],\n",
       " 'q_rain_t1': [2.3614e-15,\n",
       "  2.3614e-15,\n",
       "  2.3614e-15,\n",
       "  2.3614e-15,\n",
       "  3.3962e-14,\n",
       "  3.3962e-14,\n",
       "  3.3962e-14,\n",
       "  3.3962e-14,\n",
       "  7.5857e-15,\n",
       "  7.5857e-15,\n",
       "  7.5857e-15,\n",
       "  7.5857e-15]}"
      ]
     },
     "execution_count": 93,
     "metadata": {},
     "output_type": "execute_result"
    }
   ],
   "source": [
    "fmom1"
   ]
  },
  {
   "cell_type": "code",
   "execution_count": 94,
   "metadata": {},
   "outputs": [],
   "source": [
    "from cffi_plugin import ffi\n",
    "import numpy as np\n",
    "import os\n",
    "import transfer_arrays\n",
    "import pytorch_lightning as pl\n",
    "\n",
    "import sys\n",
    "sys.path.append('/work/ka1176/caroline/gitlab/2022-03-hereon-python-fortran-bridges/cffi_interface')\n",
    "from solvers.moment_solver import simulation_forecast\n",
    "sys.path.append('/work/ka1176/caroline/gitlab/2022-03-hereon-python-fortran-bridges/cffi_interface/models')\n",
    "sys.path.append('/work/ka1176/caroline/gitlab/2022-03-hereon-python-fortran-bridges/cffi_interface')\n",
    "\n",
    "import models.plModel as plm\n"
   ]
  },
  {
   "cell_type": "code",
   "execution_count": 95,
   "metadata": {},
   "outputs": [],
   "source": [
    "    inputs_mean = np.asarray([[0.0002621447787797809, 51128093.51524663,\n",
    "                    0.0003302890736022656, 5194.251154308974,\n",
    "                    0.5566250557023539, 4.8690682855354596e-12,\n",
    "                    0.0005924338523807814, 1.0848856769219835e-05,\n",
    "                    2.0193905073168525]])\n",
    "\n",
    "    inputs_std = np.asarray([[0.0003865559774857862, 86503916.13808665,\n",
    "                    0.00041369562655559327, 19127.947970150628,\n",
    "                    0.46107363560819126, 3.873092422358367e-12,\n",
    "                    0.00042887039563850967, 1.920461805101116e-06,\n",
    "                    1.3098055608321857]])\n",
    "\n",
    "    updates_mean = np.asarray([[-8.527820407019667e-08, -13961.459867976775,\n",
    "                    8.527678028525988e-08, 0.010221931180955181]])\n",
    "\n",
    "    updates_std = np.asarray([[3.600841676033818e-07, 55095.904252313965,\n",
    "                    3.6008419243808887e-07, 68.6678997504877]])\n",
    "\n",
    "    #NN Model initalization\n",
    "    pl_model = plm.LightningModel(inputs_mean=inputs_mean, inputs_std=inputs_std,\n",
    "                            updates_mean=updates_mean, updates_std=updates_std) \n",
    "\n",
    "    hard_coded_path = '/work/ka1176/caroline/gitlab/2022-03-hereon-python-fortran-bridges/cffi_interface'\n",
    "    trained_model = pl_model.load_from_checkpoint(hard_coded_path + \"/trained_models/best_model.ckpt\")\n"
   ]
  },
  {
   "cell_type": "code",
   "execution_count": 158,
   "metadata": {},
   "outputs": [
    {
     "name": "stdout",
     "output_type": "stream",
     "text": [
      "key         F (t0)   F (t1)   PY (t1)\n",
      "------------------------------\n",
      "q_cloud   : 7.77e-06 7.77e-06 0.00e+00\n",
      "n_cloud   : 1.48e+07 1.48e+07 8.86e+07\n",
      "q_rain    : 0.00e+00 2.36e-15 7.77e-06\n",
      "n_rain    : 0.00e+00 9.08e-06 5.20e+03\n",
      "\n",
      "key         F (t0)   F (t1)   PY (t1)\n",
      "------------------------------\n",
      "q_cloud   : 7.77e-06 7.77e-06 0.00e+00\n",
      "n_cloud   : 1.48e+07 1.48e+07 8.86e+07\n",
      "q_rain    : 0.00e+00 2.36e-15 7.77e-06\n",
      "n_rain    : 0.00e+00 9.08e-06 5.20e+03\n",
      "\n",
      "key         F (t0)   F (t1)   PY (t1)\n",
      "------------------------------\n",
      "q_cloud   : 7.77e-06 7.77e-06 0.00e+00\n",
      "n_cloud   : 1.48e+07 1.48e+07 8.86e+07\n",
      "q_rain    : 0.00e+00 2.36e-15 7.77e-06\n",
      "n_rain    : 0.00e+00 9.08e-06 5.20e+03\n",
      "\n",
      "key         F (t0)   F (t1)   PY (t1)\n",
      "------------------------------\n",
      "q_cloud   : 7.77e-06 7.77e-06 0.00e+00\n",
      "n_cloud   : 1.48e+07 1.48e+07 8.86e+07\n",
      "q_rain    : 0.00e+00 2.36e-15 7.77e-06\n",
      "n_rain    : 0.00e+00 9.08e-06 5.20e+03\n",
      "\n",
      "key         F (t0)   F (t1)   PY (t1)\n",
      "------------------------------\n",
      "q_cloud   : 4.79e-05 4.79e-05 0.00e+00\n",
      "n_cloud   : 1.49e+08 1.49e+08 7.38e+07\n",
      "q_rain    : 0.00e+00 3.40e-14 4.79e-05\n",
      "n_rain    : 0.00e+00 1.31e-04 5.20e+03\n",
      "\n",
      "key         F (t0)   F (t1)   PY (t1)\n",
      "------------------------------\n",
      "q_cloud   : 4.79e-05 4.79e-05 0.00e+00\n",
      "n_cloud   : 1.49e+08 1.49e+08 7.38e+07\n",
      "q_rain    : 0.00e+00 3.40e-14 4.79e-05\n",
      "n_rain    : 0.00e+00 1.31e-04 5.20e+03\n",
      "\n",
      "key         F (t0)   F (t1)   PY (t1)\n",
      "------------------------------\n",
      "q_cloud   : 4.79e-05 4.79e-05 0.00e+00\n",
      "n_cloud   : 1.49e+08 1.49e+08 7.38e+07\n",
      "q_rain    : 0.00e+00 3.40e-14 4.79e-05\n",
      "n_rain    : 0.00e+00 1.31e-04 5.20e+03\n",
      "\n",
      "key         F (t0)   F (t1)   PY (t1)\n",
      "------------------------------\n",
      "q_cloud   : 4.79e-05 4.79e-05 0.00e+00\n",
      "n_cloud   : 1.49e+08 1.49e+08 7.38e+07\n",
      "q_rain    : 0.00e+00 3.40e-14 4.79e-05\n",
      "n_rain    : 0.00e+00 1.31e-04 5.20e+03\n",
      "\n",
      "key         F (t0)   F (t1)   PY (t1)\n",
      "------------------------------\n",
      "q_cloud   : 3.31e-05 3.31e-05 0.00e+00\n",
      "n_cloud   : 1.50e+08 1.50e+08 7.37e+07\n",
      "q_rain    : 0.00e+00 7.59e-15 3.31e-05\n",
      "n_rain    : 0.00e+00 2.92e-05 5.20e+03\n",
      "\n",
      "key         F (t0)   F (t1)   PY (t1)\n",
      "------------------------------\n",
      "q_cloud   : 3.31e-05 3.31e-05 0.00e+00\n",
      "n_cloud   : 1.50e+08 1.50e+08 7.37e+07\n",
      "q_rain    : 0.00e+00 7.59e-15 3.31e-05\n",
      "n_rain    : 0.00e+00 2.92e-05 5.20e+03\n",
      "\n",
      "key         F (t0)   F (t1)   PY (t1)\n",
      "------------------------------\n",
      "q_cloud   : 3.31e-05 3.31e-05 0.00e+00\n",
      "n_cloud   : 1.50e+08 1.50e+08 7.37e+07\n",
      "q_rain    : 0.00e+00 7.59e-15 3.31e-05\n",
      "n_rain    : 0.00e+00 2.92e-05 5.20e+03\n",
      "\n",
      "key         F (t0)   F (t1)   PY (t1)\n",
      "------------------------------\n",
      "q_cloud   : 3.31e-05 3.31e-05 0.00e+00\n",
      "n_cloud   : 1.50e+08 1.50e+08 7.37e+07\n",
      "q_rain    : 0.00e+00 7.59e-15 3.31e-05\n",
      "n_rain    : 0.00e+00 2.92e-05 5.20e+03\n",
      "\n"
     ]
    },
    {
     "ename": "IndexError",
     "evalue": "list index out of range",
     "output_type": "error",
     "traceback": [
      "\u001b[0;31m---------------------------------------------------------------------------\u001b[0m",
      "\u001b[0;31mIndexError\u001b[0m                                Traceback (most recent call last)",
      "Input \u001b[0;32mIn [158]\u001b[0m, in \u001b[0;36m<cell line: 1>\u001b[0;34m()\u001b[0m\n\u001b[1;32m      1\u001b[0m \u001b[38;5;28;01mfor\u001b[39;00m ix \u001b[38;5;129;01min\u001b[39;00m \u001b[38;5;28mrange\u001b[39m(\u001b[38;5;241m100\u001b[39m):\n\u001b[0;32m----> 3\u001b[0m     fortran_moments \u001b[38;5;241m=\u001b[39m np\u001b[38;5;241m.\u001b[39marray([\u001b[43mfmom\u001b[49m\u001b[43m[\u001b[49m\u001b[38;5;124;43m'\u001b[39;49m\u001b[38;5;124;43mq_cloud_t0\u001b[39;49m\u001b[38;5;124;43m'\u001b[39;49m\u001b[43m]\u001b[49m\u001b[43m[\u001b[49m\u001b[43mix\u001b[49m\u001b[43m]\u001b[49m,\n\u001b[1;32m      4\u001b[0m                             fmom[\u001b[38;5;124m'\u001b[39m\u001b[38;5;124mn_cloud_t0\u001b[39m\u001b[38;5;124m'\u001b[39m][ix],\n\u001b[1;32m      5\u001b[0m                             \u001b[38;5;241m0\u001b[39m,\n\u001b[1;32m      6\u001b[0m                             \u001b[38;5;241m0\u001b[39m])\n\u001b[1;32m      8\u001b[0m     first_vals \u001b[38;5;241m=\u001b[39m \u001b[38;5;28mdict\u001b[39m(q_cloud\u001b[38;5;241m=\u001b[39mfmom[\u001b[38;5;124m'\u001b[39m\u001b[38;5;124mq_cloud_t0\u001b[39m\u001b[38;5;124m'\u001b[39m][ix],\n\u001b[1;32m      9\u001b[0m                       n_cloud\u001b[38;5;241m=\u001b[39mfmom[\u001b[38;5;124m'\u001b[39m\u001b[38;5;124mn_cloud_t0\u001b[39m\u001b[38;5;124m'\u001b[39m][ix],\n\u001b[1;32m     10\u001b[0m                       q_rain\u001b[38;5;241m=\u001b[39m\u001b[38;5;241m0\u001b[39m, n_rain\u001b[38;5;241m=\u001b[39m\u001b[38;5;241m0\u001b[39m)\n\u001b[1;32m     12\u001b[0m     new_forecast \u001b[38;5;241m=\u001b[39m simulation_forecast(\n\u001b[1;32m     13\u001b[0m             fortran_moments, trained_model,inputs_mean, inputs_std\n\u001b[1;32m     14\u001b[0m             )\n",
      "\u001b[0;31mIndexError\u001b[0m: list index out of range"
     ]
    }
   ],
   "source": [
    "for ix in range(100):\n",
    "\n",
    "    fortran_moments = np.array([fmom['q_cloud_t0'][ix],\n",
    "                            fmom['n_cloud_t0'][ix],\n",
    "                            0,\n",
    "                            0])\n",
    "    \n",
    "    first_vals = dict(q_cloud=fmom['q_cloud_t0'][ix],\n",
    "                      n_cloud=fmom['n_cloud_t0'][ix],\n",
    "                      q_rain=0, n_rain=0)\n",
    "\n",
    "    new_forecast = simulation_forecast(\n",
    "            fortran_moments, trained_model,inputs_mean, inputs_std\n",
    "            )\n",
    "    new_forecast.test()\n",
    "\n",
    "    [c_q_cloud_t1, c_n_cloud_t1, c_q_rain_t1, c_n_rain_t1] = new_forecast.moments_out.squeeze()\n",
    "\n",
    "    c_direct_t1 = dict(n_cloud_t1=c_n_cloud_t1, q_cloud_t1=c_q_cloud_t1, n_rain_t1=c_n_rain_t1, q_rain_t1=c_q_rain_t1)\n",
    "\n",
    "    lbl=['key', 'F (t0)', 'F (t1)', 'PY (t1)']\n",
    "    print(f'{lbl[0]:10}  {lbl[1]}   {lbl[2]}   {lbl[3]}')\n",
    "    print('-'*30)\n",
    "\n",
    "    for kkey in ['q_cloud', 'n_cloud', 'q_rain', 'n_rain']:\n",
    "        key = kkey+'_t1'        \n",
    "        \n",
    "        print(f'{kkey:10}: {first_vals[kkey]:.2e} {fmom[key][ix]:.2e} {c_direct_t1[key]:.2e}')\n",
    "        \n",
    "    print()"
   ]
  },
  {
   "cell_type": "code",
   "execution_count": null,
   "metadata": {},
   "outputs": [],
   "source": []
  },
  {
   "cell_type": "code",
   "execution_count": null,
   "metadata": {},
   "outputs": [],
   "source": []
  }
 ],
 "metadata": {
  "kernelspec": {
   "display_name": "iconml",
   "language": "python",
   "name": "iconml"
  },
  "language_info": {
   "codemirror_mode": {
    "name": "ipython",
    "version": 3
   },
   "file_extension": ".py",
   "mimetype": "text/x-python",
   "name": "python",
   "nbconvert_exporter": "python",
   "pygments_lexer": "ipython3",
   "version": "3.9.12"
  }
 },
 "nbformat": 4,
 "nbformat_minor": 4
}
