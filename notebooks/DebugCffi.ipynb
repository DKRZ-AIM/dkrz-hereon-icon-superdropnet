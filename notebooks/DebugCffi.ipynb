{
 "cells": [
  {
   "cell_type": "code",
   "execution_count": 1,
   "metadata": {},
   "outputs": [],
   "source": [
    "import sys\n",
    "\n",
    "sys.path.append('/work/ka1176/caroline/gitlab/2022-03-hereon-python-fortran-bridges/lib/')\n",
    "sys.path.append('/work/ka1176/caroline/gitlab/2022-03-hereon-python-fortran-bridges/cffi_interface/')"
   ]
  },
  {
   "cell_type": "code",
   "execution_count": 2,
   "metadata": {},
   "outputs": [],
   "source": [
    "import cffi_plugin"
   ]
  },
  {
   "cell_type": "markdown",
   "metadata": {},
   "source": [
    "We import the cffi_plugin like a Python library and try to execute a function following the description in \n",
    "\n",
    "https://cffi.readthedocs.io/en/latest/embedding.html#issues-about-using-the-so --> testing"
   ]
  },
  {
   "cell_type": "code",
   "execution_count": 3,
   "metadata": {},
   "outputs": [
    {
     "data": {
      "text/plain": [
       "{'__name__': 'cffi_plugin',\n",
       " '__doc__': None,\n",
       " '__package__': '',\n",
       " '__loader__': <_frozen_importlib_external.ExtensionFileLoader at 0x7ffff414fac0>,\n",
       " '__spec__': ModuleSpec(name='cffi_plugin', loader=<_frozen_importlib_external.ExtensionFileLoader object at 0x7ffff414fac0>, origin='/work/ka1176/caroline/gitlab/2022-03-hereon-python-fortran-bridges/lib/cffi_plugin.so'),\n",
       " 'ffi': <_cffi_backend.FFI at 0x7ffff0103660>,\n",
       " 'lib': <Lib object for 'cffi_plugin'>,\n",
       " '__file__': '/work/ka1176/caroline/gitlab/2022-03-hereon-python-fortran-bridges/lib/cffi_plugin.so'}"
      ]
     },
     "execution_count": 3,
     "metadata": {},
     "output_type": "execute_result"
    }
   ],
   "source": [
    "cffi_plugin.__dict__"
   ]
  },
  {
   "cell_type": "code",
   "execution_count": 4,
   "metadata": {},
   "outputs": [],
   "source": [
    "from cffi_plugin import ffi, lib"
   ]
  },
  {
   "cell_type": "code",
   "execution_count": 5,
   "metadata": {},
   "outputs": [
    {
     "data": {
      "text/plain": [
       "{'i_add_emi_echam_ttr': <cdata 'void(*)(int *, int *, int *, int *, double *, double *, double *, double *, double *, double *)' 0x7ffff008e310>,\n",
       " 'i_add_one': <cdata 'void(*)(int *, double *)' 0x7ffff008e370>,\n",
       " 'i_get_emi_float': <cdata 'void(*)(double *)' 0x7ffff008e3a0>,\n",
       " 'i_get_emi_number': <cdata 'void(*)(int *)' 0x7ffff008e3c0>,\n",
       " 'i_hello_world': <cdata 'void(*)()' 0x7ffff008e3e0>}"
      ]
     },
     "execution_count": 5,
     "metadata": {},
     "output_type": "execute_result"
    }
   ],
   "source": [
    "lib.__dict__"
   ]
  },
  {
   "cell_type": "code",
   "execution_count": 6,
   "metadata": {},
   "outputs": [
    {
     "data": {
      "text/plain": [
       "<cdata 'void(*)()' 0x7ffff008e3e0>"
      ]
     },
     "execution_count": 6,
     "metadata": {},
     "output_type": "execute_result"
    }
   ],
   "source": [
    "lib.i_hello_world"
   ]
  },
  {
   "cell_type": "code",
   "execution_count": 7,
   "metadata": {},
   "outputs": [
    {
     "name": "stdout",
     "output_type": "stream",
     "text": [
      "Hello from the Python World!\n"
     ]
    }
   ],
   "source": [
    "lib.i_hello_world()"
   ]
  },
  {
   "cell_type": "code",
   "execution_count": null,
   "metadata": {},
   "outputs": [],
   "source": []
  }
 ],
 "metadata": {
  "kernelspec": {
   "display_name": "Python 3 (based on the module python3/2022.01)",
   "language": "python",
   "name": "python3_2022_01"
  },
  "language_info": {
   "codemirror_mode": {
    "name": "ipython",
    "version": 3
   },
   "file_extension": ".py",
   "mimetype": "text/x-python",
   "name": "python",
   "nbconvert_exporter": "python",
   "pygments_lexer": "ipython3",
   "version": "3.9.9"
  }
 },
 "nbformat": 4,
 "nbformat_minor": 4
}
