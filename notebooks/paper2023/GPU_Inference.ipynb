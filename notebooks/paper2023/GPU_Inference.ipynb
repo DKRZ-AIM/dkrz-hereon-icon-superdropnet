{
 "cells": [
  {
   "cell_type": "code",
   "execution_count": 1,
   "id": "f836a0c7-45c4-4e90-a524-5978191898f6",
   "metadata": {
    "tags": []
   },
   "outputs": [
    {
     "name": "stderr",
     "output_type": "stream",
     "text": [
      "/home/k/k202141/.conda/envs/iconml/lib/python3.9/site-packages/tqdm/auto.py:22: TqdmWarning: IProgress not found. Please update jupyter and ipywidgets. See https://ipywidgets.readthedocs.io/en/stable/user_install.html\n",
      "  from .autonotebook import tqdm as notebook_tqdm\n"
     ]
    }
   ],
   "source": [
    "import torch"
   ]
  },
  {
   "cell_type": "code",
   "execution_count": 2,
   "id": "1ebe00ba-a574-4df9-bec3-cb25b2ba66a0",
   "metadata": {
    "tags": []
   },
   "outputs": [
    {
     "data": {
      "text/plain": [
       "True"
      ]
     },
     "execution_count": 2,
     "metadata": {},
     "output_type": "execute_result"
    }
   ],
   "source": [
    "torch.cuda.is_available()"
   ]
  },
  {
   "cell_type": "code",
   "execution_count": 3,
   "id": "5a7df858-c72b-49b7-8ae5-c007f0cd406b",
   "metadata": {
    "tags": []
   },
   "outputs": [],
   "source": [
    "import numpy as np"
   ]
  },
  {
   "cell_type": "code",
   "execution_count": 4,
   "id": "3a441d7c-81ac-4169-a36d-9a7175b45063",
   "metadata": {
    "tags": []
   },
   "outputs": [],
   "source": [
    "import os\n",
    "import numpy as np\n",
    "import pytorch_lightning as pl\n",
    "import torch\n",
    "import torch.nn as nn\n",
    "\n",
    "class plNetwork(nn.Module):\n",
    "    def __init__(\n",
    "        self,\n",
    "        act,\n",
    "        n_layers=5,\n",
    "        ns=200,\n",
    "        out_features=4,\n",
    "        depth=9,\n",
    "        p=0.25,\n",
    "        use_batch_norm=False,\n",
    "        use_dropout=False,\n",
    "    ):\n",
    "\n",
    "        super().__init__()\n",
    "\n",
    "        self.layers = []\n",
    "        self.layer_size = []\n",
    "\n",
    "        in_features = depth\n",
    "        for i in range(n_layers):\n",
    "\n",
    "            self.layers.append(nn.Linear(in_features, ns))\n",
    "            # nn.init.kaiming_normal_(self.layers[i].weight, mode='fan_out')\n",
    "            if use_batch_norm:\n",
    "                self.layers.append(nn.BatchNorm1d(ns))\n",
    "            in_features = ns\n",
    "\n",
    "        self.layers.append(nn.Linear(ns, out_features))\n",
    "        self.layers = nn.ModuleList(self.layers)\n",
    "        self.dropout = nn.Dropout(p)\n",
    "        self.activation = act\n",
    "        self.n_layers = n_layers\n",
    "        self.use_dropout = use_dropout\n",
    "\n",
    "    def _forward_impl(self, x):\n",
    "        for i in range(self.n_layers - 1):\n",
    "            x = self.activation(self.layers[i](x))\n",
    "            if self.use_dropout:\n",
    "                x = self.dropout(x)\n",
    "\n",
    "        x = self.layers[-1](x)\n",
    "\n",
    "        return x\n",
    "\n",
    "    def forward(self, x):\n",
    "        return self._forward_impl(x)\n",
    "\n",
    "class LightningModel(pl.LightningModule):\n",
    "    def __init__(\n",
    "        self,\n",
    "        updates_mean,\n",
    "        updates_std,\n",
    "        inputs_mean,\n",
    "        inputs_std,\n",
    "        save_dir=None,\n",
    "        batch_size=256,\n",
    "        beta=0.35,\n",
    "        learning_rate=2e-4,\n",
    "        act=nn.ReLU(),\n",
    "        loss_func=None,\n",
    "        n_layers=5,\n",
    "        ns=200,\n",
    "        depth=9,\n",
    "        p=0.25,\n",
    "        mass_cons_updates=True,\n",
    "        loss_absolute=True,\n",
    "        mass_cons_moments=True,\n",
    "        hard_constraints_updates=True,\n",
    "        hard_constraints_moments=False,\n",
    "        multi_step=False,\n",
    "        step_size=1,\n",
    "        moment_scheme=2,\n",
    "        plot_while_training=False,\n",
    "        plot_all_moments=True,\n",
    "        use_batch_norm=False,\n",
    "        use_dropout=False,\n",
    "        single_sim_num=None,\n",
    "        avg_dataloader=False,\n",
    "        pretrained_path=None\n",
    "    ):\n",
    "        super().__init__()\n",
    "        self.moment_scheme = moment_scheme\n",
    "        self.out_features = moment_scheme * 2\n",
    "        self.lr = learning_rate\n",
    "        self.loss_func = loss_func\n",
    "        self.beta = beta\n",
    "        self.batch_size = batch_size\n",
    "\n",
    "        self.loss_absolute = loss_absolute\n",
    "\n",
    "        \"\"\" Using the following only for multi-step training\"\"\"\n",
    "        self.hard_constraints_updates = hard_constraints_updates\n",
    "        self.hard_constraints_moments = hard_constraints_moments\n",
    "        self.mass_cons_updates = mass_cons_updates  # Serves no purpose now\n",
    "        self.mass_cons_moments = mass_cons_moments\n",
    "\n",
    "        self.multi_step = multi_step\n",
    "        self.step_size = step_size\n",
    "        self.num_workers = 48\n",
    "        self.plot_while_training = plot_while_training\n",
    "        self.plot_all_moments = plot_all_moments\n",
    "        self.single_sim_num = single_sim_num\n",
    "        self.avg_dataloader = avg_dataloader\n",
    "        self.save_hyperparameters()\n",
    "\n",
    "        self.updates_std = updates_std\n",
    "        self.updates_mean = updates_mean\n",
    "        self.inputs_mean = inputs_mean\n",
    "        self.inputs_std = inputs_std\n",
    "\n",
    "        # Some plotting stuff\n",
    "        self.color = [\"#26235b\", \"#bc473a\", \"#812878\", \"#f69824\"]\n",
    "        self.var = [\"Lc\", \"Nc\", \"Lr\", \"Nr\"]\n",
    "        self.pretrained_path = pretrained_path\n",
    "        self.model = self.initialization_model(\n",
    "            act,\n",
    "            n_layers,\n",
    "            ns,\n",
    "            self.out_features,\n",
    "            depth,\n",
    "            p,\n",
    "            use_batch_norm,\n",
    "            use_dropout,\n",
    "            save_dir,\n",
    "            pretrained_path,\n",
    "        )\n",
    "\n",
    "    @staticmethod\n",
    "    def initialization_model(\n",
    "        act,\n",
    "        n_layers,\n",
    "        ns,\n",
    "        out_features,\n",
    "        depth,\n",
    "        p,\n",
    "        use_batch_norm,\n",
    "        use_dropout,\n",
    "        save_dir,\n",
    "        pretrained_path,\n",
    "    ):\n",
    "        model = plNetwork(\n",
    "            act, n_layers, ns, out_features, depth, p, use_batch_norm, use_dropout\n",
    "        )\n",
    "        model.train()\n",
    "        return model\n",
    "\n",
    "    def forward(self):\n",
    "        self.updates = self.model(self.x)\n",
    "        self.norm_obj = normalizer(\n",
    "            self.updates,\n",
    "            self.x,\n",
    "            self.y,\n",
    "            self.updates_mean,\n",
    "            self.updates_std,\n",
    "            self.inputs_mean,\n",
    "            self.inputs_std,\n",
    "            self.device,\n",
    "            self.hard_constraints_updates,\n",
    "            self.hard_constraints_moments,\n",
    "        )\n",
    "        (\n",
    "            self.real_x,\n",
    "            self.real_y,\n",
    "            self.pred_moment,\n",
    "            self.pred_moment_norm,\n",
    "        ) = self.norm_obj.calc_preds()\n",
    "        self.pred_moment, self.pred_moment_norm = self.norm_obj.set_constraints()\n",
    "\n",
    "    def test_step(self, initial_moments):\n",
    "\n",
    "        \"\"\"For moment-wise evaluation as used for ODE solve\"\"\"\n",
    "        with torch.no_grad():\n",
    "            preds = self.model(initial_moments.float())\n",
    "        return preds\n",
    "\n"
   ]
  },
  {
   "cell_type": "code",
   "execution_count": 5,
   "id": "2b48e8ce-b628-4efa-9c6d-2861d9fb22a5",
   "metadata": {
    "tags": []
   },
   "outputs": [],
   "source": [
    "import numpy as np\n",
    "import torch\n",
    "from torch.utils.data import Dataset, DataLoader\n",
    "\n",
    "    \n",
    "class simulation_forecast:\n",
    "    def __init__(\n",
    "        self,\n",
    "        all_moments_in,\n",
    "        new_model,\n",
    "        inputs_mean,\n",
    "        inputs_std,\n",
    "        updates_mean,\n",
    "        updates_std,\n",
    "        device\n",
    "        \n",
    "    ):\n",
    "        self.all_moments_in = all_moments_in\n",
    "        \"\"\" Assuming the moments to be arranged \n",
    "        as Lc, Nc,Lr, Nr \"\"\"\n",
    "            \n",
    "        self.inputs_mean = inputs_mean\n",
    "        self.inputs_std = inputs_std\n",
    "        self.updates_mean = updates_mean\n",
    "        self.updates_std = updates_std\n",
    "        self.model = new_model\n",
    "        #Since moments_out is returned to main, it should be numpy at the end of the solver call\n",
    "        self.moments_out = None\n",
    "        self.device = device\n",
    "        #self.lo = all_moments_in[0]+ all_moments_in[2]\n",
    "        \n",
    "        self.setup()\n",
    "        self.create_input()\n",
    "        self.model.eval()\n",
    "        \n",
    "\n",
    "    def setup(self):\n",
    "        #self.all_moments_in = self.all_moments_in.astype(np.float32)\n",
    "        self.all_moments_in = self.all_moments_in.reshape(-1,4) #Now we can process the whole batch\n",
    "        #self.all_moments_in = torch.from_numpy(self.all_moments_in).float().to(self.device)\n",
    "        \n",
    "    def test(self):\n",
    "        \n",
    "        predictions_updates = self.model.test_step(self.inputs)\n",
    "        self.moment_calc(predictions_updates)\n",
    "\n",
    "        #self.moments_out = self.moments_out.astype(np.float64)\n",
    "\n",
    "    # For Calculation of Moments\n",
    "    def calc_mean(self, no_norm, means, stds):\n",
    "        return (no_norm - means.reshape(-1,)) / stds.reshape(\n",
    "            -1,\n",
    "        )\n",
    "\n",
    "    # For creation of inputs\n",
    "    def create_input(self):\n",
    "        divisor = (self.all_moments_in[:,2] + self.all_moments_in[:,0]).cpu()\n",
    "        tau = np.divide( self.all_moments_in[:,2].cpu(), divisor, where=divisor!=0 ).to(self.device)\n",
    "\n",
    "        xc = (self.all_moments_in[:,0] / (self.all_moments_in[:,1] + 1e-8)).to(self.device)\n",
    "        self.lo_arr = (self.all_moments_in[:,2] + self.all_moments_in[:,0]).to(self.device)\n",
    "        self.rm = torch.from_numpy(np.full((self.lo_arr.shape),13e-6)).to(self.device)\n",
    "        self.nu = torch.from_numpy(np.full((self.lo_arr.shape),1)).to(self.device)\n",
    "\n",
    "        self.model_params = torch.cat((self.lo_arr.reshape(-1,1), \n",
    "                                            self.rm.reshape(-1,1),self.nu.reshape(-1,1)),\n",
    "                                           axis=1)\n",
    "        \n",
    "        #self.model_params = np.asarray([self.lo,self.rm,self.nu])\n",
    "        inputs = torch.cat(\n",
    "            (\n",
    "                self.all_moments_in,\n",
    "                tau.reshape(-1, 1),\n",
    "                xc.reshape(-1, 1),\n",
    "                self.model_params\n",
    "            ),\n",
    "            axis=1,\n",
    "        )\n",
    "        self.inputs = self.calc_mean(inputs, self.inputs_mean, self.inputs_std)\n",
    "\n",
    "    def check_preds(self):\n",
    "        self.moments_out[:, 0] = (self.lo_arr) - self.moments_out[:, 2]\n",
    "        self.moments_out[self.moments_out<0] = 0\n",
    "    \n",
    "    def moment_calc(self, predictions_updates):\n",
    "        self.updates = (\n",
    "            predictions_updates.detach() * self.updates_std\n",
    "        ) + self.updates_mean\n",
    "        \n",
    "        self.moments_out = (self.all_moments_in[:,0:4] + (self.updates[:,:] * 20))\n",
    "        self.check_preds()\n",
    "        "
   ]
  },
  {
   "cell_type": "code",
   "execution_count": 6,
   "id": "96dfa1a3-d98c-40ef-8ba2-feaa6f0a6631",
   "metadata": {
    "tags": []
   },
   "outputs": [],
   "source": [
    "inputs_mean = torch.from_numpy(np.asarray([[0.0002621447787797809, 51128093.51524663,\n",
    "                0.0003302890736022656, 5194.251154308974,\n",
    "                0.5566250557023539, 4.8690682855354596e-12,\n",
    "                0.0005924338523807814, 1.0848856769219835e-05,\n",
    "                2.0193905073168525]])).to('cuda')\n",
    "\n",
    "inputs_std = torch.from_numpy(np.asarray([[0.0003865559774857862, 86503916.13808665,\n",
    "                0.00041369562655559327, 19127.947970150628,\n",
    "                0.46107363560819126, 3.873092422358367e-12,\n",
    "                0.00042887039563850967, 1.920461805101116e-06,\n",
    "                1.3098055608321857]])).to('cuda')\n",
    "\n",
    "updates_mean = torch.from_numpy(np.asarray([[-8.527820407019667e-08, -13961.459867976775,\n",
    "                8.527678028525988e-08, 0.010221931180955181]])).to('cuda')\n",
    "\n",
    "updates_std = torch.from_numpy(np.asarray([[3.600841676033818e-07, 55095.904252313965,\n",
    "                3.6008419243808887e-07, 68.6678997504877]])).to('cuda')\n",
    "\n",
    "    \n",
    "pl_model = LightningModel(inputs_mean=inputs_mean, inputs_std=inputs_std,\n",
    "                            updates_mean=updates_mean, updates_std=updates_std) \n",
    "\n",
    "model_path = '/work/ka1176/caroline/gitlab/icon-aes/externals/mlbridges/cffi_interface/trained_models/best_model.ckpt'\n",
    "trained_model = pl_model.load_from_checkpoint(model_path).to('cuda')\n"
   ]
  },
  {
   "cell_type": "code",
   "execution_count": 7,
   "id": "0e8dea87-ef37-4030-bb73-ed0bc560e273",
   "metadata": {
    "tags": []
   },
   "outputs": [],
   "source": [
    "shape = (4, 1, 44)\n",
    "current_moments = np.zeros(shape)\n",
    "current_moments[0] = 5.8e-4\n",
    "current_moments[1] = 3.4e7\n",
    "current_moments[2] = 3.89e-4\n",
    "swapped_moments = np.swapaxes(current_moments,0, 2).reshape(-1, 4)\n",
    "\n",
    "swapped_moments = torch.from_numpy(swapped_moments).to('cuda')"
   ]
  },
  {
   "cell_type": "code",
   "execution_count": 13,
   "id": "6fda464a-0ada-4655-8b28-f2dc52bfbf82",
   "metadata": {},
   "outputs": [
    {
     "name": "stdout",
     "output_type": "stream",
     "text": [
      "CPU times: user 1.26 ms, sys: 8.47 ms, total: 9.73 ms\n",
      "Wall time: 116 ms\n"
     ]
    }
   ],
   "source": [
    "%%time\n",
    "new_forecast = simulation_forecast(swapped_moments, trained_model,\n",
    "                                   inputs_mean, inputs_std,\n",
    "                                   updates_mean, updates_std,\n",
    "                                   'cuda'\n",
    "                                  )"
   ]
  },
  {
   "cell_type": "code",
   "execution_count": 28,
   "id": "767fe1fc-9964-45a0-a473-8713e33bcd74",
   "metadata": {},
   "outputs": [
    {
     "name": "stdout",
     "output_type": "stream",
     "text": [
      "267 µs ± 34.3 µs per loop (mean ± std. dev. of 200 runs, 200 loops each)\n"
     ]
    }
   ],
   "source": [
    "gpu_t = %timeit -o -n 200 -r 200 new_forecast.test()"
   ]
  },
  {
   "cell_type": "code",
   "execution_count": 29,
   "id": "77dc032e-31e6-4142-8c89-2b7d31c8cf9f",
   "metadata": {
    "tags": []
   },
   "outputs": [],
   "source": [
    "t_gpu_median = np.median(gpu_t.timings)\n",
    "t_gpu = np.mean(gpu_t.timings)"
   ]
  },
  {
   "cell_type": "code",
   "execution_count": 30,
   "id": "15805c46-3a79-4cfd-86ff-bdc069e1071f",
   "metadata": {
    "tags": []
   },
   "outputs": [],
   "source": [
    "t_cpu = 7.921824e-04 "
   ]
  },
  {
   "cell_type": "code",
   "execution_count": 31,
   "id": "ef8a5030-b067-4326-a881-52db281441d3",
   "metadata": {
    "tags": []
   },
   "outputs": [
    {
     "name": "stdout",
     "output_type": "stream",
     "text": [
      "0.0002666758746501728\n",
      "0.0002631261774877203\n",
      "0.0007921824\n"
     ]
    }
   ],
   "source": [
    "print(t_gpu)\n",
    "print(t_gpu_median)\n",
    "print(t_cpu)"
   ]
  },
  {
   "cell_type": "code",
   "execution_count": 32,
   "id": "015352e5-9a6b-4281-b767-0b0c3da567cc",
   "metadata": {
    "tags": []
   },
   "outputs": [
    {
     "data": {
      "text/plain": [
       "0.3366344350116498"
      ]
     },
     "execution_count": 32,
     "metadata": {},
     "output_type": "execute_result"
    }
   ],
   "source": [
    "t_gpu / t_cpu"
   ]
  },
  {
   "cell_type": "code",
   "execution_count": null,
   "id": "889d555c-cfe4-45d5-8be1-70d64aaf2629",
   "metadata": {},
   "outputs": [],
   "source": []
  }
 ],
 "metadata": {
  "kernelspec": {
   "display_name": "iconml",
   "language": "python",
   "name": "iconml"
  },
  "language_info": {
   "codemirror_mode": {
    "name": "ipython",
    "version": 3
   },
   "file_extension": ".py",
   "mimetype": "text/x-python",
   "name": "python",
   "nbconvert_exporter": "python",
   "pygments_lexer": "ipython3",
   "version": "3.9.12"
  }
 },
 "nbformat": 4,
 "nbformat_minor": 5
}
