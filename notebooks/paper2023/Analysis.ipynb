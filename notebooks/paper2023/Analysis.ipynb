{
 "cells": [
  {
   "cell_type": "code",
   "execution_count": null,
   "id": "2a30d1b8-c47e-4b65-b12b-30870b5fc1a1",
   "metadata": {},
   "outputs": [],
   "source": [
    "import xarray as xr\n",
    "import numpy as np\n",
    "import os\n",
    "\n",
    "import pandas as pd\n",
    "from matplotlib import pyplot as plt\n",
    "import seaborn as sns\n",
    "%matplotlib inline"
   ]
  },
  {
   "cell_type": "code",
   "execution_count": null,
   "id": "e9dfff31-be0a-4c9b-8b75-8fc2cd134b3a",
   "metadata": {},
   "outputs": [],
   "source": [
    "from matplotlib import ticker"
   ]
  },
  {
   "cell_type": "code",
   "execution_count": null,
   "id": "c619ad06-ea0a-41d0-ba15-4b6b8e8983f5",
   "metadata": {},
   "outputs": [],
   "source": [
    "import pprint"
   ]
  },
  {
   "cell_type": "code",
   "execution_count": null,
   "id": "202b01cd-e872-4515-b46b-e3c33cb33fa1",
   "metadata": {},
   "outputs": [],
   "source": [
    "from cdo import *"
   ]
  },
  {
   "cell_type": "code",
   "execution_count": null,
   "id": "3a216987-3053-4352-9d79-a1301e1773a5",
   "metadata": {},
   "outputs": [],
   "source": [
    "cdo = Cdo(tempdir='/scratch/k/k202141/cdotmp')\n",
    "cdo.cleanTempDir()\n",
    "# use cdo.cleanTempDir() at some point if you run many operations"
   ]
  },
  {
   "cell_type": "code",
   "execution_count": null,
   "id": "37798ab6-599c-4fc2-8393-2093696d165b",
   "metadata": {},
   "outputs": [],
   "source": [
    "sns.set_context('notebook')\n",
    "sns.set_style('whitegrid')"
   ]
  },
  {
   "cell_type": "markdown",
   "id": "211dc200-9b37-47e5-ba9b-4f20d23a808a",
   "metadata": {},
   "source": [
    "## Setup\n",
    "\n",
    "Interactive notebook for analysing single experiments and quickly comparing different experiments"
   ]
  },
  {
   "cell_type": "markdown",
   "id": "73fae11c-d157-4a32-b6c2-4cc008bdb709",
   "metadata": {},
   "source": [
    "## Evaluate a single experiment\n",
    "\n",
    "Define the experiment you want to analyse. Provide\n",
    " - `exp_root` The experiment root directory\n",
    " - `exp_name` The experiment name\n",
    " - `target_plot_dir` Where to save the generated plots"
   ]
  },
  {
   "cell_type": "code",
   "execution_count": null,
   "id": "4f9ca5e5-fe87-4bdf-94b1-f06841c0b739",
   "metadata": {},
   "outputs": [],
   "source": [
    "exp_root = '/work/ka1176/caroline/gitlab/icon-aes/experiments/'\n",
    "exp_name = 'warm_bubble_cffi'\n",
    "out_atm_3d = f'{exp_name}_atm_3d_ml_20080801T000000Z.nc'\n",
    "out_atm_2d = f'{exp_name}_atm_2d_ml_20080801T000000Z.nc'\n",
    "target_plot_dir = f'./analysis_plots/'"
   ]
  },
  {
   "cell_type": "code",
   "execution_count": null,
   "id": "bd92b2d6-b040-4299-80db-14198ffcfa93",
   "metadata": {},
   "outputs": [],
   "source": [
    "if not os.path.exists(target_plot_dir):\n",
    "    os.makedirs(target_plot_dir)"
   ]
  },
  {
   "cell_type": "code",
   "execution_count": null,
   "id": "0dc39ebb-21ec-40ed-9be8-0d8ee06ad54f",
   "metadata": {},
   "outputs": [],
   "source": [
    "os.listdir(os.path.join(exp_root, exp_name))"
   ]
  },
  {
   "cell_type": "code",
   "execution_count": null,
   "id": "f1c2eb01-af22-4ca1-89c6-d01734d41272",
   "metadata": {},
   "outputs": [],
   "source": [
    "with open(os.path.join(exp_root, exp_name, f'NAMELIST_{exp_name}_atm')) as f:\n",
    "    line = f.readline()\n",
    "    in_output_nml = False\n",
    "    in_ml_varlist = False\n",
    "    \n",
    "    nml_dict = {}\n",
    "    \n",
    "    while line:\n",
    "        \n",
    "        line = f.readline()\n",
    "        if line.startswith('&output_nml'):\n",
    "            in_output_nml = True\n",
    "        elif line.strip() == '/':\n",
    "            in_output_nml = False\n",
    "            in_ml_varlist = False\n",
    "        \n",
    "        if in_output_nml and '=' in line:\n",
    "            #print(line)\n",
    "            splits = [s.strip() for s in line.split('=')]\n",
    "            \n",
    "            if splits[0] == 'output_filename':\n",
    "                key = splits[1].replace('\"', '')\n",
    "                print(key)\n",
    "                \n",
    "                nml_dict[key] = []\n",
    "                \n",
    "            if splits[0] == 'ml_varlist':\n",
    "                in_ml_varlist = True\n",
    "                \n",
    "        if in_ml_varlist:\n",
    "            if line.strip().startswith('!'): # comment\n",
    "                continue\n",
    "   \n",
    "            # read the comma separated list of output variables\n",
    "            # account for first line starting with key\n",
    "            splits = [s.split('=')[-1].strip().replace(\"'\",\"\") if '=' in s else s.replace(\"'\",\"\") for s in [s.strip() for s in line.split(',')]]\n",
    "            clean_splits = [s for s in splits if len(s)>0]\n",
    "            nml_dict[key].extend(clean_splits)"
   ]
  },
  {
   "cell_type": "code",
   "execution_count": null,
   "id": "d8da16d6-4955-40c3-94cf-e036f162e8e4",
   "metadata": {},
   "outputs": [],
   "source": [
    "pprint.pprint(nml_dict)"
   ]
  },
  {
   "cell_type": "markdown",
   "id": "0cafb033-246c-4f15-962a-560d6efb1e84",
   "metadata": {
    "tags": []
   },
   "source": [
    "### Fieldmean plots of the vertically integrated variables"
   ]
  },
  {
   "cell_type": "code",
   "execution_count": null,
   "id": "a28a5c96-838b-40af-b4a9-e80124350c45",
   "metadata": {},
   "outputs": [],
   "source": [
    "n_cols = 5\n",
    "total_plots = len(nml_dict[f'{exp_name}_atm_2d'])\n",
    "n_rows = total_plots // n_cols\n",
    "\n",
    "fig, ax = plt.subplots(n_rows, n_cols, figsize=(n_cols * 3.5, n_rows * 3.0))\n",
    "ax = ax.flatten()\n",
    "\n",
    "# define cdo infile\n",
    "infile = os.path.join(exp_root, exp_name, out_atm_2d)\n",
    "\n",
    "# obtain time steps for plotting\n",
    "with xr.open_dataset(infile) as ds:\n",
    "    ds = ds.load()\n",
    "    \n",
    "time_steps = ds['time'].values\n",
    "time_steps -= time_steps[0]\n",
    "time_steps *= 24 * 60 # time steps in minutes\n",
    "\n",
    "for i, value in enumerate(nml_dict[f'{exp_name}_atm_2d']):\n",
    "    x_fldmean = cdo.fldmean(input='-selname,' + value + ' ' + infile, returnXArray=value).squeeze()\n",
    "    \n",
    "    # get labels and units\n",
    "    long_name = x_fldmean.attrs['long_name']\n",
    "    units = x_fldmean.attrs['units']\n",
    "    \n",
    "    lbl = f'{value} ({units})'\n",
    "    \n",
    "    ax[i].plot(time_steps, x_fldmean)\n",
    "    ax[i].set_xlabel('Time (minutes)')\n",
    "    ax[i].set_ylabel(lbl)\n",
    "    ax[i].set_title(long_name)\n",
    "    \n",
    "fig.tight_layout()\n",
    "plt.savefig(os.path.join(target_plot_dir, f'{exp_name}_fldmean_atm_2d.png'), dpi=150, bbox_inches='tight')"
   ]
  },
  {
   "cell_type": "markdown",
   "id": "81101252-42e5-41c6-a25f-aac1b2433f93",
   "metadata": {
    "tags": []
   },
   "source": [
    "### Fieldmean plots of the 3D variables"
   ]
  },
  {
   "cell_type": "code",
   "execution_count": null,
   "id": "8f2e5aac-9dc8-4512-800c-b3c4277c3705",
   "metadata": {},
   "outputs": [],
   "source": [
    "n_cols = 5\n",
    "total_plots = len(nml_dict[f'{exp_name}_atm_3d'])\n",
    "n_rows = total_plots // n_cols\n",
    "\n",
    "if total_plots % n_cols > 0:\n",
    "    n_rows += 1\n",
    "\n",
    "fig, ax = plt.subplots(n_rows, n_cols, figsize=(n_cols * 3.5, n_rows * 3.0))\n",
    "ax = ax.flatten()\n",
    "\n",
    "# define cdo infile\n",
    "infile = os.path.join(exp_root, exp_name, out_atm_3d)\n",
    "\n",
    "# obtain time steps for plotting\n",
    "with xr.open_dataset(infile) as ds:\n",
    "    ds = ds.load()\n",
    "    \n",
    "time_steps = ds['time'].values\n",
    "time_steps -= time_steps[0]\n",
    "time_steps *= 24 * 60 # time steps in minutes\n",
    "\n",
    "for i, value in enumerate(nml_dict[f'{exp_name}_atm_3d']):\n",
    "    x_fldmean = cdo.vertmean(input='-fldmean -selname,' + value + ' ' + infile, returnXArray=value).squeeze()\n",
    "    \n",
    "    if len(x_fldmean.shape) == 0:\n",
    "        print(f'Skipping {value} of scalar dimension after averaging')\n",
    "        continue\n",
    "    \n",
    "    # get labels and units\n",
    "    long_name = x_fldmean.attrs['long_name']\n",
    "    units = x_fldmean.attrs['units']\n",
    "    \n",
    "    lbl = f'{value} ({units})'\n",
    "    \n",
    "    ax[i].plot(time_steps, x_fldmean)\n",
    "    ax[i].set_xlabel('Time (minutes)')\n",
    "    ax[i].set_ylabel(lbl)\n",
    "    ax[i].set_title(long_name)\n",
    "    \n",
    "fig.tight_layout()\n",
    "plt.savefig(os.path.join(target_plot_dir, f'{exp_name}_vertmean_fldmean_atm_3d.png'), dpi=150, bbox_inches='tight')"
   ]
  },
  {
   "cell_type": "markdown",
   "id": "c7e1bf61-76fc-4e06-84ab-590bdf32f01f",
   "metadata": {},
   "source": [
    "## Comparison plots mean values"
   ]
  },
  {
   "cell_type": "code",
   "execution_count": null,
   "id": "c26a154c-4872-4396-ba72-60dc42db86e1",
   "metadata": {},
   "outputs": [],
   "source": [
    "def make_comparison_plot(experiments_to_compare=['warm_bubble_fortran', 'warm_bubble_cffi'], values='theta_v', colors=['C0', 'C3'], savefig=True):\n",
    "    '''\n",
    "    Compare field / vertically averaged value across several experiments\n",
    "    \n",
    "    Args:\n",
    "        experiments_to_compare (list): experiment names\n",
    "        values (string or list): parameter value(s) (need to be all atm_2d or atm_3d)\n",
    "        colors (list): colors to use in the plot\n",
    "        savefig (bool): if True, save the generated figure\n",
    "    '''\n",
    "    \n",
    "    if isinstance(values, str):\n",
    "        fig, ax = plt.subplots(1, 1, figsize=(3.5, 3.0))\n",
    "        values = [values] # for compatibility\n",
    "        ax = [ax]\n",
    "        \n",
    "    else:\n",
    "        n_cols = min(6, len(values))\n",
    "        total_plots = len(values)\n",
    "        n_rows = total_plots // n_cols\n",
    "\n",
    "        if total_plots % n_cols > 0:\n",
    "            n_rows += 1\n",
    "\n",
    "        fig, ax = plt.subplots(n_rows, n_cols, figsize=(n_cols * 3.5, n_rows * 3.0))\n",
    "        ax = ax.flatten()\n",
    "    \n",
    "    # is the first value 2d or 3d\n",
    "    is_atm_2d = True\n",
    "    key3d = [kk for kk in list(nml_dict.keys()) if kk.endswith('atm_3d')]\n",
    "    if values[0] in nml_dict[key3d[0]]:\n",
    "        is_atm_2d = False\n",
    "        \n",
    "    if is_atm_2d: # fieldmean\n",
    "        for exp_name, lc in zip(experiments_to_compare, colors):\n",
    "            infile = os.path.join(exp_root, exp_name, f'{exp_name}_atm_2d_ml_20080801T000000Z.nc')\n",
    "        \n",
    "            # obtain time steps for plotting\n",
    "            with xr.open_dataset(infile) as ds:\n",
    "                ds = ds.load()\n",
    "    \n",
    "            time_steps = ds['time'].values\n",
    "            time_steps -= time_steps[0]\n",
    "            time_steps *= 24 * 60 # time steps in minutes\n",
    "\n",
    "            for i, value in enumerate(values):\n",
    "                x_fldmean = cdo.fldmean(input='-selname,' + value + ' ' + infile, returnXArray=value).squeeze()\n",
    "    \n",
    "                if len(x_fldmean.shape) == 0:\n",
    "                    print(f'Skipping {value} of scalar dimension after averaging')\n",
    "                    continue\n",
    "    \n",
    "                ax[i].plot(time_steps, x_fldmean, lw=2, label=exp_name, color=lc)\n",
    "        \n",
    "                # get labels and units\n",
    "                long_name = x_fldmean.attrs['long_name']\n",
    "                units = x_fldmean.attrs['units']\n",
    "    \n",
    "                lbl = f'{value} ({units})'\n",
    "    \n",
    "                ax[i].set_xlabel('Time (minutes)')\n",
    "                ax[i].set_ylabel(lbl)\n",
    "                ax[i].set_title(long_name)\n",
    "                ax[i].legend()\n",
    "    \n",
    "    else: # vertmean(fieldmean)    \n",
    "        for exp_name, lc in zip(experiments_to_compare, colors):\n",
    "            infile = os.path.join(exp_root, exp_name, f'{exp_name}_atm_3d_ml_20080801T000000Z.nc')\n",
    "            \n",
    "            # obtain time steps for plotting\n",
    "            with xr.open_dataset(infile) as ds:\n",
    "                ds = ds.load()\n",
    "    \n",
    "            time_steps = ds['time'].values\n",
    "            time_steps -= time_steps[0]\n",
    "            time_steps *= 24 * 60 # time steps in minutes\n",
    "\n",
    "            for i, value in enumerate(values):\n",
    "                x_fldmean = cdo.vertmean(input='-fldmean -selname,' + value + ' ' + infile, returnXArray=value).squeeze()\n",
    "    \n",
    "                ax[i].plot(time_steps, x_fldmean, lw=2, label=exp_name, color=lc)\n",
    "                \n",
    "                # get labels and units\n",
    "                long_name = x_fldmean.attrs['long_name']\n",
    "                units = x_fldmean.attrs['units']\n",
    "    \n",
    "                lbl = f'{value} ({units})'\n",
    "    \n",
    "                ax[i].set_xlabel('Time (minutes)')\n",
    "                ax[i].set_ylabel(lbl)\n",
    "                ax[i].set_title(long_name)\n",
    "                ax[i].legend()\n",
    "        \n",
    "\n",
    "    fig.tight_layout()\n",
    "        \n",
    "    if savefig:\n",
    "        target = 'compare'\n",
    "        for exp_name in experiments_to_compare:\n",
    "            target += f'_{exp_name}'\n",
    "            \n",
    "        for value in values:\n",
    "            target += f'_{value}'\n",
    "        \n",
    "        plt.savefig(os.path.join(target_plot_dir, f'{target}.png'), dpi=150, bbox_inches='tight')"
   ]
  },
  {
   "cell_type": "code",
   "execution_count": null,
   "id": "c5196b75-4144-49b2-90a5-ca06a2b1a9eb",
   "metadata": {},
   "outputs": [],
   "source": [
    "experiments_to_compare=['cold_bubble_fortran', 'cold_bubble_cffi']"
   ]
  },
  {
   "cell_type": "code",
   "execution_count": null,
   "id": "3956256f-df27-4465-81e0-6365140c2944",
   "metadata": {},
   "outputs": [],
   "source": [
    "make_comparison_plot(experiments_to_compare=experiments_to_compare, values='theta_v', savefig=True)"
   ]
  },
  {
   "cell_type": "code",
   "execution_count": null,
   "id": "e6f9d5e5-a7b6-4542-a6ec-94fcc10e74a1",
   "metadata": {},
   "outputs": [],
   "source": [
    "make_comparison_plot(experiments_to_compare=experiments_to_compare, values=['ua', 'va'], savefig=True)"
   ]
  },
  {
   "cell_type": "code",
   "execution_count": null,
   "id": "7edad5bc-9285-44a1-b756-7821ffabc49e",
   "metadata": {},
   "outputs": [],
   "source": [
    "make_comparison_plot(experiments_to_compare=experiments_to_compare, values=['clw', 'cli', 'qr', 'qs', 'qg', 'qh'])"
   ]
  },
  {
   "cell_type": "code",
   "execution_count": null,
   "id": "68b7d869-1a54-4a17-ba84-3671d2e07d06",
   "metadata": {},
   "outputs": [],
   "source": [
    "make_comparison_plot(experiments_to_compare=experiments_to_compare, values=['qnc', 'qni', 'qnr', 'qns', 'qng', 'qnh'])"
   ]
  },
  {
   "cell_type": "markdown",
   "id": "610b9b3e-6a09-42fa-bf97-f08e7ed404a5",
   "metadata": {},
   "source": [
    "## Vertical plots at different time stamps"
   ]
  },
  {
   "cell_type": "code",
   "execution_count": null,
   "id": "6352c2a2-fbb6-4abc-8e96-376eb5bb9cea",
   "metadata": {},
   "outputs": [],
   "source": [
    "def make_vertical_comparison_plot(experiments_to_compare=['warm_bubble_fortran', 'warm_bubble_cffi'], \n",
    "                                  value='theta_v', \n",
    "                                  colors=['C0', 'C3'], \n",
    "                                  times=['00:00:00', '00:20:00', '00:40:00', '01:00:00', '01:20:00', '01:40:00'], \n",
    "                                  max_height=7000,\n",
    "                                  savefig=True):\n",
    "    '''\n",
    "    Compare field averaged value across several experiments\n",
    "    Plots the vertical profile for the given time stamps\n",
    "    \n",
    "    Args:\n",
    "        experiments_to_compare (list): experiment names\n",
    "        value (string): parameter value (from atm_3d)\n",
    "        colors (list): colors to use in the plot\n",
    "        times (list): timestamps to use\n",
    "        max_height (float): maximum geometric height to display\n",
    "        savefig (bool): if True, save the generated figure\n",
    "    '''\n",
    "    \n",
    "    n_cols = len(experiments_to_compare)\n",
    "    n_rows = 1 #total_plots // n_cols\n",
    "\n",
    "    fig, ax = plt.subplots(n_rows, n_cols, figsize=(n_cols * 3.5, n_rows * 4.0))\n",
    "    ax = ax.flatten()\n",
    "    \n",
    "    # is the first value 2d or 3d\n",
    "    is_atm_2d = True\n",
    "    key3d = [kk for kk in list(nml_dict.keys()) if kk.endswith('atm_3d')]\n",
    "    if value in nml_dict[key3d[0]]:\n",
    "        is_atm_2d = False\n",
    "        \n",
    "    if is_atm_2d: # not applicable\n",
    "        return\n",
    "    \n",
    "    for i, exp_name in enumerate(experiments_to_compare):\n",
    "        infile = os.path.join(exp_root, exp_name, f'{exp_name}_atm_3d_ml_20080801T000000Z.nc')\n",
    "        \n",
    "        zg = cdo.fldmean(input='-selname,' + 'zg' + ' ' + infile, returnXArray='zg').squeeze().values\n",
    "        \n",
    "        for time in times:\n",
    "            t_fldmean = cdo.seltime(time, input='-fldmean -selname,' + value + ' ' + infile, returnXArray=value).squeeze()\n",
    "            ax[i].plot(t_fldmean, zg, label=time)\n",
    "                \n",
    "        # get labels and units\n",
    "        long_name = t_fldmean.attrs['long_name']\n",
    "        units = t_fldmean.attrs['units']\n",
    "    \n",
    "        lbl = f'{long_name} ({units})'\n",
    "    \n",
    "        ax[i].set_xlabel(lbl)\n",
    "        ax[i].set_ylabel('Geometric height (m)')\n",
    "        ax[i].set_title(exp_name)\n",
    "        ax[i].legend()\n",
    "        ax[i].set_ylim(0, max_height)\n",
    "\n",
    "    fig.tight_layout()\n",
    "        \n",
    "    if savefig:\n",
    "        target = 'compare'\n",
    "        for exp_name in experiments_to_compare:\n",
    "            target += f'_{exp_name}'\n",
    "        \n",
    "        plt.savefig(os.path.join(target_plot_dir, f'{target}_time_series_{value}.png'), dpi=150, bbox_inches='tight')"
   ]
  },
  {
   "cell_type": "code",
   "execution_count": null,
   "id": "0b71f291-e13a-4fa3-bb47-28ee84d22568",
   "metadata": {},
   "outputs": [],
   "source": [
    "make_vertical_comparison_plot(value='hus', experiments_to_compare=['warm_bubble_fortran', 'warm_bubble_cffi'])"
   ]
  },
  {
   "cell_type": "code",
   "execution_count": null,
   "id": "7627c1ce-baa3-4613-af65-fd148f376fec",
   "metadata": {},
   "outputs": [],
   "source": [
    "make_vertical_comparison_plot(value='ta', experiments_to_compare=['warm_bubble_xy_fortran', 'warm_bubble_xy_cffi'])"
   ]
  },
  {
   "cell_type": "code",
   "execution_count": null,
   "id": "5ebe9d8a-918e-442f-96c4-7f1719e771dc",
   "metadata": {},
   "outputs": [],
   "source": [
    "make_vertical_comparison_plot(value='ta', experiments_to_compare=['warm_bubble_fortran', 'warm_bubble_1mom_fortran'])"
   ]
  },
  {
   "cell_type": "code",
   "execution_count": null,
   "id": "f73aa60e-cd1f-466f-a502-50649dce3c60",
   "metadata": {},
   "outputs": [],
   "source": [
    "make_vertical_comparison_plot(value='ta', experiments_to_compare=['warm_bubble_fortran', 'warm_bubble_cffi', 'cold_bubble_fortran', 'cold_bubble_cffi'])"
   ]
  },
  {
   "cell_type": "code",
   "execution_count": null,
   "id": "a39b7ae3-b038-4d13-97f4-a50433cf30cb",
   "metadata": {},
   "outputs": [],
   "source": [
    "make_vertical_comparison_plot(value='theta_v', experiments_to_compare=['warm_bubble_fortran', 'warm_bubble_cffi', 'cold_bubble_fortran', 'cold_bubble_cffi'])"
   ]
  },
  {
   "cell_type": "code",
   "execution_count": null,
   "id": "2f34aedc-a0c7-4fdf-8e72-c47610e0e90e",
   "metadata": {},
   "outputs": [],
   "source": [
    "make_vertical_comparison_plot(value='hus', experiments_to_compare=['warm_bubble_fortran', 'warm_bubble_cffi', 'cold_bubble_fortran', 'cold_bubble_cffi'])"
   ]
  },
  {
   "cell_type": "code",
   "execution_count": null,
   "id": "c65e8e32-9bca-4a01-a664-8b0929a0aee6",
   "metadata": {},
   "outputs": [],
   "source": [
    "make_vertical_comparison_plot(value='cli', experiments_to_compare=['warm_bubble_fortran', 'warm_bubble_cffi', 'cold_bubble_fortran', 'cold_bubble_cffi'])"
   ]
  },
  {
   "cell_type": "code",
   "execution_count": null,
   "id": "b23e03a2-a1a8-4465-b587-7a3963dc1191",
   "metadata": {},
   "outputs": [],
   "source": [
    "make_vertical_comparison_plot(value='qg', experiments_to_compare=['warm_bubble_fortran', 'warm_bubble_cffi', 'cold_bubble_fortran', 'cold_bubble_cffi'])"
   ]
  },
  {
   "cell_type": "code",
   "execution_count": null,
   "id": "3cc00c20-b4c0-448b-b6db-832de2fce3ae",
   "metadata": {},
   "outputs": [],
   "source": [
    "make_vertical_comparison_plot(value='qs', experiments_to_compare=['warm_bubble_fortran', 'warm_bubble_cffi', 'cold_bubble_fortran', 'cold_bubble_cffi'])"
   ]
  },
  {
   "cell_type": "code",
   "execution_count": null,
   "id": "9e064341-cf26-4e8c-831c-0068938d7f0a",
   "metadata": {},
   "outputs": [],
   "source": [
    "make_vertical_comparison_plot(value='clw', experiments_to_compare=['warm_bubble_fortran', 'warm_bubble_cffi', 'cold_bubble_fortran', 'cold_bubble_cffi'])"
   ]
  },
  {
   "cell_type": "code",
   "execution_count": null,
   "id": "125a8c12-5aae-4fdf-847d-ad3ef81c2da3",
   "metadata": {},
   "outputs": [],
   "source": [
    "make_vertical_comparison_plot(value='qr', experiments_to_compare=['warm_bubble_fortran', 'warm_bubble_cffi', 'cold_bubble_fortran', 'cold_bubble_cffi'])"
   ]
  },
  {
   "cell_type": "code",
   "execution_count": null,
   "id": "11eced27-8ccc-4f1c-8b64-52e0a136586c",
   "metadata": {},
   "outputs": [],
   "source": []
  },
  {
   "cell_type": "markdown",
   "id": "343e9256-7be4-46eb-a8b4-2d202a150048",
   "metadata": {},
   "source": [
    "## Bubble"
   ]
  },
  {
   "cell_type": "code",
   "execution_count": null,
   "id": "535d6778-47a8-4507-abf4-35dcc6317e5e",
   "metadata": {},
   "outputs": [],
   "source": [
    "with xr.open_dataset(infile) as tmp:\n",
    "    ta = tmp['ta']\n",
    "    tmp.close()"
   ]
  },
  {
   "cell_type": "code",
   "execution_count": null,
   "id": "97ef5327-95aa-4ae5-967a-9c8512d3099d",
   "metadata": {},
   "outputs": [],
   "source": [
    "plt.scatter(ta.clon, ta.clat, c=ta[0, -1])\n",
    "plt.colorbar()"
   ]
  },
  {
   "cell_type": "markdown",
   "id": "f3f2bbeb-ffbd-4070-90fb-cc7b33c36da7",
   "metadata": {},
   "source": [
    "## Moments only"
   ]
  },
  {
   "cell_type": "code",
   "execution_count": null,
   "id": "9dde73c0-0278-4942-883e-f04d2035824b",
   "metadata": {},
   "outputs": [],
   "source": [
    "def scatter_moments(experiments_to_compare=['warm_bubble_fortran', 'warm_bubble_cffi'],\n",
    "                    value='qr',\n",
    "                    times=['00:00:00', '00:20:00', '00:40:00', '01:00:00', '01:20:00', '01:40:00'], \n",
    "                    avg='vertmean',\n",
    "                    savefig=True\n",
    "                   ):\n",
    "    '''\n",
    "    \n",
    "    \n",
    "    '''\n",
    "    n_cols = len(times)\n",
    "    n_rows = 1 #total_plots // n_cols\n",
    "\n",
    "    fig, ax = plt.subplots(n_rows, n_cols, figsize=(n_cols * 3.5, n_rows * 4.0), sharex=True, sharey=True)\n",
    "    ax = ax.flatten()\n",
    "    [axx.set_aspect('equal') for axx in ax]\n",
    "    \n",
    "    # is the first value 2d or 3d\n",
    "    is_atm_2d = True\n",
    "    key3d = [kk for kk in list(nml_dict.keys()) if kk.endswith('atm_3d')]\n",
    "    if value in nml_dict[key3d[0]]:\n",
    "        is_atm_2d = False\n",
    "        \n",
    "    if is_atm_2d: # not applicable\n",
    "        return\n",
    "    \n",
    "    for i, time in enumerate(times):\n",
    "        #if time != '00:40:00':\n",
    "        #    continue\n",
    "        print(time)\n",
    "            \n",
    "        t_vals = []\n",
    "        \n",
    "        for j, exp_name in enumerate(experiments_to_compare):\n",
    "            infile = os.path.join(exp_root, exp_name, f'{exp_name}_atm_3d_ml_20080801T000000Z.nc')\n",
    "        \n",
    "            t_val = cdo.seltime(time, input='-' + avg + ' -selname,' + value + ' ' + infile, returnXArray=value).squeeze()\n",
    "            t_vals.append(t_val.values)\n",
    "            \n",
    "        ax[i].scatter(t_vals[0], t_vals[1])\n",
    "                            \n",
    "        ax[i].set_xlabel(f'{value} ({experiments_to_compare[0]})')\n",
    "        ax[i].set_ylabel(f'{value} ({experiments_to_compare[1]})')\n",
    "        ax[i].set_title(time)\n",
    "\n",
    "    fig.tight_layout()\n",
    "        \n",
    "    if savefig:\n",
    "        target = 'compare'\n",
    "        for exp_name in experiments_to_compare:\n",
    "            target += f'_{exp_name}'\n",
    "        \n",
    "        plt.savefig(os.path.join(target_plot_dir, f'{target}_scatter_{value}_{avg}.png'), dpi=150, bbox_inches='tight')\n",
    "    "
   ]
  },
  {
   "cell_type": "code",
   "execution_count": null,
   "id": "42c74de5-8141-484a-b00c-b3cb18d58a29",
   "metadata": {},
   "outputs": [],
   "source": [
    "scatter_moments(value='qnr')"
   ]
  },
  {
   "cell_type": "code",
   "execution_count": null,
   "id": "882ff369-222a-4bb6-94e5-eca652dea59c",
   "metadata": {},
   "outputs": [],
   "source": [
    "def hovmoller_time(experiments_to_compare=['warm_bubble_fortran', 'warm_bubble_cffi'],\n",
    "                    value='qr',\n",
    "                    max_height=10000,\n",
    "                    cmap='viridis',\n",
    "                    same_cmap=True,\n",
    "                    savefig=True\n",
    "                   ):\n",
    "    '''\n",
    "    \n",
    "    '''\n",
    "    n_cols = len(experiments_to_compare)\n",
    "    n_rows = 1 #total_plots // n_cols\n",
    "\n",
    "    fig, ax = plt.subplots(n_rows, n_cols, figsize=(n_cols * 4.5, n_rows * 4.0), sharex=True, sharey=True)\n",
    "    ax = ax.flatten()\n",
    "    [axx.set_aspect('equal') for axx in ax]\n",
    "    \n",
    "    # is the first value 2d or 3d\n",
    "    is_atm_2d = True\n",
    "    key3d = [kk for kk in list(nml_dict.keys()) if kk.endswith('atm_3d')]\n",
    "    if value in nml_dict[key3d[0]]:\n",
    "        is_atm_2d = False\n",
    "        \n",
    "    if is_atm_2d: # not applicable\n",
    "        return\n",
    "    \n",
    "    all_tvals = []\n",
    "    \n",
    "    for i, exp_name in enumerate(experiments_to_compare):\n",
    "        infile = os.path.join(exp_root, exp_name, f'{exp_name}_atm_3d_ml_20080801T000000Z.nc')\n",
    "        \n",
    "        zg = cdo.fldmean(input='-selname,' + 'zg' + ' ' + infile, returnXArray='zg').squeeze().values\n",
    "        t_val = cdo.fldmean(input='-selname,' + value + ' ' + infile, returnXArray=value).squeeze()\n",
    "        all_tvals.append(t_val)\n",
    "        \n",
    "    if same_cmap:\n",
    "        vmin = np.min( all_tvals )\n",
    "        vmax = np.max( all_tvals )\n",
    "    else:\n",
    "        vmin = None\n",
    "        vmax = None\n",
    "        \n",
    "    for i, exp_name in enumerate(experiments_to_compare):\n",
    "        \n",
    "        t0  = 0\n",
    "        t1 = 120\n",
    "        img = ax[i].imshow(all_tvals[i].T, aspect='auto', extent=[t0, t1, zg[-1], zg[0]], cmap=cmap, vmin=vmin, vmax=vmax)\n",
    "        ax[i].set_ylim(0, max_height)\n",
    "                            \n",
    "        ax[i].set_xlabel('Time (minutes)')\n",
    "        ax[i].set_ylabel('Geometric height (m)')\n",
    "        ax[i].set_title(exp_name)\n",
    "        plt.colorbar(img, ax=ax[i], label=value)\n",
    "\n",
    "    fig.tight_layout()\n",
    "        \n",
    "    if savefig:\n",
    "        target = 'compare'\n",
    "        for exp_name in experiments_to_compare:\n",
    "            target += f'_{exp_name}'\n",
    "        \n",
    "        plt.savefig(os.path.join(target_plot_dir, f'{target}_hovmoller_time_{value}.png'), dpi=150, bbox_inches='tight')\n",
    "    "
   ]
  },
  {
   "cell_type": "code",
   "execution_count": null,
   "id": "9925d13f-b1bc-46b8-b921-66e07756a218",
   "metadata": {},
   "outputs": [],
   "source": [
    "hovmoller_time(value='clw')"
   ]
  },
  {
   "cell_type": "code",
   "execution_count": null,
   "id": "3e409249-aedd-4a0e-bd99-0cf8b3ae7b6d",
   "metadata": {},
   "outputs": [],
   "source": [
    "hovmoller_time(value='qr')"
   ]
  },
  {
   "cell_type": "code",
   "execution_count": null,
   "id": "3c124110-e791-4335-ad51-5dd0d707cd16",
   "metadata": {},
   "outputs": [],
   "source": [
    "hovmoller_time(value='qs', experiments_to_compare=['cold_bubble_fortran', 'cold_bubble_cffi'])"
   ]
  },
  {
   "cell_type": "code",
   "execution_count": null,
   "id": "d16d0f19-75e6-495a-8aa1-20711511cc37",
   "metadata": {},
   "outputs": [],
   "source": [
    "hovmoller_time(value='qnr')"
   ]
  },
  {
   "cell_type": "code",
   "execution_count": null,
   "id": "ed2dd599-58c7-438f-9746-e4eb9ae3685f",
   "metadata": {},
   "outputs": [],
   "source": [
    "hovmoller_time(value='qnc')"
   ]
  },
  {
   "cell_type": "code",
   "execution_count": null,
   "id": "f9f81a33-0725-4a0b-a8fc-fffacea6aba6",
   "metadata": {},
   "outputs": [],
   "source": [
    "hovmoller_time(value='ta', experiments_to_compare=['cold_bubble_fortran', 'cold_bubble_cffi'])"
   ]
  },
  {
   "cell_type": "code",
   "execution_count": null,
   "id": "7f681669-e1f3-4815-8036-035feabcdf75",
   "metadata": {},
   "outputs": [],
   "source": [
    "hovmoller_time(value='ua', cmap='RdBu')"
   ]
  },
  {
   "cell_type": "code",
   "execution_count": null,
   "id": "b66c2c50-6427-40ee-acfe-8fd7ee41c109",
   "metadata": {},
   "outputs": [],
   "source": [
    "hovmoller_time(value='va', cmap='RdBu')"
   ]
  },
  {
   "cell_type": "markdown",
   "id": "bac733d9-ff2f-4ba4-b9b4-1bb4a1ea788f",
   "metadata": {},
   "source": [
    "## Regridding"
   ]
  },
  {
   "cell_type": "markdown",
   "id": "7c0dc201-00cb-4e37-8ee7-d98d65c9dd1b",
   "metadata": {},
   "source": [
    "Define a latlon grid. Call to cdo for interpolation weights."
   ]
  },
  {
   "cell_type": "code",
   "execution_count": null,
   "id": "a2c051c7-bf99-451f-b6c2-ebaadabe5bf8",
   "metadata": {},
   "outputs": [],
   "source": [
    "torus = xr.open_dataset(f'{exp_root}/{exp_name}/Torus_Triangles_20x22_5000m.nc').load()\n",
    "torus"
   ]
  },
  {
   "cell_type": "code",
   "execution_count": null,
   "id": "194fb294-e4c1-438a-be25-ec2c80e267cb",
   "metadata": {},
   "outputs": [],
   "source": [
    "np.rad2deg(-0.164) * 2 / 22"
   ]
  },
  {
   "cell_type": "code",
   "execution_count": null,
   "id": "3984a2d7-c763-488c-b109-d1c4420ec2a9",
   "metadata": {},
   "outputs": [],
   "source": [
    "with open(f'{exp_root}/{exp_name}/remap_griddes.txt', 'w') as f:\n",
    "    f.write(\n",
    "'''\n",
    "# gridID 1\n",
    "#\n",
    "gridtype  = lonlat\n",
    "gridsize  = 440\n",
    "xsize     = 20\n",
    "ysize     = 22\n",
    "xname     = x\n",
    "xlongname = \"x_zonal\"\n",
    "xunits    = \"degrees_east\"\n",
    "yname     = y\n",
    "ylongname = \"y_meridional\"\n",
    "yunits    = \"degrees_north\"\n",
    "xfirst    = -179.95\n",
    "xinc      = 18\n",
    "yfirst    = -9.5\n",
    "yinc      = 0.85\n",
    "'''\n",
    "    )"
   ]
  },
  {
   "cell_type": "code",
   "execution_count": null,
   "id": "3e392907-3a4a-409f-9de4-148ad4810dcc",
   "metadata": {},
   "outputs": [],
   "source": [
    "%%time\n",
    "cdo.gendis(f'{exp_root}/{exp_name}/remap_griddes.txt', input=f'-setgrid,{exp_root}/{exp_name}/Torus_Triangles_20x22_5000m.nc {exp_root}/{exp_name}/{exp_name}_atm_2d_ml_20080801T000000Z.nc',\n",
    "           output=f'{exp_root}/{exp_name}/weightfile_{exp_name}.nc')"
   ]
  },
  {
   "cell_type": "markdown",
   "id": "d6cec9af-8898-4954-981d-dfba82933bf9",
   "metadata": {},
   "source": [
    "Remap the experiment files (saved in orignal experiment directory)\n",
    "- expfile.nc --> remap_expfile.nc"
   ]
  },
  {
   "cell_type": "code",
   "execution_count": null,
   "id": "56e26403-5deb-41e4-9dfe-bffe3c45d76e",
   "metadata": {},
   "outputs": [],
   "source": [
    "%%time\n",
    "cdo.remap(f'{exp_root}/{exp_name}/remap_griddes.txt,{exp_root}/{exp_name}/weightfile_{exp_name}.nc',\n",
    "          input=f'{exp_root}/{exp_name}/{exp_name}_atm_2d_ml_20080801T000000Z.nc',\n",
    "          output=f'{exp_root}/{exp_name}/remap_{exp_name}_atm_2d_ml_20080801T000000Z.nc')"
   ]
  },
  {
   "cell_type": "code",
   "execution_count": null,
   "id": "c696bb10-e65f-4fda-8fb0-0000e55b4c4c",
   "metadata": {},
   "outputs": [],
   "source": [
    "%%time\n",
    "cdo.remap(f'{exp_root}/{exp_name}/remap_griddes.txt,{exp_root}/{exp_name}/weightfile_{exp_name}.nc',\n",
    "          input=f'{exp_root}/{exp_name}/{exp_name}_atm_3d_ml_20080801T000000Z.nc',\n",
    "          output=f'{exp_root}/{exp_name}/remap_{exp_name}_atm_3d_ml_20080801T000000Z.nc')"
   ]
  },
  {
   "cell_type": "code",
   "execution_count": null,
   "id": "6cc60245-5344-4f92-940b-e9bf469fa804",
   "metadata": {},
   "outputs": [],
   "source": [
    "with xr.open_dataset(f'{exp_root}/{exp_name}/remap_{exp_name}_atm_3d_ml_20080801T000000Z.nc') as tmp:\n",
    "    test = tmp.load()\n",
    "test"
   ]
  },
  {
   "cell_type": "code",
   "execution_count": null,
   "id": "bdbe8a32-4f0a-46e3-a091-cea459627a81",
   "metadata": {},
   "outputs": [],
   "source": [
    "plt.imshow(test['ta'][0][-1])"
   ]
  },
  {
   "cell_type": "code",
   "execution_count": null,
   "id": "dc05739a-14fc-41ed-a31f-5ca82237df57",
   "metadata": {},
   "outputs": [],
   "source": [
    "def hovmoller_diagrams(value,\n",
    "                       max_height=10000,\n",
    "                       cmap='viridis',\n",
    "                       share_cmap=True,\n",
    "                       use_scn=True,\n",
    "                       experiments_to_compare=['warm_bubble_fortran', 'warm_bubble_cffi'],\n",
    "                       symmetric_cmap=False):\n",
    "    '''\n",
    "    Generate Hovmoller diagrams of regridded quantities\n",
    "    \n",
    "    Args:\n",
    "      value (str): value to plot\n",
    "      max_height (int, float): maximum geometric height\n",
    "      cmap (str): matplotlib colormap\n",
    "      share_cmap (bool): if True, share colormap between all axes\n",
    "      use_scn (bool): if True, use scientific notation in colorbar ticklabels\n",
    "      experiments_to_compare (list): experiments to compare (one row = one experiment)\n",
    "      symmetric_cmap (bool): if True, use symmetric vmin/vmax on colormaps (for values that center around 0)\n",
    "    \n",
    "    '''\n",
    "    \n",
    "    if share_cmap and len(experiments_to_compare)>1:\n",
    "        raise ValueError(\"Do not share cmap for more than one experiment\")\n",
    "    \n",
    "    if use_scn:\n",
    "        formatter = ticker.ScalarFormatter(useMathText=True)\n",
    "        formatter.set_scientific(True) \n",
    "        formatter.set_powerlimits((-1,1))\n",
    "    else:\n",
    "        formatter = lambda x, _: f\"{x:.0f}\"\n",
    "        \n",
    "    fig, ax = plt.subplots(len(experiments_to_compare), 3, sharex=True, figsize=(4*3, len(experiments_to_compare) * 4.5))\n",
    "    \n",
    "    if share_cmap:\n",
    "        v_zonal = cdo.zonmean(input=f'-vertmean -selname,{value} {exp_root}/{exp_name}/remap_{exp_name}_atm_3d_ml_20080801T000000Z.nc', returnXArray=value).squeeze()\n",
    "        v_meridional = cdo.mermean(input=f'-vertmean -selname,{value} {exp_root}/{exp_name}/remap_{exp_name}_atm_3d_ml_20080801T000000Z.nc', returnXArray=value).squeeze()\n",
    "        v_vertical = cdo.fldmean(input=f'-selname,{value} {exp_root}/{exp_name}/remap_{exp_name}_atm_3d_ml_20080801T000000Z.nc', returnXArray=value).squeeze()\n",
    "    \n",
    "        # helper\n",
    "        zg = cdo.fldmean(input='-selname,' + 'zg' + ' ' + f'{exp_root}/{exp_name}/remap_{exp_name}_atm_3d_ml_20080801T000000Z.nc', returnXArray='zg').squeeze().values\n",
    "        time_steps = v_zonal['time'].values\n",
    "        time_steps -= time_steps[0]\n",
    "        time_steps *= 24 * 60 # time steps in minutes\n",
    "    \n",
    "        vmin = min([v_meridional.min(), v_zonal.min(), v_vertical.min()])\n",
    "        vmax = max([v_meridional.max(), v_zonal.max(), v_vertical.max()])\n",
    "\n",
    "        if symmetric_cmap:\n",
    "            vmin = -np.max(np.abs([vmin, vmax]))\n",
    "            vmax = -vmin\n",
    "    \n",
    "        ax[0].contourf(v_zonal.T, vmin=vmin, vmax=vmax, cmap=cmap)\n",
    "        ax[1].contourf(v_meridional.T, vmin=vmin, vmax=vmax, cmap=cmap)\n",
    "        img = ax[2].contourf(v_vertical.T, vmin=vmin, vmax=vmax, cmap=cmap)\n",
    "        plt.colorbar(img, ax=ax, label=value, format=formatter)\n",
    "        \n",
    "        ax[0].set_xlabel('Time (mins)')\n",
    "        ax[1].set_xlabel('Time (mins)')\n",
    "        ax[2].set_xlabel('Time (mins)')\n",
    "        ax[0].set_ylabel('x direction')\n",
    "        ax[1].set_ylabel('y direction')\n",
    "        ax[2].set_ylabel('Geometric height')\n",
    "    \n",
    "        ax[2].set_ylim(0, max_height)\n",
    "    \n",
    "    else:\n",
    "        \n",
    "        for i, exp_name in enumerate(experiments_to_compare):\n",
    "            if not os.path.exists(f'{exp_root}/{exp_name}/weightfile_{exp_name}.nc'):\n",
    "                with open(f'{exp_root}/{exp_name}/remap_griddes.txt', 'w') as f:\n",
    "                    f.write(\n",
    "'''\n",
    "# gridID 1\n",
    "#\n",
    "gridtype  = lonlat\n",
    "gridsize  = 440\n",
    "xsize     = 20\n",
    "ysize     = 22\n",
    "xname     = x\n",
    "xlongname = \"x_zonal\"\n",
    "xunits    = \"degrees_east\"\n",
    "yname     = y\n",
    "ylongname = \"y_meridional\"\n",
    "yunits    = \"degrees_north\"\n",
    "xfirst    = -179.95\n",
    "xinc      = 18\n",
    "yfirst    = -9.5\n",
    "yinc      = 0.85\n",
    "'''\n",
    "                    )\n",
    "                cdo.gendis(f'{exp_root}/{exp_name}/remap_griddes.txt', input=f'-setgrid,{exp_root}/{exp_name}/Torus_Triangles_20x22_5000m.nc {exp_root}/{exp_name}/{exp_name}_atm_2d_ml_20080801T000000Z.nc',\n",
    "                           output=f'{exp_root}/{exp_name}/weightfile_{exp_name}.nc')\n",
    "            \n",
    "            if not os.path.exists(f'{exp_root}/{exp_name}/remap_{exp_name}_atm_3d_ml_20080801T000000Z.nc'):\n",
    "                cdo.remap(f'{exp_root}/{exp_name}/remap_griddes.txt,{exp_root}/{exp_name}/weightfile_{exp_name}.nc',\n",
    "                          input=f'{exp_root}/{exp_name}/{exp_name}_atm_3d_ml_20080801T000000Z.nc',\n",
    "                          output=f'{exp_root}/{exp_name}/remap_{exp_name}_atm_3d_ml_20080801T000000Z.nc')\n",
    "            \n",
    "            v_zonal = cdo.zonmean(input=f'-vertmean -selname,{value} {exp_root}/{exp_name}/remap_{exp_name}_atm_3d_ml_20080801T000000Z.nc', returnXArray=value).squeeze()\n",
    "            v_meridional = cdo.mermean(input=f'-vertmean -selname,{value} {exp_root}/{exp_name}/remap_{exp_name}_atm_3d_ml_20080801T000000Z.nc', returnXArray=value).squeeze()\n",
    "            v_vertical = cdo.fldmean(input=f'-selname,{value} {exp_root}/{exp_name}/remap_{exp_name}_atm_3d_ml_20080801T000000Z.nc', returnXArray=value).squeeze()\n",
    "        \n",
    "            # helper\n",
    "            zg = cdo.fldmean(input='-selname,' + 'zg' + ' ' + f'{exp_root}/{exp_name}/remap_{exp_name}_atm_3d_ml_20080801T000000Z.nc', returnXArray='zg').squeeze().values\n",
    "            time_steps = v_zonal['time'].values\n",
    "            time_steps -= time_steps[0]\n",
    "            time_steps *= 24 * 60 # time steps in minutes\n",
    "        \n",
    "            img = ax[i, 0].contourf(time_steps, np.arange(22), v_zonal.T, cmap=cmap)\n",
    "            plt.colorbar(img, ax=ax[i, 0], label=value, location='bottom', format=formatter)\n",
    "            img = ax[i, 1].contourf(time_steps, np.arange(20), v_meridional.T, cmap=cmap)\n",
    "            plt.colorbar(img, ax=ax[i, 1], label=value, location='bottom', format=formatter)\n",
    "            img = ax[i, 2].contourf(time_steps, zg, v_vertical.T, cmap=cmap)\n",
    "            plt.colorbar(img, ax=ax[i, 2], label=value, location='bottom', format=formatter)\n",
    "    \n",
    "            ax[i, 0].set_xlabel('Time (mins)')\n",
    "            ax[i, 1].set_xlabel('Time (mins)')\n",
    "            ax[i, 2].set_xlabel('Time (mins)')\n",
    "            ax[i, 0].set_ylabel('x direction')\n",
    "            ax[i, 1].set_ylabel('y direction')\n",
    "            ax[i, 2].set_ylabel('Geometric height')\n",
    "    \n",
    "            ax[i, 2].set_ylim(0, max_height)\n",
    "\n",
    "    \n",
    "        fig.tight_layout()\n",
    "    \n",
    "    plt.savefig(f'./analysis_plots/hovmoller_{exp_name}_{value}.png', dpi=150, bbox_inches='tight')\n",
    "    "
   ]
  },
  {
   "cell_type": "code",
   "execution_count": null,
   "id": "02f5ca3a-b7bf-4046-9a40-6ea4364c075e",
   "metadata": {},
   "outputs": [],
   "source": [
    "hovmoller_diagrams('ua', cmap='Spectral', symmetric_cmap=True, share_cmap=True)"
   ]
  },
  {
   "cell_type": "code",
   "execution_count": null,
   "id": "5b957a24-7cc3-4df6-b160-874d4f8be337",
   "metadata": {},
   "outputs": [],
   "source": [
    "hovmoller_diagrams('va', cmap='Spectral', symmetric_cmap=True, share_cmap=False)"
   ]
  },
  {
   "cell_type": "code",
   "execution_count": null,
   "id": "bf4c7813-e46e-4949-8390-4bc5a11cb00b",
   "metadata": {},
   "outputs": [],
   "source": [
    "hovmoller_diagrams('qr', cmap='Blues', symmetric_cmap=False, share_cmap=False, experiments_to_compare=['warm_bubble_fortran', 'warm_bubble_cffi', 'cold_bubble_fortran', 'cold_bubble_cffi'])"
   ]
  },
  {
   "cell_type": "code",
   "execution_count": null,
   "id": "aabfdae2-ec40-474f-afd8-4ce352dde455",
   "metadata": {},
   "outputs": [],
   "source": [
    "hovmoller_diagrams('qnr', cmap='Blues', symmetric_cmap=False, share_cmap=False, experiments_to_compare=['warm_bubble_fortran', 'warm_bubble_cffi', 'cold_bubble_fortran', 'cold_bubble_cffi'])"
   ]
  },
  {
   "cell_type": "code",
   "execution_count": null,
   "id": "c9d6678e-1507-433b-8f2a-90350a463a33",
   "metadata": {},
   "outputs": [],
   "source": [
    "hovmoller_diagrams('cli', cmap='Blues', symmetric_cmap=False, share_cmap=False, experiments_to_compare=['warm_bubble_fortran', 'warm_bubble_cffi', 'cold_bubble_fortran', 'cold_bubble_cffi'])"
   ]
  },
  {
   "cell_type": "code",
   "execution_count": null,
   "id": "7befc188-ab68-4640-a392-e7ae05dc4f16",
   "metadata": {},
   "outputs": [],
   "source": [
    "hovmoller_diagrams('qni', cmap='Blues', symmetric_cmap=False, share_cmap=False, experiments_to_compare=['warm_bubble_fortran', 'warm_bubble_cffi', 'cold_bubble_fortran', 'cold_bubble_cffi'])"
   ]
  },
  {
   "cell_type": "code",
   "execution_count": null,
   "id": "5eca8a6e-855d-4546-966a-3676f3085c22",
   "metadata": {},
   "outputs": [],
   "source": [
    "hovmoller_diagrams('qs', cmap='Blues', symmetric_cmap=False, share_cmap=False, experiments_to_compare=['warm_bubble_fortran', 'warm_bubble_cffi', 'cold_bubble_fortran', 'cold_bubble_cffi'])"
   ]
  },
  {
   "cell_type": "code",
   "execution_count": null,
   "id": "67b5be51-b671-4ae2-9963-474a1c15c525",
   "metadata": {},
   "outputs": [],
   "source": [
    "hovmoller_diagrams('qns', cmap='Blues', symmetric_cmap=False, share_cmap=False, experiments_to_compare=['warm_bubble_fortran', 'warm_bubble_cffi', 'cold_bubble_fortran', 'cold_bubble_cffi'])"
   ]
  },
  {
   "cell_type": "code",
   "execution_count": null,
   "id": "7360b946-43ce-47f1-b13f-7ad4c3c78c97",
   "metadata": {},
   "outputs": [],
   "source": [
    "hovmoller_diagrams('ta', cmap='magma', symmetric_cmap=False, share_cmap=False, use_scn=False)"
   ]
  },
  {
   "cell_type": "code",
   "execution_count": null,
   "id": "84323b13-c07c-41f4-853b-c7a29b88cf02",
   "metadata": {},
   "outputs": [],
   "source": [
    "hovmoller_diagrams('theta_v', cmap='magma', symmetric_cmap=False, share_cmap=False, use_scn=False)"
   ]
  },
  {
   "cell_type": "markdown",
   "id": "7fe7de04-ef19-4cf8-ba84-39f68335c3ef",
   "metadata": {},
   "source": [
    "## Individual moments"
   ]
  },
  {
   "cell_type": "code",
   "execution_count": null,
   "id": "61d750d7-1943-4fe1-b11a-a3b94833883c",
   "metadata": {},
   "outputs": [],
   "source": [
    "import re"
   ]
  },
  {
   "cell_type": "code",
   "execution_count": null,
   "id": "19101671-1f45-4764-ac6d-a53a91c91979",
   "metadata": {},
   "outputs": [],
   "source": [
    "log_fortran = os.path.join(exp_root, 'special_logs', 'log_warm_bubble_fortran_DEBUG')\n",
    "log_cffi = os.path.join(exp_root, 'special_logs', 'log_warm_bubble_cffi_DEBUG')"
   ]
  },
  {
   "cell_type": "markdown",
   "id": "25e84770-0f8f-4680-8607-9e9f5f4b726e",
   "metadata": {},
   "source": [
    "First time stamp with non zero input moments for the warm bubble scenario:\n",
    "    \n",
    "    time_stamp = '2008-08-01 00:13:20.000'"
   ]
  },
  {
   "cell_type": "code",
   "execution_count": null,
   "id": "89485734-5a12-4bed-ab7e-27069aff0265",
   "metadata": {},
   "outputs": [],
   "source": [
    "time_stamp = '2008-08-01 00:28:00.000'\n",
    "df_columns = ['time_stamp', 'i', 'k', 'is_mom_in', 'qc', 'nc', 'qr', 'nr']"
   ]
  },
  {
   "cell_type": "code",
   "execution_count": null,
   "id": "e26777d8-a693-4011-a42d-2dc16808d4ea",
   "metadata": {
    "scrolled": true,
    "tags": []
   },
   "outputs": [],
   "source": [
    "def read_moments_from_log(logfile, df_columns):\n",
    "    \n",
    "    dict_mom = {}\n",
    "    for c in df_columns:\n",
    "        dict_mom[c] = []\n",
    "\n",
    "    with open(logfile) as f:\n",
    "        line = f.readline()\n",
    "        is_print = False\n",
    "        in_time_step = False\n",
    "    \n",
    "        while line:\n",
    "        \n",
    "            if is_print and 'two moment mcrph ends' in line:\n",
    "                print(line)\n",
    "                break # stop at the next time step\n",
    "            if time_stamp in line:\n",
    "                in_time_step = True\n",
    "                print(line)\n",
    "            \n",
    "            if in_time_step and 'mo_2mom_mcrph_driver: calling clouds_twomoment' in line:\n",
    "                is_print = True\n",
    "                print(line)\n",
    "            \n",
    "            if is_print and 'mo_2mom_mcrph_main' in line:\n",
    "                moms = [float(x) for x in  re.findall(r'\\d+\\.\\d+E[+-]\\d+', line)]\n",
    "                if len(moms) == 4 and not np.allclose(moms, 0, atol=1e-20):\n",
    "                    ik = re.findall(r'\\(i,\\s*k\\)\\s*=\\s*\\d+\\s*\\d+', line)[0]\n",
    "                    p = re.compile(r'\\d+')\n",
    "                    i, k = [int(x) for x in p.findall(ik)]\n",
    "                \n",
    "                    dict_mom['time_stamp'].append(time_stamp)\n",
    "                    dict_mom['is_mom_in'].append('m_in' in line)\n",
    "                    dict_mom['i'].append(i)\n",
    "                    dict_mom['k'].append(k)\n",
    "                    dict_mom['qc'].append(moms[0])\n",
    "                    dict_mom['nc'].append(moms[1])\n",
    "                    dict_mom['qr'].append(moms[2])\n",
    "                    dict_mom['nr'].append(moms[3])\n",
    "        \n",
    "            line = f.readline()\n",
    "            \n",
    "        df_mom = pd.DataFrame(dict_mom)\n",
    "        df_mom['experiment'] = os.path.basename(logfile)\n",
    "        df_mom['exp_root'] = os.path.dirname(logfile)\n",
    "        return df_mom"
   ]
  },
  {
   "cell_type": "code",
   "execution_count": null,
   "id": "eac6ce64-421e-42a9-954c-0857ab977c73",
   "metadata": {},
   "outputs": [],
   "source": [
    "%%time\n",
    "df_mom_fortran = read_moments_from_log(log_fortran, df_columns)"
   ]
  },
  {
   "cell_type": "code",
   "execution_count": null,
   "id": "74af3b04-9213-4e85-af9e-4de2839ac12a",
   "metadata": {},
   "outputs": [],
   "source": [
    "%%time\n",
    "df_mom_cffi = read_moments_from_log(log_cffi, df_columns)"
   ]
  },
  {
   "cell_type": "code",
   "execution_count": null,
   "id": "e2d937aa-2059-4367-ad7d-343a7b3f350c",
   "metadata": {},
   "outputs": [],
   "source": [
    "df_combined = pd.concat([df_mom_fortran, df_mom_cffi])\n",
    "df_combined.describe()"
   ]
  },
  {
   "cell_type": "code",
   "execution_count": null,
   "id": "a075e5e5-108b-4f7d-aca9-0d9fe877821e",
   "metadata": {},
   "outputs": [],
   "source": [
    "df_combined.groupby(['experiment'])['is_mom_in'].mean()"
   ]
  },
  {
   "cell_type": "markdown",
   "id": "7ffc1cc6-efab-4cf3-91e7-3f4ebc0fbc35",
   "metadata": {},
   "source": [
    "Where do we encounter non-zero moments?"
   ]
  },
  {
   "cell_type": "code",
   "execution_count": null,
   "id": "e0486050-f808-4aaf-874a-4fa6eaebd02d",
   "metadata": {},
   "outputs": [],
   "source": [
    "fig, ax = plt.subplots(1, 2, sharex=True, sharey=True, figsize=(8, 4))\n",
    "sns.scatterplot(data=df_mom_fortran.loc[df_mom_fortran['is_mom_in']], x='i', y='k', ax=ax[0], alpha=0.2)\n",
    "sns.scatterplot(data=df_mom_cffi.loc[df_mom_cffi['is_mom_in']], x='i', y='k', ax=ax[1], color='C1', alpha=0.2)\n",
    "ax[0].set_title(df_mom_fortran['experiment'][0])\n",
    "ax[1].set_title(df_mom_cffi['experiment'][0])\n",
    "fig.tight_layout()"
   ]
  },
  {
   "cell_type": "code",
   "execution_count": null,
   "id": "2315f742-f9f6-4317-a402-654628e3acc9",
   "metadata": {},
   "outputs": [],
   "source": [
    "fig, ax = plt.subplots(1, 4, figsize=(20, 4), sharex=True)\n",
    "ax=ax.flatten()\n",
    "\n",
    "sns.barplot(data=df_combined, x='is_mom_in', y='qc', hue='experiment', ax=ax[0])\n",
    "sns.barplot(data=df_combined, x='is_mom_in', y='qr', hue='experiment', ax=ax[1])\n",
    "sns.barplot(data=df_combined, x='is_mom_in', y='nc', hue='experiment', ax=ax[2])\n",
    "sns.barplot(data=df_combined, x='is_mom_in', y='nr', hue='experiment', ax=ax[3])\n",
    "\n",
    "ax[0].set_xticklabels(['out', 'in']) # keep order!\n",
    "ax[0].invert_xaxis()\n",
    "[axx.set_xlabel('Moment') for axx in ax]\n",
    "\n",
    "fig.tight_layout()"
   ]
  },
  {
   "cell_type": "markdown",
   "id": "d863c0f1-1ea4-4e28-ba26-a293811dd24d",
   "metadata": {},
   "source": [
    "How much do the moments change during the warm rain process?"
   ]
  },
  {
   "cell_type": "code",
   "execution_count": null,
   "id": "871aa43d-6d9f-4b37-ac97-09b8c951b68a",
   "metadata": {},
   "outputs": [],
   "source": [
    "fig, ax = plt.subplots(2, 4, figsize=(18, 8))\n",
    "\n",
    "# fortran\n",
    "ax[0, 0].scatter(df_mom_fortran.loc[df_mom_fortran['is_mom_in']]['qc'], \n",
    "                 df_mom_fortran.loc[~df_mom_fortran['is_mom_in']]['qc'])\n",
    "ax[0, 0].set_title('qc (fortran)')\n",
    "ax[0, 1].scatter(df_mom_fortran.loc[df_mom_fortran['is_mom_in']]['nc'], \n",
    "                 df_mom_fortran.loc[~df_mom_fortran['is_mom_in']]['nc'])\n",
    "ax[0, 1].set_title('nc (fortran)')\n",
    "ax[0, 2].scatter(df_mom_fortran.loc[df_mom_fortran['is_mom_in']]['qr'], \n",
    "                 df_mom_fortran.loc[~df_mom_fortran['is_mom_in']]['qr'])\n",
    "ax[0, 2].set_title('qr (fortran)')\n",
    "ax[0, 3].scatter(df_mom_fortran.loc[df_mom_fortran['is_mom_in']]['nr'], \n",
    "                 df_mom_fortran.loc[~df_mom_fortran['is_mom_in']]['nr'])\n",
    "ax[0, 3].set_title('nr (fortran)')\n",
    "\n",
    "# cffi\n",
    "ax[1, 0].scatter(df_mom_cffi.loc[df_mom_cffi['is_mom_in']]['qc'], \n",
    "                 df_mom_cffi.loc[~df_mom_cffi['is_mom_in']]['qc'])\n",
    "ax[1, 0].set_title('qc (cffi)')\n",
    "ax[1, 1].scatter(df_mom_cffi.loc[df_mom_cffi['is_mom_in']]['nc'], \n",
    "                 df_mom_cffi.loc[~df_mom_cffi['is_mom_in']]['nc'])\n",
    "ax[1, 1].set_title('nc (cffi)')\n",
    "ax[1, 2].scatter(df_mom_cffi.loc[df_mom_cffi['is_mom_in']]['qr'], \n",
    "                 df_mom_cffi.loc[~df_mom_cffi['is_mom_in']]['qr'])\n",
    "ax[1, 2].set_title('qr (cffi)')\n",
    "ax[1, 3].scatter(df_mom_cffi.loc[df_mom_cffi['is_mom_in']]['nr'], \n",
    "                 df_mom_cffi.loc[~df_mom_cffi['is_mom_in']]['nr'])\n",
    "ax[1, 3].set_title('nr (cffi)')\n",
    "\n",
    "[axx.set_xscale('log') for axx in ax.flatten()]\n",
    "[axx.set_yscale('log') for axx in ax.flatten()]\n",
    "[axx.set_aspect('equal') for axx in ax.flatten()]\n",
    "[axx.set_xlabel('Moments in') for axx in ax.flatten()]\n",
    "[axx.set_ylabel('Moments out') for axx in ax.flatten()]\n",
    "\n",
    "for axx in ax.flatten():\n",
    "    x0, x1 = axx.get_xlim()\n",
    "    axx.plot(np.linspace(x0, x1), np.linspace(x0, x1), color='red')\n",
    "\n",
    "fig.tight_layout()\n",
    "\n",
    "plt.show()"
   ]
  },
  {
   "cell_type": "code",
   "execution_count": null,
   "id": "8bc6fb8a-d827-4e73-9812-bb9aaba80c10",
   "metadata": {},
   "outputs": [],
   "source": []
  },
  {
   "cell_type": "code",
   "execution_count": null,
   "id": "8feefde6-4b44-42f4-9e0b-71c34fd71c6a",
   "metadata": {},
   "outputs": [],
   "source": [
    "## debug"
   ]
  },
  {
   "cell_type": "code",
   "execution_count": null,
   "id": "52d36eee-7a85-44a1-850a-62b081f12a16",
   "metadata": {
    "tags": []
   },
   "outputs": [],
   "source": [
    "os.listdir('/"
   ]
  },
  {
   "cell_type": "code",
   "execution_count": null,
   "id": "38ba6d92-1e3e-4fa6-bc22-0dfa5a4357f7",
   "metadata": {
    "tags": []
   },
   "outputs": [],
   "source": [
    "ds = xr.open_dataset('/home/k/k202141/rootgit/icon-aes/experiments/warm_bubble_fortran/warm_bubble_fortran_atm_2d_ml_20080801T000000Z.nc')"
   ]
  },
  {
   "cell_type": "code",
   "execution_count": null,
   "id": "674213d0-329f-4146-9624-c99992a622c2",
   "metadata": {
    "tags": []
   },
   "outputs": [],
   "source": [
    "ds"
   ]
  },
  {
   "cell_type": "code",
   "execution_count": null,
   "id": "4e2e8e06-d9cf-4c48-b864-a8aa90a18247",
   "metadata": {
    "tags": []
   },
   "outputs": [],
   "source": [
    "tmpf = cdo.seltime('00:30:00', input='-fldmean -selname,' + 'qnr' + ' ' + '/home/k/k202141/rootgit/icon-aes/experiments/warm_bubble_fortran/warm_bubble_fortran_atm_3d_ml_20080801T000000Z.nc', returnXArray='qnr').squeeze()"
   ]
  },
  {
   "cell_type": "code",
   "execution_count": null,
   "id": "109c389a-3db1-49cc-a2e0-0f9831cc8793",
   "metadata": {
    "tags": []
   },
   "outputs": [],
   "source": [
    "tmpf2 = cdo.seltime('00:30:00', input='-fldmean -selname,' + 'qr' + ' ' + \\\n",
    "                    '/home/k/k202141/rootgit/icon-aes/experiments/warm_bubble_fortran/warm_bubble_fortran_atm_3d_ml_20080801T000000Z.nc', returnXArray='qr').squeeze()"
   ]
  },
  {
   "cell_type": "code",
   "execution_count": null,
   "id": "0b7aab46-5e9e-456f-9af2-39f101d9db11",
   "metadata": {
    "tags": []
   },
   "outputs": [],
   "source": [
    "tmpc = cdo.seltime('00:30:00', input='-fldmean -selname,' + 'qnr' + ' ' + '/home/k/k202141/rootgit/icon-aes/experiments/warm_bubble_cffi/warm_bubble_cffi_atm_3d_ml_20080801T000000Z.nc', returnXArray='qnr').squeeze()"
   ]
  },
  {
   "cell_type": "code",
   "execution_count": null,
   "id": "4f80b4be-4831-4767-b53a-fba2f10a3677",
   "metadata": {
    "tags": []
   },
   "outputs": [],
   "source": [
    "tmpf"
   ]
  },
  {
   "cell_type": "code",
   "execution_count": null,
   "id": "f58136dc-8cde-4605-af0f-e83ea85a6ce9",
   "metadata": {
    "tags": []
   },
   "outputs": [],
   "source": [
    "tmpf2"
   ]
  },
  {
   "cell_type": "code",
   "execution_count": null,
   "id": "2e51e4a5-bd4f-4562-a301-a8e92366a724",
   "metadata": {
    "tags": []
   },
   "outputs": [],
   "source": [
    "tmpc"
   ]
  },
  {
   "cell_type": "code",
   "execution_count": null,
   "id": "66b94cca-48dc-4c9d-aa6e-75e4253c5134",
   "metadata": {
    "tags": []
   },
   "outputs": [],
   "source": [
    "fig, axs = plt.subplots(1, 4, sharex=True, sharey=True, figsize=(20, 5))\n",
    "axs = axs.flatten()\n",
    "\n",
    "zg = cdo.fldmean(input='-selname,' + 'zg' + ' ' + '/home/k/k202141/rootgit/icon-aes/experiments/warm_bubble_fortran/warm_bubble_fortran_atm_3d_ml_20080801T000000Z.nc', returnXArray='zg').squeeze().values\n",
    "\n",
    "for ax, time in zip(axs, ['00:20:00', '00:25:00', '00:30:00', '00:35:00']):\n",
    "    \n",
    "    tmpf = cdo.seltime(time, input='-fldmean -selname,' + 'qnr' + ' ' + '/home/k/k202141/rootgit/icon-aes/experiments/warm_bubble_fortran/warm_bubble_fortran_atm_3d_ml_20080801T000000Z.nc', returnXArray='qnr').squeeze()    \n",
    "    tmpc = cdo.seltime(time, input='-fldmean -selname,' + 'qnr' + ' ' + '/home/k/k202141/rootgit/icon-aes/experiments/warm_bubble_cffi/warm_bubble_cffi_atm_3d_ml_20080801T000000Z.nc', returnXArray='qnr').squeeze()    \n",
    "    \n",
    "    ax.plot(zg, tmpf.values, label='bulk moment')\n",
    "    ax.plot(zg, tmpc.values, label='superdropnet', color='C3')\n",
    "    ax.legend()\n",
    "    ax.set_title(time)\n",
    "    ax.set_xlabel('Geometric height (m)')\n",
    "    \n",
    "axs[0].set_xlim(0, 6000)\n",
    "axs[0].set_ylabel(tmpf.attrs['long_name'])"
   ]
  },
  {
   "cell_type": "code",
   "execution_count": null,
   "id": "f76f2202-d5d6-4952-b10e-dd5835df5e63",
   "metadata": {
    "tags": []
   },
   "outputs": [],
   "source": [
    "tmpf"
   ]
  },
  {
   "cell_type": "code",
   "execution_count": null,
   "id": "16269115-3b81-4f2e-81bf-3aef701347ea",
   "metadata": {},
   "outputs": [],
   "source": []
  }
 ],
 "metadata": {
  "kernelspec": {
   "display_name": "Python 3 (based on the module python3/2023.01)",
   "language": "python",
   "name": "python3_2023_01"
  },
  "language_info": {
   "codemirror_mode": {
    "name": "ipython",
    "version": 3
   },
   "file_extension": ".py",
   "mimetype": "text/x-python",
   "name": "python",
   "nbconvert_exporter": "python",
   "pygments_lexer": "ipython3",
   "version": "3.10.10"
  }
 },
 "nbformat": 4,
 "nbformat_minor": 5
}
