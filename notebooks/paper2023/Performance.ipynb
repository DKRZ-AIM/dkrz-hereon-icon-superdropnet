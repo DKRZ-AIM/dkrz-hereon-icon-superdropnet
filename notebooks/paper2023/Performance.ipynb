{
 "cells": [
  {
   "cell_type": "code",
   "execution_count": 1,
   "id": "1ce33456-0c42-4d81-8361-5e553694bdc8",
   "metadata": {},
   "outputs": [],
   "source": [
    "import sys\n",
    "sys.path.append('/work/ka1176/caroline/gitlab/icon-aes/externals/mlbridges/cffi_interface/')\n",
    "sys.path.append('/work/ka1176/caroline/gitlab/icon-aes/externals/mlbridges/lib/')\n",
    "\n",
    "#import cffi_plugin\n",
    "\n",
    "#from cffi_plugin import ffi\n",
    "import numpy as np\n",
    "import os\n",
    "\n",
    "import transfer_arrays\n",
    "import copy"
   ]
  },
  {
   "cell_type": "code",
   "execution_count": 2,
   "id": "20b02095-8b29-4d09-8f7f-375f44e8875d",
   "metadata": {
    "tags": []
   },
   "outputs": [
    {
     "name": "stderr",
     "output_type": "stream",
     "text": [
      "/home/k/k202141/.conda/envs/iconml/lib/python3.9/site-packages/tqdm/auto.py:22: TqdmWarning: IProgress not found. Please update jupyter and ipywidgets. See https://ipywidgets.readthedocs.io/en/stable/user_install.html\n",
      "  from .autonotebook import tqdm as notebook_tqdm\n"
     ]
    },
    {
     "data": {
      "text/plain": [
       "False"
      ]
     },
     "execution_count": 2,
     "metadata": {},
     "output_type": "execute_result"
    }
   ],
   "source": [
    "import torch\n",
    "torch.cuda.is_available()"
   ]
  },
  {
   "cell_type": "code",
   "execution_count": 3,
   "id": "7f56c131-dfc6-4dbd-99f8-71caad5ef1e8",
   "metadata": {},
   "outputs": [],
   "source": [
    "from solvers.moment_solver import simulation_forecast\n",
    "\n",
    "import models.plModel as plm\n",
    "\n",
    "# initialization code\n",
    "# TODO execute this in the load_pretrained_model function\n",
    "inputs_mean = np.asarray([[0.0002621447787797809, 51128093.51524663,\n",
    "                0.0003302890736022656, 5194.251154308974,\n",
    "                0.5566250557023539, 4.8690682855354596e-12,\n",
    "                0.0005924338523807814, 1.0848856769219835e-05,\n",
    "                2.0193905073168525]])\n",
    "\n",
    "inputs_std = np.asarray([[0.0003865559774857862, 86503916.13808665,\n",
    "                0.00041369562655559327, 19127.947970150628,\n",
    "                0.46107363560819126, 3.873092422358367e-12,\n",
    "                0.00042887039563850967, 1.920461805101116e-06,\n",
    "                1.3098055608321857]])\n",
    "\n",
    "updates_mean = np.asarray([[-8.527820407019667e-08, -13961.459867976775,\n",
    "                8.527678028525988e-08, 0.010221931180955181]])\n",
    "\n",
    "updates_std = np.asarray([[3.600841676033818e-07, 55095.904252313965,\n",
    "                3.6008419243808887e-07, 68.6678997504877]])\n",
    "\n",
    "pl_model = plm.LightningModel(inputs_mean=inputs_mean, inputs_std=inputs_std,\n",
    "                            updates_mean=updates_mean, updates_std=updates_std) \n",
    "\n",
    "model_path = '/work/ka1176/caroline/gitlab/icon-aes/externals/mlbridges/cffi_interface/trained_models/best_model.ckpt'\n",
    "trained_model = pl_model.load_from_checkpoint(model_path)"
   ]
  },
  {
   "cell_type": "markdown",
   "id": "07e4dba1-9549-46de-9f59-ff0913a2f4c8",
   "metadata": {},
   "source": [
    "ptr = np.random.rand(4, 1, 32)\n",
    "shape = ptr.shape\n",
    "length = np.prod(shape)\n",
    "T = 'double' #ffi.getctype(ffi.typeof(ptr).item)\n",
    "np.frombuffer(ffi.buffer(ptr, length * ffi.sizeof(T)), ctype2dtype[T])"
   ]
  },
  {
   "cell_type": "code",
   "execution_count": 4,
   "id": "449c3e14-b26e-436a-bff7-1f8d2198766d",
   "metadata": {},
   "outputs": [],
   "source": [
    "a = np.random.rand(4*1*44)\n",
    "shape = (4, 1, 44)"
   ]
  },
  {
   "cell_type": "code",
   "execution_count": 5,
   "id": "cec7834a-8369-4eb2-92b9-615a19a3ed72",
   "metadata": {},
   "outputs": [
    {
     "name": "stdout",
     "output_type": "stream",
     "text": [
      "989 ns ± 2.9 ns per loop (mean ± std. dev. of 7 runs, 1,000,000 loops each)\n"
     ]
    }
   ],
   "source": [
    "timeit_reshape_after_transfer = %timeit -o np.reshape(a, shape)"
   ]
  },
  {
   "cell_type": "code",
   "execution_count": 6,
   "id": "f84f0bcd-c3b7-4786-b320-3e4533991ff0",
   "metadata": {},
   "outputs": [],
   "source": [
    "current_moments = np.zeros(shape)\n",
    "new_moments = np.zeros(shape)\n",
    "shape = current_moments.shape"
   ]
  },
  {
   "cell_type": "code",
   "execution_count": 7,
   "id": "54fe0a39-53d8-477e-99e0-801e7e12bc59",
   "metadata": {},
   "outputs": [
    {
     "name": "stdout",
     "output_type": "stream",
     "text": [
      "3.41 µs ± 6.35 ns per loop (mean ± std. dev. of 7 runs, 100,000 loops each)\n"
     ]
    }
   ],
   "source": [
    "timeit_all_curmom_zero = %timeit -o np.all(current_moments == 0.0)"
   ]
  },
  {
   "cell_type": "code",
   "execution_count": 8,
   "id": "3eba164f-efba-4b13-85c6-1fa745d35431",
   "metadata": {},
   "outputs": [],
   "source": [
    "current_moments = np.zeros(shape)\n",
    "current_moments[0] = 5.8e-4\n",
    "current_moments[1] = 3.4e7\n",
    "current_moments[2] = 3.89e-4"
   ]
  },
  {
   "cell_type": "code",
   "execution_count": 9,
   "id": "37bac5ef-90be-4ce6-9fea-36dcbbe39038",
   "metadata": {},
   "outputs": [
    {
     "name": "stdout",
     "output_type": "stream",
     "text": [
      "3.88 µs ± 2.57 ns per loop (mean ± std. dev. of 7 runs, 100,000 loops each)\n"
     ]
    }
   ],
   "source": [
    "timeit_any_curmom_nan = %timeit -o np.any(np.isnan(current_moments))"
   ]
  },
  {
   "cell_type": "code",
   "execution_count": 10,
   "id": "8b96ffa0-904c-4cf3-b596-565dfc502be6",
   "metadata": {},
   "outputs": [
    {
     "name": "stdout",
     "output_type": "stream",
     "text": [
      "47.3 ns ± 0.00517 ns per loop (mean ± std. dev. of 7 runs, 10,000,000 loops each)\n"
     ]
    }
   ],
   "source": [
    "timeit_get_mom_shape = %timeit -o current_moments.shape"
   ]
  },
  {
   "cell_type": "code",
   "execution_count": 11,
   "id": "27e36a74-ce92-4db4-afb5-f60e5f7a9ef6",
   "metadata": {},
   "outputs": [
    {
     "name": "stdout",
     "output_type": "stream",
     "text": [
      "937 ns ± 1.66 ns per loop (mean ± std. dev. of 7 runs, 1,000,000 loops each)\n"
     ]
    }
   ],
   "source": [
    "timeit_swap_moments = %timeit -o np.swapaxes(current_moments,0, 2).reshape(-1, 4)"
   ]
  },
  {
   "cell_type": "code",
   "execution_count": 12,
   "id": "09b2b67e-1adf-49fc-b7aa-35ba71f1d98d",
   "metadata": {},
   "outputs": [],
   "source": [
    "moments_shape = current_moments.shape\n",
    "swapped_moments = np.swapaxes(current_moments,0, 2).reshape(-1, 4)"
   ]
  },
  {
   "cell_type": "code",
   "execution_count": 13,
   "id": "c2ecabca-fbc3-426e-abde-6505112d850c",
   "metadata": {},
   "outputs": [
    {
     "name": "stdout",
     "output_type": "stream",
     "text": [
      "368 ns ± 0.43 ns per loop (mean ± std. dev. of 7 runs, 1,000,000 loops each)\n"
     ]
    }
   ],
   "source": [
    "timeit_create_model = %timeit -o simulation_forecast(swapped_moments, trained_model, inputs_mean, inputs_std, updates_mean, updates_std)"
   ]
  },
  {
   "cell_type": "code",
   "execution_count": 14,
   "id": "2545bb59-4cbb-413c-8c7b-6224e30a4090",
   "metadata": {},
   "outputs": [],
   "source": [
    "new_forecast = simulation_forecast(swapped_moments, trained_model,\n",
    "                                           inputs_mean, inputs_std,\n",
    "                                           updates_mean, updates_std)"
   ]
  },
  {
   "cell_type": "code",
   "execution_count": 15,
   "id": "94c442b2-148f-47a1-9c6a-db869972a71c",
   "metadata": {},
   "outputs": [
    {
     "name": "stdout",
     "output_type": "stream",
     "text": [
      "374 µs ± 30.3 µs per loop (mean ± std. dev. of 7 runs, 1 loop each)\n"
     ]
    }
   ],
   "source": [
    "timeit_apply_model = %timeit -o new_forecast.test()"
   ]
  },
  {
   "cell_type": "code",
   "execution_count": 16,
   "id": "9c9e6aac-7847-458e-be6f-392184649daa",
   "metadata": {},
   "outputs": [
    {
     "name": "stdout",
     "output_type": "stream",
     "text": [
      "706 ns ± 0.455 ns per loop (mean ± std. dev. of 7 runs, 1,000,000 loops each)\n"
     ]
    }
   ],
   "source": [
    "timeit_swap_out = %timeit -o np.swapaxes(new_forecast.moments_out, 0, 1)"
   ]
  },
  {
   "cell_type": "code",
   "execution_count": 17,
   "id": "dd2afcaf-ea6f-462f-b612-52e4759cd6bb",
   "metadata": {},
   "outputs": [],
   "source": [
    "moments_shape = current_moments.shape\n",
    "fc_moments = np.swapaxes(new_forecast.moments_out, 0, 1)"
   ]
  },
  {
   "cell_type": "code",
   "execution_count": 18,
   "id": "f7249221-a056-4769-8d84-7c19faaf6057",
   "metadata": {},
   "outputs": [
    {
     "name": "stdout",
     "output_type": "stream",
     "text": [
      "267 ns ± 0.599 ns per loop (mean ± std. dev. of 7 runs, 1,000,000 loops each)\n"
     ]
    }
   ],
   "source": [
    "timeit_reshape_out = %timeit -o fc_moments.reshape(moments_shape)"
   ]
  },
  {
   "cell_type": "code",
   "execution_count": 19,
   "id": "97693a9f-f001-486d-ab39-7194e1be5627",
   "metadata": {},
   "outputs": [
    {
     "data": {
      "text/plain": [
       "((4, 44), (44, 4))"
      ]
     },
     "execution_count": 19,
     "metadata": {},
     "output_type": "execute_result"
    }
   ],
   "source": [
    "fc_moments.shape, new_forecast.moments_out.shape"
   ]
  },
  {
   "cell_type": "code",
   "execution_count": 20,
   "id": "a5f85fa4-2045-4d59-9cc8-d2e49846baa9",
   "metadata": {},
   "outputs": [
    {
     "name": "stdout",
     "output_type": "stream",
     "text": [
      "507 ns ± 2.66 ns per loop (mean ± std. dev. of 7 runs, 1,000,000 loops each)\n"
     ]
    }
   ],
   "source": [
    "timeit_assign_new = %timeit -o new_moments[:, 0, :] = fc_moments"
   ]
  },
  {
   "cell_type": "code",
   "execution_count": 21,
   "id": "389628d5-a4be-4d7e-b23b-206ec1c1b732",
   "metadata": {},
   "outputs": [],
   "source": [
    "new_moments[:, 0, :] = fc_moments"
   ]
  },
  {
   "cell_type": "code",
   "execution_count": 22,
   "id": "b789de93-4b66-4906-9d82-0c7a113f1485",
   "metadata": {},
   "outputs": [
    {
     "name": "stdout",
     "output_type": "stream",
     "text": [
      "3.91 µs ± 3.61 ns per loop (mean ± std. dev. of 7 runs, 100,000 loops each)\n"
     ]
    }
   ],
   "source": [
    "timeit_any_out = %timeit -o np.any(np.isnan(new_moments))"
   ]
  },
  {
   "cell_type": "code",
   "execution_count": 23,
   "id": "2a812eae-5d75-4e77-bcf3-12ffb872d046",
   "metadata": {},
   "outputs": [
    {
     "name": "stdout",
     "output_type": "stream",
     "text": [
      "3.84 µs ± 5.21 ns per loop (mean ± std. dev. of 7 runs, 100,000 loops each)\n"
     ]
    }
   ],
   "source": [
    "timeit_nan_out = %timeit -o np.any(new_moments>1e20)"
   ]
  },
  {
   "cell_type": "markdown",
   "id": "21383445-1215-4158-baf0-8483290b7756",
   "metadata": {},
   "source": [
    "Gather results"
   ]
  },
  {
   "cell_type": "code",
   "execution_count": 24,
   "id": "d7a527d4-076e-4d87-9268-336572df7c00",
   "metadata": {},
   "outputs": [],
   "source": [
    "timeits = [timeit_reshape_after_transfer, timeit_all_curmom_zero, timeit_any_curmom_nan,\n",
    "           timeit_get_mom_shape, timeit_swap_moments, timeit_create_model, timeit_apply_model,\n",
    "           timeit_swap_out, timeit_reshape_out, timeit_assign_new, timeit_any_out, timeit_nan_out\n",
    "           ]\n",
    "descr   = ['Reshape array after transfer',\n",
    "           'Check if all current moments are zero',\n",
    "           'Check if any current moment is None',\n",
    "           'Get current moments shape',\n",
    "           'Swap axes on current moments',\n",
    "           'Create the model',\n",
    "           'Apply the model (inference)',\n",
    "           'Swap axes on new moments',\n",
    "           'Reshape new moments',\n",
    "           'Assign new moments',\n",
    "           'Check if any new moment is None',\n",
    "           'Check if any new moment is >1e20',\n",
    "           ]\n",
    "t_means = []\n",
    "t_stds  = []"
   ]
  },
  {
   "cell_type": "code",
   "execution_count": 25,
   "id": "650178e9-3d58-4699-8437-ef7ba7b18e60",
   "metadata": {},
   "outputs": [
    {
     "name": "stdout",
     "output_type": "stream",
     "text": [
      "Reshape array after transfer\n",
      "Check if all current moments are zero\n",
      "Check if any current moment is None\n",
      "Get current moments shape\n",
      "Swap axes on current moments\n",
      "Create the model\n",
      "Apply the model (inference)\n",
      "Swap axes on new moments\n",
      "Reshape new moments\n",
      "Assign new moments\n",
      "Check if any new moment is None\n",
      "Check if any new moment is >1e20\n"
     ]
    }
   ],
   "source": [
    "for tt, dd in zip(timeits, descr):\n",
    "    print(dd)\n",
    "    t_means.append(np.mean(tt.timings))\n",
    "    t_stds.append(np.std(tt.timings))"
   ]
  },
  {
   "cell_type": "code",
   "execution_count": 26,
   "id": "eccfc6ac-a60c-4acb-9576-9ef408609484",
   "metadata": {},
   "outputs": [],
   "source": [
    "import pandas as pd"
   ]
  },
  {
   "cell_type": "code",
   "execution_count": 27,
   "id": "6f495df8-be94-4f2e-b4d0-2cf213c32bf9",
   "metadata": {},
   "outputs": [],
   "source": [
    "df = pd.DataFrame(dict(timer=descr, mean=t_means, std=t_stds))"
   ]
  },
  {
   "cell_type": "code",
   "execution_count": 28,
   "id": "1089d4e9-e545-49d1-9ed6-40287c1bd031",
   "metadata": {},
   "outputs": [
    {
     "data": {
      "text/html": [
       "<div>\n",
       "<style scoped>\n",
       "    .dataframe tbody tr th:only-of-type {\n",
       "        vertical-align: middle;\n",
       "    }\n",
       "\n",
       "    .dataframe tbody tr th {\n",
       "        vertical-align: top;\n",
       "    }\n",
       "\n",
       "    .dataframe thead th {\n",
       "        text-align: right;\n",
       "    }\n",
       "</style>\n",
       "<table border=\"1\" class=\"dataframe\">\n",
       "  <thead>\n",
       "    <tr style=\"text-align: right;\">\n",
       "      <th></th>\n",
       "      <th>timer</th>\n",
       "      <th>mean</th>\n",
       "      <th>std</th>\n",
       "    </tr>\n",
       "  </thead>\n",
       "  <tbody>\n",
       "    <tr>\n",
       "      <th>6</th>\n",
       "      <td>Apply the model (inference)</td>\n",
       "      <td>3.744010e-04</td>\n",
       "      <td>3.028615e-05</td>\n",
       "    </tr>\n",
       "    <tr>\n",
       "      <th>10</th>\n",
       "      <td>Check if any new moment is None</td>\n",
       "      <td>3.910580e-06</td>\n",
       "      <td>3.610164e-09</td>\n",
       "    </tr>\n",
       "    <tr>\n",
       "      <th>2</th>\n",
       "      <td>Check if any current moment is None</td>\n",
       "      <td>3.880920e-06</td>\n",
       "      <td>2.571049e-09</td>\n",
       "    </tr>\n",
       "    <tr>\n",
       "      <th>11</th>\n",
       "      <td>Check if any new moment is &gt;1e20</td>\n",
       "      <td>3.840758e-06</td>\n",
       "      <td>5.207006e-09</td>\n",
       "    </tr>\n",
       "    <tr>\n",
       "      <th>1</th>\n",
       "      <td>Check if all current moments are zero</td>\n",
       "      <td>3.410973e-06</td>\n",
       "      <td>6.354656e-09</td>\n",
       "    </tr>\n",
       "    <tr>\n",
       "      <th>0</th>\n",
       "      <td>Reshape array after transfer</td>\n",
       "      <td>9.891421e-07</td>\n",
       "      <td>2.897689e-09</td>\n",
       "    </tr>\n",
       "    <tr>\n",
       "      <th>4</th>\n",
       "      <td>Swap axes on current moments</td>\n",
       "      <td>9.367992e-07</td>\n",
       "      <td>1.658356e-09</td>\n",
       "    </tr>\n",
       "    <tr>\n",
       "      <th>7</th>\n",
       "      <td>Swap axes on new moments</td>\n",
       "      <td>7.057267e-07</td>\n",
       "      <td>4.550348e-10</td>\n",
       "    </tr>\n",
       "    <tr>\n",
       "      <th>9</th>\n",
       "      <td>Assign new moments</td>\n",
       "      <td>5.074526e-07</td>\n",
       "      <td>2.655225e-09</td>\n",
       "    </tr>\n",
       "    <tr>\n",
       "      <th>5</th>\n",
       "      <td>Create the model</td>\n",
       "      <td>3.682609e-07</td>\n",
       "      <td>4.303898e-10</td>\n",
       "    </tr>\n",
       "    <tr>\n",
       "      <th>8</th>\n",
       "      <td>Reshape new moments</td>\n",
       "      <td>2.670716e-07</td>\n",
       "      <td>5.988997e-10</td>\n",
       "    </tr>\n",
       "    <tr>\n",
       "      <th>3</th>\n",
       "      <td>Get current moments shape</td>\n",
       "      <td>4.725022e-08</td>\n",
       "      <td>5.165655e-12</td>\n",
       "    </tr>\n",
       "  </tbody>\n",
       "</table>\n",
       "</div>"
      ],
      "text/plain": [
       "                                    timer          mean           std\n",
       "6             Apply the model (inference)  3.744010e-04  3.028615e-05\n",
       "10        Check if any new moment is None  3.910580e-06  3.610164e-09\n",
       "2     Check if any current moment is None  3.880920e-06  2.571049e-09\n",
       "11       Check if any new moment is >1e20  3.840758e-06  5.207006e-09\n",
       "1   Check if all current moments are zero  3.410973e-06  6.354656e-09\n",
       "0            Reshape array after transfer  9.891421e-07  2.897689e-09\n",
       "4            Swap axes on current moments  9.367992e-07  1.658356e-09\n",
       "7                Swap axes on new moments  7.057267e-07  4.550348e-10\n",
       "9                      Assign new moments  5.074526e-07  2.655225e-09\n",
       "5                        Create the model  3.682609e-07  4.303898e-10\n",
       "8                     Reshape new moments  2.670716e-07  5.988997e-10\n",
       "3               Get current moments shape  4.725022e-08  5.165655e-12"
      ]
     },
     "execution_count": 28,
     "metadata": {},
     "output_type": "execute_result"
    }
   ],
   "source": [
    "df.sort_values('mean', ascending=False)"
   ]
  },
  {
   "cell_type": "markdown",
   "id": "1a078b54-8fa8-413c-a05f-c395d5a10aab",
   "metadata": {},
   "source": [
    "## Timings include printing the debug log"
   ]
  },
  {
   "cell_type": "code",
   "execution_count": 29,
   "id": "09a6fe5e-82f9-46de-9623-3b7b54e76c8d",
   "metadata": {},
   "outputs": [],
   "source": [
    "log_cffi = '0:            L interface_cloud_two         7200          0.03354s       0.06552s       0.19365s        471.757         471.757         471.757'\n",
    "log_fort = '0:            L interface_cloud_two      7200          0.02848s       0.03688s       0.22975s        265.524         265.524         265.524'"
   ]
  },
  {
   "cell_type": "code",
   "execution_count": 30,
   "id": "00a419cb-fbfa-4e42-b6ff-7deb81d6005d",
   "metadata": {},
   "outputs": [],
   "source": [
    "tmin_cffi = 0.00349\n",
    "tmax_cffi = 0.32129\n",
    "tavg_cffi = 0.03875\n",
    "\n",
    "tmin_fort = 0.00119\n",
    "tmax_fort = 0.15711\n",
    "tavg_fort = 0.00373"
   ]
  },
  {
   "cell_type": "markdown",
   "id": "133a88bb-3ab2-47fd-834f-a3bab503ec99",
   "metadata": {},
   "source": [
    "How much of the average CFFI call is account for by the methods timed above?"
   ]
  },
  {
   "cell_type": "code",
   "execution_count": 31,
   "id": "b0b21c4a-cdb8-4969-9f22-b5bbbf10a002",
   "metadata": {},
   "outputs": [
    {
     "data": {
      "text/plain": [
       "0.010148798256887121"
      ]
     },
     "execution_count": 31,
     "metadata": {},
     "output_type": "execute_result"
    }
   ],
   "source": [
    "df['mean'].sum() / tavg_cffi"
   ]
  },
  {
   "cell_type": "markdown",
   "id": "04bd9cb7-1711-48f1-9210-d3de093b6dda",
   "metadata": {},
   "source": [
    "Other possible sources\n",
    "\n",
    "```fortran\n",
    "ALLOCATE(current_moments(dim_i, dim_k, dim_m))\n",
    "ALLOCATE(new_moments(dim_i, dim_k, dim_m))\n",
    "\n",
    " ! loop the ik_slice to create the array containing current moments\n",
    "    DO k=kstart,kend\n",
    "      DO i=istart,iend\n",
    "  \n",
    "        current_moments(i-istart+1, k-kstart+1, 1) = cloud%q(i,k)\n",
    "        current_moments(i-istart+1, k-kstart+1, 2) = cloud%n(i,k)\n",
    "        current_moments(i-istart+1, k-kstart+1, 3) = rain%q(i,k)\n",
    "        current_moments(i-istart+1, k-kstart+1, 4) = rain%n(i,k)\n",
    "  \n",
    "      ENDDO\n",
    "    ENDDO\n",
    "```\n"
   ]
  },
  {
   "cell_type": "markdown",
   "id": "e0fecb6d-cf0a-48e0-b8e1-0e029e75a501",
   "metadata": {},
   "source": [
    "## Logs profiling"
   ]
  },
  {
   "cell_type": "code",
   "execution_count": 32,
   "id": "dd58acbb-dde8-44e8-9690-1e216f086d0b",
   "metadata": {},
   "outputs": [],
   "source": [
    "import re\n",
    "from matplotlib import pyplot as plt\n",
    "import seaborn as sns"
   ]
  },
  {
   "cell_type": "code",
   "execution_count": 33,
   "id": "fe8fce88-0459-41ee-bc13-737eabf27593",
   "metadata": {},
   "outputs": [],
   "source": [
    "sns.set_style('whitegrid')\n",
    "sns.set_context('talk')"
   ]
  },
  {
   "cell_type": "code",
   "execution_count": 34,
   "id": "1719160b-d6aa-4fd5-bccb-fd263279a2fe",
   "metadata": {},
   "outputs": [],
   "source": [
    "%matplotlib inline"
   ]
  },
  {
   "cell_type": "code",
   "execution_count": 35,
   "id": "bf096830-0d0e-4854-96fb-f4d0b7c7c312",
   "metadata": {
    "tags": []
   },
   "outputs": [
    {
     "name": "stdout",
     "output_type": "stream",
     "text": [
      "24\n",
      "0:               L phys_2mom_warmrain       919080        0.00011s       0.00055s        2.3280s        502.882         502.882         502.882    \n",
      "\n",
      "36\n",
      "0:               L phys_2mom_warmrain       621000        0.00012s       0.00097s        5.8455s        601.956         601.956         601.956    \n",
      "\n",
      "48\n",
      "0:               L phys_2mom_warmrain       471960        0.00012s       0.00097s       0.12691s        458.829         458.829         458.829    \n",
      "\n",
      "110\n",
      "0:               L phys_2mom_warmrain       198720        0.00053s       0.00227s       0.38570s        451.877         451.877         451.877    \n",
      "\n",
      "220\n",
      "0:               L phys_2mom_warmrain       99360         0.00102s       0.00476s       0.27820s        472.863         472.863         472.863    \n",
      "\n",
      "440\n",
      "0:               L phys_2mom_warmrain       49680         0.00281s       0.01318s       0.24983s        654.835         654.835         654.835    \n",
      "\n",
      "880\n",
      "0:               L phys_2mom_warmrain       24840         0.00660s       0.03781s        6.2909s        939.199         939.199         939.199    \n",
      "\n",
      "CPU times: user 1min 18s, sys: 13.4 s, total: 1min 32s\n",
      "Wall time: 4min 23s\n"
     ]
    }
   ],
   "source": [
    "%%time\n",
    "all_delta_t = {}\n",
    "\n",
    "for nproma in [24, 36, 48, 110, 220, 440, 880]:\n",
    "    print(nproma)\n",
    "    delta_t = []\n",
    "    with open(f'/work/ka1176/caroline/gitlab/icon-aes/experiments/special_logs/log_cffi_nproma_{nproma}_TIMEDEBUG') as f:\n",
    "        line = f.readline()\n",
    "        while line:\n",
    "            if 'Transfer arrays delta' in line:\n",
    "                tt = float(re.findall(r'[-+]?\\d*\\.\\d+', line)[0])\n",
    "                delta_t.append(tt)        \n",
    "            if 'L phys_2mom_warmrain' in line:\n",
    "                print(line)\n",
    "            line = f.readline()\n",
    "    all_delta_t[f'nproma_{nproma}'] = delta_t"
   ]
  },
  {
   "cell_type": "code",
   "execution_count": 36,
   "id": "dfbff545-3f93-4946-8811-2d4d21e772ad",
   "metadata": {},
   "outputs": [
    {
     "name": "stdout",
     "output_type": "stream",
     "text": [
      "2553.0\n",
      "1725.0\n",
      "1311.0\n",
      "552.0\n",
      "276.0\n",
      "138.0\n",
      "69.0\n"
     ]
    }
   ],
   "source": [
    "for key in all_delta_t.keys():\n",
    "    print(len(all_delta_t[key]) / 360)"
   ]
  },
  {
   "cell_type": "code",
   "execution_count": 37,
   "id": "c1517fae-e70f-4990-aca6-398769a7fdd7",
   "metadata": {},
   "outputs": [
    {
     "name": "stdout",
     "output_type": "stream",
     "text": [
      "nproma_24\n",
      "nproma_36\n",
      "nproma_48\n",
      "nproma_110\n",
      "nproma_220\n",
      "nproma_440\n",
      "nproma_880\n"
     ]
    }
   ],
   "source": [
    "for i,j in enumerate(all_delta_t):\n",
    "    print(j)"
   ]
  },
  {
   "cell_type": "code",
   "execution_count": 38,
   "id": "46330e63-bd1b-4f24-b925-d417b7bae27f",
   "metadata": {},
   "outputs": [
    {
     "data": {
      "image/png": "[encoded data removed]",
      "text/plain": [
       "<Figure size 432x288 with 1 Axes>"
      ]
     },
     "metadata": {
      "needs_background": "light"
     },
     "output_type": "display_data"
    }
   ],
   "source": [
    "for i, key in enumerate(all_delta_t):\n",
    "    sns.kdeplot(np.log10(all_delta_t[key]), label=key, color='C'+str(i))\n",
    "plt.legend()\n",
    "plt.show()"
   ]
  },
  {
   "cell_type": "code",
   "execution_count": 39,
   "id": "e091b963-dba9-4759-84bd-478e326de792",
   "metadata": {},
   "outputs": [
    {
     "name": "stdout",
     "output_type": "stream",
     "text": [
      "nproma_24\n",
      "nproma_36\n",
      "nproma_48\n",
      "nproma_110\n",
      "nproma_220\n",
      "nproma_440\n",
      "nproma_880\n"
     ]
    }
   ],
   "source": [
    "nproma_df = pd.DataFrame(columns=['nproma', 'mean', 'median', 'max', 'min', 'std'])\n",
    "for i, key in enumerate(all_delta_t):\n",
    "    print(key)\n",
    "    if len(all_delta_t[key]) == 0:\n",
    "        continue\n",
    "    new_df = pd.DataFrame(dict(nproma=key.split('_')[1], \n",
    "                               mean=np.mean(all_delta_t[key]),\n",
    "                               median=np.median(all_delta_t[key]),\n",
    "                               max=np.max(all_delta_t[key]),\n",
    "                               min=np.min(all_delta_t[key]),\n",
    "                               std=np.std(all_delta_t[key])), index=[i])\n",
    "    nproma_df = pd.concat([nproma_df, new_df])"
   ]
  },
  {
   "cell_type": "code",
   "execution_count": 40,
   "id": "69032d8d-4db8-41dd-86a5-96c6dc930970",
   "metadata": {},
   "outputs": [
    {
     "data": {
      "text/html": [
       "<div>\n",
       "<style scoped>\n",
       "    .dataframe tbody tr th:only-of-type {\n",
       "        vertical-align: middle;\n",
       "    }\n",
       "\n",
       "    .dataframe tbody tr th {\n",
       "        vertical-align: top;\n",
       "    }\n",
       "\n",
       "    .dataframe thead th {\n",
       "        text-align: right;\n",
       "    }\n",
       "</style>\n",
       "<table border=\"1\" class=\"dataframe\">\n",
       "  <thead>\n",
       "    <tr style=\"text-align: right;\">\n",
       "      <th></th>\n",
       "      <th>nproma</th>\n",
       "      <th>mean</th>\n",
       "      <th>median</th>\n",
       "      <th>max</th>\n",
       "      <th>min</th>\n",
       "      <th>std</th>\n",
       "    </tr>\n",
       "  </thead>\n",
       "  <tbody>\n",
       "    <tr>\n",
       "      <th>0</th>\n",
       "      <td>24</td>\n",
       "      <td>0.00004</td>\n",
       "      <td>0.000037</td>\n",
       "      <td>0.010196</td>\n",
       "      <td>0.000023</td>\n",
       "      <td>0.000028</td>\n",
       "    </tr>\n",
       "    <tr>\n",
       "      <th>1</th>\n",
       "      <td>36</td>\n",
       "      <td>0.000041</td>\n",
       "      <td>0.000038</td>\n",
       "      <td>0.0062</td>\n",
       "      <td>0.000025</td>\n",
       "      <td>0.000036</td>\n",
       "    </tr>\n",
       "    <tr>\n",
       "      <th>2</th>\n",
       "      <td>48</td>\n",
       "      <td>0.000042</td>\n",
       "      <td>0.00004</td>\n",
       "      <td>0.005823</td>\n",
       "      <td>0.000025</td>\n",
       "      <td>0.000038</td>\n",
       "    </tr>\n",
       "    <tr>\n",
       "      <th>3</th>\n",
       "      <td>110</td>\n",
       "      <td>0.000045</td>\n",
       "      <td>0.000043</td>\n",
       "      <td>0.026592</td>\n",
       "      <td>0.000026</td>\n",
       "      <td>0.000098</td>\n",
       "    </tr>\n",
       "    <tr>\n",
       "      <th>4</th>\n",
       "      <td>220</td>\n",
       "      <td>0.000048</td>\n",
       "      <td>0.000044</td>\n",
       "      <td>0.012487</td>\n",
       "      <td>0.000027</td>\n",
       "      <td>0.000096</td>\n",
       "    </tr>\n",
       "    <tr>\n",
       "      <th>5</th>\n",
       "      <td>440</td>\n",
       "      <td>0.000054</td>\n",
       "      <td>0.00005</td>\n",
       "      <td>0.006673</td>\n",
       "      <td>0.000036</td>\n",
       "      <td>0.000133</td>\n",
       "    </tr>\n",
       "    <tr>\n",
       "      <th>6</th>\n",
       "      <td>880</td>\n",
       "      <td>0.000062</td>\n",
       "      <td>0.00005</td>\n",
       "      <td>0.025596</td>\n",
       "      <td>0.000036</td>\n",
       "      <td>0.000278</td>\n",
       "    </tr>\n",
       "  </tbody>\n",
       "</table>\n",
       "</div>"
      ],
      "text/plain": [
       "  nproma      mean    median       max       min       std\n",
       "0     24   0.00004  0.000037  0.010196  0.000023  0.000028\n",
       "1     36  0.000041  0.000038    0.0062  0.000025  0.000036\n",
       "2     48  0.000042   0.00004  0.005823  0.000025  0.000038\n",
       "3    110  0.000045  0.000043  0.026592  0.000026  0.000098\n",
       "4    220  0.000048  0.000044  0.012487  0.000027  0.000096\n",
       "5    440  0.000054   0.00005  0.006673  0.000036  0.000133\n",
       "6    880  0.000062   0.00005  0.025596  0.000036  0.000278"
      ]
     },
     "execution_count": 40,
     "metadata": {},
     "output_type": "execute_result"
    }
   ],
   "source": [
    "nproma_df"
   ]
  },
  {
   "cell_type": "code",
   "execution_count": 41,
   "id": "71c7ce8b-8423-4833-91c7-b3ba2e982fe3",
   "metadata": {},
   "outputs": [
    {
     "data": {
      "image/png": "[encoded data removed]",
      "text/plain": [
       "<Figure size 1296x252 with 4 Axes>"
      ]
     },
     "metadata": {
      "needs_background": "light"
     },
     "output_type": "display_data"
    }
   ],
   "source": [
    "fig, ax = plt.subplots(1, 4, figsize=(18, 3.5))\n",
    "for i, op in enumerate(['mean', 'median', 'max', 'min']):\n",
    "    sns.barplot(data=nproma_df, x='nproma', y=op, ax=ax[i])\n",
    "    #ax[i].hlines(df['mean'].sum(), 0, 10)\n",
    "fig.tight_layout()"
   ]
  },
  {
   "cell_type": "code",
   "execution_count": 42,
   "id": "20942e02-8eba-4a20-90a7-763a07fc1bde",
   "metadata": {},
   "outputs": [
    {
     "data": {
      "image/png": "[encoded data removed]",
      "text/plain": [
       "<Figure size 360x720 with 7 Axes>"
      ]
     },
     "metadata": {
      "needs_background": "light"
     },
     "output_type": "display_data"
    }
   ],
   "source": [
    "fig, ax = plt.subplots(len(all_delta_t.keys()), 1, sharex=True, sharey=True, figsize=(5, 10))\n",
    "\n",
    "for i, key in enumerate(all_delta_t):\n",
    "    sns.violinplot(x=np.log10(all_delta_t[key]), ax=ax[i], color='C'+str(i))\n",
    "    \n",
    "ax[-1].set_xlabel('log10(Transfer array time)')\n",
    "fig.tight_layout()"
   ]
  },
  {
   "cell_type": "code",
   "execution_count": 43,
   "id": "87f9a2d6-3f24-40b2-8ca3-4fb13bf2da6a",
   "metadata": {},
   "outputs": [
    {
     "data": {
      "image/png": "[encoded data removed]",
      "text/plain": [
       "<Figure size 432x288 with 1 Axes>"
      ]
     },
     "metadata": {
      "needs_background": "light"
     },
     "output_type": "display_data"
    }
   ],
   "source": [
    "for i, key in enumerate(all_delta_t):\n",
    "    new_delta_t = np.array(copy.copy(all_delta_t[key])).reshape(-1, 69, 360)\n",
    "    plt.semilogy(np.max(new_delta_t, axis=(0, 1)))\n",
    "    "
   ]
  },
  {
   "cell_type": "code",
   "execution_count": 44,
   "id": "664f41a0-d0be-4f9f-b2a5-de47823c72d1",
   "metadata": {},
   "outputs": [],
   "source": [
    "sparse_delta_t = np.array(copy.copy(delta_t))\n",
    "sparse_delta_t = sparse_delta_t.reshape(-1, 360)"
   ]
  },
  {
   "cell_type": "code",
   "execution_count": 45,
   "id": "cde74804-ad54-43a6-b717-7b11cae15a09",
   "metadata": {},
   "outputs": [
    {
     "name": "stderr",
     "output_type": "stream",
     "text": [
      "<ipython-input-45-e951d773a669>:2: MatplotlibDeprecationWarning: Auto-removal of grids by pcolor() and pcolormesh() is deprecated since 3.5 and will be removed two minor releases later; please call grid(False) first.\n",
      "  plt.colorbar()\n"
     ]
    },
    {
     "data": {
      "image/png": "[encoded data removed]",
      "text/plain": [
       "<Figure size 432x288 with 2 Axes>"
      ]
     },
     "metadata": {
      "needs_background": "light"
     },
     "output_type": "display_data"
    }
   ],
   "source": [
    "plt.imshow(np.log10(sparse_delta_t), aspect='auto')\n",
    "plt.colorbar()\n",
    "\n",
    "plt.show()"
   ]
  },
  {
   "cell_type": "code",
   "execution_count": 46,
   "id": "d27ac41c-d0e4-4035-94cd-5dea2d34d23e",
   "metadata": {},
   "outputs": [
    {
     "data": {
      "text/plain": [
       "0.000393265932454376"
      ]
     },
     "execution_count": 46,
     "metadata": {},
     "output_type": "execute_result"
    }
   ],
   "source": [
    "df['mean'].sum()"
   ]
  },
  {
   "cell_type": "code",
   "execution_count": 47,
   "id": "6c15493b-3e09-4535-85bb-ec3f71ef4e56",
   "metadata": {},
   "outputs": [
    {
     "data": {
      "text/html": [
       "<div>\n",
       "<style scoped>\n",
       "    .dataframe tbody tr th:only-of-type {\n",
       "        vertical-align: middle;\n",
       "    }\n",
       "\n",
       "    .dataframe tbody tr th {\n",
       "        vertical-align: top;\n",
       "    }\n",
       "\n",
       "    .dataframe thead th {\n",
       "        text-align: right;\n",
       "    }\n",
       "</style>\n",
       "<table border=\"1\" class=\"dataframe\">\n",
       "  <thead>\n",
       "    <tr style=\"text-align: right;\">\n",
       "      <th></th>\n",
       "      <th>nproma</th>\n",
       "      <th>mean</th>\n",
       "      <th>median</th>\n",
       "      <th>max</th>\n",
       "      <th>min</th>\n",
       "      <th>std</th>\n",
       "    </tr>\n",
       "  </thead>\n",
       "  <tbody>\n",
       "    <tr>\n",
       "      <th>0</th>\n",
       "      <td>24</td>\n",
       "      <td>0.00004</td>\n",
       "      <td>0.000037</td>\n",
       "      <td>0.010196</td>\n",
       "      <td>0.000023</td>\n",
       "      <td>0.000028</td>\n",
       "    </tr>\n",
       "    <tr>\n",
       "      <th>1</th>\n",
       "      <td>36</td>\n",
       "      <td>0.000041</td>\n",
       "      <td>0.000038</td>\n",
       "      <td>0.0062</td>\n",
       "      <td>0.000025</td>\n",
       "      <td>0.000036</td>\n",
       "    </tr>\n",
       "    <tr>\n",
       "      <th>2</th>\n",
       "      <td>48</td>\n",
       "      <td>0.000042</td>\n",
       "      <td>0.00004</td>\n",
       "      <td>0.005823</td>\n",
       "      <td>0.000025</td>\n",
       "      <td>0.000038</td>\n",
       "    </tr>\n",
       "    <tr>\n",
       "      <th>3</th>\n",
       "      <td>110</td>\n",
       "      <td>0.000045</td>\n",
       "      <td>0.000043</td>\n",
       "      <td>0.026592</td>\n",
       "      <td>0.000026</td>\n",
       "      <td>0.000098</td>\n",
       "    </tr>\n",
       "    <tr>\n",
       "      <th>4</th>\n",
       "      <td>220</td>\n",
       "      <td>0.000048</td>\n",
       "      <td>0.000044</td>\n",
       "      <td>0.012487</td>\n",
       "      <td>0.000027</td>\n",
       "      <td>0.000096</td>\n",
       "    </tr>\n",
       "    <tr>\n",
       "      <th>5</th>\n",
       "      <td>440</td>\n",
       "      <td>0.000054</td>\n",
       "      <td>0.00005</td>\n",
       "      <td>0.006673</td>\n",
       "      <td>0.000036</td>\n",
       "      <td>0.000133</td>\n",
       "    </tr>\n",
       "    <tr>\n",
       "      <th>6</th>\n",
       "      <td>880</td>\n",
       "      <td>0.000062</td>\n",
       "      <td>0.00005</td>\n",
       "      <td>0.025596</td>\n",
       "      <td>0.000036</td>\n",
       "      <td>0.000278</td>\n",
       "    </tr>\n",
       "  </tbody>\n",
       "</table>\n",
       "</div>"
      ],
      "text/plain": [
       "  nproma      mean    median       max       min       std\n",
       "0     24   0.00004  0.000037  0.010196  0.000023  0.000028\n",
       "1     36  0.000041  0.000038    0.0062  0.000025  0.000036\n",
       "2     48  0.000042   0.00004  0.005823  0.000025  0.000038\n",
       "3    110  0.000045  0.000043  0.026592  0.000026  0.000098\n",
       "4    220  0.000048  0.000044  0.012487  0.000027  0.000096\n",
       "5    440  0.000054   0.00005  0.006673  0.000036  0.000133\n",
       "6    880  0.000062   0.00005  0.025596  0.000036  0.000278"
      ]
     },
     "execution_count": 47,
     "metadata": {},
     "output_type": "execute_result"
    }
   ],
   "source": [
    "nproma_df"
   ]
  },
  {
   "cell_type": "code",
   "execution_count": 48,
   "id": "8065aded-249e-47f3-8e8e-739a6a959b08",
   "metadata": {},
   "outputs": [
    {
     "data": {
      "text/plain": [
       "4.231340177345538e-05"
      ]
     },
     "execution_count": 48,
     "metadata": {},
     "output_type": "execute_result"
    }
   ],
   "source": [
    "nproma_df[nproma_df['nproma'] == '48']['mean'].values[0]"
   ]
  },
  {
   "cell_type": "code",
   "execution_count": 49,
   "id": "80033e33-be3d-440c-95cb-f4ba6c9638c5",
   "metadata": {},
   "outputs": [
    {
     "data": {
      "text/plain": [
       "<AxesSubplot:xlabel='source', ylabel='time'>"
      ]
     },
     "execution_count": 49,
     "metadata": {},
     "output_type": "execute_result"
    },
    {
     "data": {
      "image/png": "[encoded data removed]",
      "text/plain": [
       "<Figure size 432x288 with 1 Axes>"
      ]
     },
     "metadata": {
      "needs_background": "light"
     },
     "output_type": "display_data"
    }
   ],
   "source": [
    "plot_df = pd.DataFrame(dict(source=['network', 'transfer', 'average'], \n",
    "                            time=[df['mean'].sum(), nproma_df[nproma_df['nproma'] == '48']['mean'].values[0], \n",
    "                            0.00097]))\n",
    "sns.barplot(data=plot_df, x='source', y='time')"
   ]
  },
  {
   "cell_type": "code",
   "execution_count": 50,
   "id": "4d1a50eb-63a4-4232-a53d-46e0f2bddea7",
   "metadata": {},
   "outputs": [],
   "source": [
    "plot_df = pd.DataFrame(dict(time=[df['mean'].sum(), nproma_df[nproma_df['nproma'] == '48']['mean'].values[0]]), index=['network', 'transfer'], )"
   ]
  },
  {
   "cell_type": "code",
   "execution_count": 51,
   "id": "ca6e587e-0285-4bc8-bf50-017bb8d2dc34",
   "metadata": {},
   "outputs": [
    {
     "data": {
      "text/plain": [
       "<AxesSubplot:>"
      ]
     },
     "execution_count": 51,
     "metadata": {},
     "output_type": "execute_result"
    },
    {
     "data": {
      "image/png": "[encoded data removed]",
      "text/plain": [
       "<Figure size 432x288 with 1 Axes>"
      ]
     },
     "metadata": {
      "needs_background": "light"
     },
     "output_type": "display_data"
    }
   ],
   "source": [
    "plot_df.plot(kind='bar', stacked=True)"
   ]
  },
  {
   "cell_type": "code",
   "execution_count": 52,
   "id": "5acc10f6-4322-4978-a594-2229aca10dde",
   "metadata": {
    "tags": []
   },
   "outputs": [
    {
     "name": "stdout",
     "output_type": "stream",
     "text": [
      "ROUTINETIME\n",
      "0:               L phys_2mom_warmrain       496800        0.00004s       0.00050s       0.64179s        246.992         246.992         246.992    \n",
      "\n",
      "TRANSFERTIME\n",
      "0:               L phys_2mom_warmrain       496800        0.00005s       0.00050s       0.19988s        247.893         247.893         247.893    \n",
      "\n",
      "INFERENCETIME\n",
      "0:               L phys_2mom_warmrain       496800        0.00004s       0.00050s       0.32657s        247.727         247.727         247.727    \n",
      "\n",
      "CPU times: user 42.6 s, sys: 5.86 s, total: 48.5 s\n",
      "Wall time: 1min 52s\n"
     ]
    }
   ],
   "source": [
    "%%time\n",
    "all_delta_t_full = {}\n",
    "\n",
    "for idty in ['ROUTINETIME', 'TRANSFERTIME', 'INFERENCETIME']:\n",
    "    print(idty)\n",
    "    delta_t = []\n",
    "    with open(f'/work/ka1176/caroline/gitlab/icon-aes/experiments/special_logs/log_cffi_nproma_44_{idty}DEBUG') as f:\n",
    "        line = f.readline()\n",
    "        while line:\n",
    "            if 'Transfer arrays delta' in line:\n",
    "                tt = float(re.findall(r'[-+]?\\d*\\.\\d+', line)[0])\n",
    "                delta_t.append(tt)   \n",
    "            elif 'Python routine delta' in line:\n",
    "                tt = float(re.findall(r'[-+]?\\d*\\.\\d+', line)[0])\n",
    "                delta_t.append(tt)\n",
    "            if 'L phys_2mom_warmrain' in line:\n",
    "                print(line)\n",
    "            line = f.readline()\n",
    "    all_delta_t_full[idty] = delta_t"
   ]
  },
  {
   "cell_type": "code",
   "execution_count": 53,
   "id": "6451a7ee-27f9-4129-8fc3-3d59f68e200d",
   "metadata": {},
   "outputs": [
    {
     "name": "stdout",
     "output_type": "stream",
     "text": [
      "Fortran average routine time 5.000e-04 s\n",
      "ROUTINETIME      4.782e-04 s (95.64 %)\n",
      "  TRANSFERTIME         4.218e-05 s (8.44 %)\n",
      "  INFERENCETIME        4.356e-04 s (87.12 %)\n"
     ]
    }
   ],
   "source": [
    "t_ref = 0.0005\n",
    "\n",
    "print(f'Fortran average routine time {t_ref:.3e} s')\n",
    "\n",
    "key = 'ROUTINETIME'\n",
    "print(f'{key:16s} {np.mean(all_delta_t_full[key]):.3e} s ({np.mean(all_delta_t_full[key])/t_ref*100:.2f} %)')\n",
    "key = 'TRANSFERTIME'\n",
    "print(f'  {key:20s} {np.mean(all_delta_t_full[key]):.3e} s ({np.mean(all_delta_t_full[key])/t_ref*100:.2f} %)')\n",
    "key = 'INFERENCETIME'\n",
    "print(f'  {key:20s} {np.mean(all_delta_t_full[key]):.3e} s ({np.mean(all_delta_t_full[key])/t_ref*100:.2f} %)')"
   ]
  },
  {
   "cell_type": "code",
   "execution_count": 54,
   "id": "03e3093f-b3fb-4bdf-bc7e-06123cb6977f",
   "metadata": {},
   "outputs": [
    {
     "data": {
      "image/png": "[encoded data removed]",
      "text/plain": [
       "<Figure size 432x288 with 1 Axes>"
      ]
     },
     "metadata": {
      "needs_background": "light"
     },
     "output_type": "display_data"
    }
   ],
   "source": [
    "sns.kdeplot(np.log10(all_delta_t_full['ROUTINETIME']), label='routine')\n",
    "sns.kdeplot(np.log10(all_delta_t_full['INFERENCETIME']), label='inference')\n",
    "sns.kdeplot(np.log10(all_delta_t_full['TRANSFERTIME']), label='transfer')\n",
    "ax=plt.gca()\n",
    "ax.vlines(np.log10(t_ref), 0, 13, color='black')\n",
    "ax.set_xlabel('Time spent in ...')\n",
    "ax.legend(loc=2)\n",
    "ax.set_xlim(-6, -2)\n",
    "ax.set_xticks([-6, -5, -4, -3, -2])\n",
    "ax.set_xticklabels(['1µs', '10µs', '100µs', '1ms', '10ms'])\n",
    "plt.show()"
   ]
  },
  {
   "cell_type": "code",
   "execution_count": 55,
   "id": "201e4b10-8732-4f43-b095-ef074ea7f1d2",
   "metadata": {},
   "outputs": [],
   "source": [
    "tt = np.asarray(all_delta_t_full['INFERENCETIME'])"
   ]
  },
  {
   "cell_type": "markdown",
   "id": "f9342cdd-7c7e-4e8a-943c-ce0aa1037bd2",
   "metadata": {},
   "source": [
    "Fraction of calls where inference is actually executed (non-zero input moments)"
   ]
  },
  {
   "cell_type": "code",
   "execution_count": 56,
   "id": "c4840560-1874-4a6f-b994-4f8cb29aa089",
   "metadata": {},
   "outputs": [
    {
     "data": {
      "text/plain": [
       "0.18244565217391304"
      ]
     },
     "execution_count": 56,
     "metadata": {},
     "output_type": "execute_result"
    }
   ],
   "source": [
    "np.sum(tt > 1e-3) / len(tt)"
   ]
  },
  {
   "cell_type": "markdown",
   "id": "9188e792-973f-4b8b-9aaa-b65c617d82c9",
   "metadata": {},
   "source": [
    "This is the factor by which the inference is slower when it is called from within Fortran, as opposed to the standalone mode"
   ]
  },
  {
   "cell_type": "code",
   "execution_count": 57,
   "id": "601e67ea-8741-40c2-b59c-65cbf04d8301",
   "metadata": {},
   "outputs": [
    {
     "data": {
      "text/plain": [
       "6.049267921366932"
      ]
     },
     "execution_count": 57,
     "metadata": {},
     "output_type": "execute_result"
    }
   ],
   "source": [
    "1/(df['mean'].sum() / np.mean( np.asarray(all_delta_t_full['ROUTINETIME'])[tt>5e-4]))"
   ]
  },
  {
   "cell_type": "code",
   "execution_count": null,
   "id": "62966d11-f319-4a10-b608-104c873ecdd3",
   "metadata": {},
   "outputs": [],
   "source": []
  }
 ],
 "metadata": {
  "kernelspec": {
   "display_name": "iconml",
   "language": "python",
   "name": "iconml"
  },
  "language_info": {
   "codemirror_mode": {
    "name": "ipython",
    "version": 3
   },
   "file_extension": ".py",
   "mimetype": "text/x-python",
   "name": "python",
   "nbconvert_exporter": "python",
   "pygments_lexer": "ipython3",
   "version": "3.9.12"
  }
 },
 "nbformat": 4,
 "nbformat_minor": 5
}
