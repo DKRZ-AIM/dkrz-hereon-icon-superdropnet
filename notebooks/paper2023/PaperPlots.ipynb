{
 "cells": [
  {
   "cell_type": "code",
   "execution_count": null,
   "id": "b5a3b50a-c0c6-4e8d-846d-e8bfed382ad3",
   "metadata": {},
   "outputs": [],
   "source": [
    "import xarray as xr\n",
    "import numpy as np\n",
    "import os\n",
    "\n",
    "import pandas as pd\n",
    "from matplotlib import pyplot as plt\n",
    "import seaborn as sns\n",
    "\n",
    "import pprint\n",
    "\n",
    "%matplotlib inline"
   ]
  },
  {
   "cell_type": "code",
   "execution_count": null,
   "id": "5f4ba830-fa95-4f79-b88b-33142091fa34",
   "metadata": {},
   "outputs": [],
   "source": [
    "from cdo import *\n",
    "cdo = Cdo(tempdir='/scratch/k/k202141/cdotmp')"
   ]
  },
  {
   "cell_type": "markdown",
   "id": "7594675b-13d9-4c4a-9082-b8e91a16d5c5",
   "metadata": {},
   "source": [
    "## Figure settings\n",
    "\n",
    "https://www.geoscientific-model-development.net/submission.html#figurestables\n",
    "\n",
    "Colour schemes: it is important that the colour schemes used in your maps and charts allow readers with colour vision deficiencies to correctly interpret your findings. Please check your figures using the Coblis – Color Blindness Simulator and revise the colour schemes accordingly.\n",
    "Figure composition: it is important for the production process that separate figures are submitted. Composite figures containing multiple panels should be collected into one file before submission. The figures should be labelled correctly with Arabic numerals (e.g. f01, f02, ..., f11). They can be submitted in *.pdf, *.ps, *.eps, *.jpg, *.png, or *.tif format and should have a resolution of 300 dpi. The width should not be less than 8 cm. A legend should clarify all symbols used and should appear in the figure itself, rather than verbal explanations in the captions (e.g. \"dashed line\" or \"open green circles\"). You are kindly asked to find the best balance between quality of figures (and submitted material) and overall file size. Individual figures should not exceed 5 MB, and the overall size of all submitted files excluding supplements should not exceed 30 MB. The produced paper file will contain all figures in *.jpg or *.png format. However, if authors use vector graphics, readers can download such files labelled \"high-resolution\" from the full-text HTML version online. Tips for producing high-quality line graphics:\n",
    "\n",
    "    The first choice should be vector graphics in *.eps or *.pdf format. Fonts must be embedded. Please make sure that the *.pdf files do not contain hidden objects. If you want to adjust fonts in your original figure file before converting into *.pdf, please make sure that you change the actual font of the original figure rather than adding text boxes or other additional layers.\n",
    "    Please use only one font family in your figures (e.g. Arial or Helvetica) and consider using sans-serif fonts. Keep in mind that the usage of regular, italic, bold, and bold-italic of one font family already leads to four different fonts that must be embedded or adjusted by our image processors in case of text corrections within figures.\n",
    "    If the processing of your vector figures requires an exceptional amount of time due to multiple fonts or hidden objects, we reserve the right to convert your *.eps or *.pdf figures into *.png files for the further production process.\n",
    "    If the usage of vector graphics is not possible, a bitmap image should be saved in a \"non-lossy\" format (e.g. *.png). A high quality is recommended. It is always possible to reduce the size of the figure later.\n",
    "    The *.jpg format should only be used for photos. It is not suitable for sharp edges. Note that it is not advisable to convert a *.jpg file back to *.png. If *.jpg files must be used please save them with high quality.\n",
    "    If you are not able to fulfil the above-mentioned criteria, it is also possible to submit figures produced with Excel, PowerPoint, Word, Photoshop, Illustrator, or InDesign in the original file format. Our image processors will then produce the figures from these source files.\n",
    "\n",
    "The abbreviation \"Fig.\" should be used when it appears in running text and should be followed by a number unless it comes at the beginning of a sentence, e.g.: \"The results are depicted in Fig. 5. Figure 9 reveals that...\".\n",
    "Figure content guidelines: in order to facilitate consistency with our language and typesetting guidelines applied to the text of the manuscript, please keep the following in mind when producing your figures:\n",
    "\n",
    "    Labels of panels must be included with brackets around letters being lower case (e.g. (a), (b), etc.).\n",
    "    Ranges need an en dash and no spaces between start and end (e.g. 1–10, Jan–Feb).\n",
    "    Coordinates need a degree sign and a space when naming the direction (e.g. 30° N, 25° E).\n",
    "    Spaces must be included between number and unit (e.g. 1 %, 1 m).\n",
    "    Units must be written exponentially (e.g. W m–2).\n",
    "    Common abbreviations to be applied: hour as h (not hr), kilometre as km, metre as m.\n",
    "    Capitalization: only the first word is capitalized in headers (in addition to proper nouns). More guidelines are provided in section English guidelines and house standards.\n",
    "\n"
   ]
  },
  {
   "cell_type": "code",
   "execution_count": null,
   "id": "2a981b3b-d464-47b8-8675-c79041ee065d",
   "metadata": {},
   "outputs": [],
   "source": [
    "21.5 - 5"
   ]
  },
  {
   "cell_type": "code",
   "execution_count": null,
   "id": "f86995d1-36e6-477e-928c-f3df052ebeb6",
   "metadata": {},
   "outputs": [],
   "source": [
    "sns.set_context('paper')\n",
    "sns.set_style('whitegrid')\n",
    "\n",
    "figwidth = 8.0 # half a DIN A4 paper width\n",
    "figsize_single = (figwidth/2.51, figwidth/2.51/1.61)\n",
    "figsize_double = (2 * figwidth/2.51, 2* figwidth/2.51/2.2)\n",
    "dpi = 300"
   ]
  },
  {
   "cell_type": "code",
   "execution_count": null,
   "id": "39313052-ad40-4ab1-836e-d24307a293d6",
   "metadata": {},
   "outputs": [],
   "source": [
    "c_bulk = 'C0' # color for bulk moment scheme lines\n",
    "c_snet = 'C3' # color for superdropnet lines\n",
    "l_bulk = 'Bulk moment' # label for bulk moment\n",
    "l_snet = 'SuperdropNet'       # label for superdropnet\n",
    "lw = 2 # line width"
   ]
  },
  {
   "cell_type": "markdown",
   "id": "6ec4c3c8-c872-426f-b43e-75f790abb108",
   "metadata": {},
   "source": [
    "## Helper functions"
   ]
  },
  {
   "cell_type": "code",
   "execution_count": null,
   "id": "a8ee3439-36c3-444b-8e1f-96a3d4ff9115",
   "metadata": {},
   "outputs": [],
   "source": [
    "def get_time_mins(cdo_array):\n",
    "    '''\n",
    "    Returns the time stamps in minutes from a cdo xarray\n",
    "    \n",
    "    Simulation time stamp: %Y%m%d.%f\n",
    "    \n",
    "    We retrieve the fraction %f and convert it \n",
    "    back to minutes    \n",
    "    '''\n",
    "    \n",
    "    time = cdo_array.time.values\n",
    "    time -= time[0]\n",
    "    time *= 24 * 60 # time steps in minutes\n",
    "    \n",
    "    return time\n"
   ]
  },
  {
   "cell_type": "code",
   "execution_count": null,
   "id": "6c517c5a-b520-4083-bb7a-fddcecaab828",
   "metadata": {},
   "outputs": [],
   "source": [
    "def get_geometric_height(infile):\n",
    "    zg = cdo.fldmean(input='-selname,' + 'zg' + ' ' + infile, returnXArray='zg').squeeze().values\n",
    "    return zg"
   ]
  },
  {
   "cell_type": "code",
   "execution_count": null,
   "id": "0df8cc66-5a28-4f7f-af2d-046c1d098d63",
   "metadata": {},
   "outputs": [],
   "source": [
    "from matplotlib import ticker\n",
    "formatter = ticker.ScalarFormatter(useMathText=True)\n",
    "formatter.set_scientific(True) \n",
    "formatter.set_powerlimits((-1,1)) "
   ]
  },
  {
   "cell_type": "markdown",
   "id": "8d57eb1e-1e96-4c68-8843-080ea1952613",
   "metadata": {
    "tags": []
   },
   "source": [
    "## Figures\n",
    "\n",
    "### Grid- and vertically integrated hydrometeor content over time"
   ]
  },
  {
   "cell_type": "code",
   "execution_count": null,
   "id": "1dfb3b6f-4ae4-460c-861f-0364aa8dd073",
   "metadata": {},
   "outputs": [],
   "source": [
    "def compare_grid_vert_int_content_time(value, \n",
    "                                       exp_bulkmoment='warm_bubble_fortran', \n",
    "                                       exp_superdropnet='warm_bubble_cffi', \n",
    "                                       exp_root='/work/ka1176/caroline/gitlab/icon-aes/experiments/',\n",
    "                                       background=None,\n",
    "                                       ls1='-', ls2='-',\n",
    "                                       ylabel=None):\n",
    "    '''\n",
    "    Compare the grid integrated content for two experiments\n",
    "    \n",
    "    Args:\n",
    "      value (str): quantity to plot\n",
    "      exp_bulkmoment: the bulk-moment experiment (default: warm_bubble_fortran)\n",
    "      exp_superdropnet: the SuperdropNet experiment (default: warm_bubble_cffi)\n",
    "      exp_root: the experiment root directory (default: /work/ka1176/caroline/gitlab/icon-aes/experiments/)\n",
    "      background (str): choice of 'bulk-moment-rain' 'superdropnet-rain' None\n",
    "      ls1, ls2 (str): linestyles (default: - i.e. solid line)\n",
    "      ylabel (str): axis ylabel, if None construct from data\n",
    "\n",
    "    '''\n",
    "    \n",
    "    fig = plt.figure(figsize=figsize_single)\n",
    "    ax = fig.add_subplot(111)\n",
    "\n",
    "    infile_fortran = os.path.join(exp_root, exp_bulkmoment, f'{exp_bulkmoment}_atm_2d_ml_20080801T000000Z.nc')\n",
    "    infile_cffi    = os.path.join(exp_root, exp_superdropnet, f'{exp_superdropnet}_atm_2d_ml_20080801T000000Z.nc')\n",
    "    \n",
    "    q_fortran = cdo.fldint(input=f'-selname,{value} ' + infile_fortran, returnXArray=value).squeeze()\n",
    "    q_cffi = cdo.fldint(input=f'-selname,{value} ' + infile_cffi, returnXArray=value).squeeze()\n",
    "\n",
    "    time_fortran = get_time_mins(q_fortran)\n",
    "    time_cffi    = get_time_mins(q_cffi)\n",
    "\n",
    "    if ylabel is None:\n",
    "        ylabel = f'{q_fortran.long_name} ({q_fortran.units})'\n",
    "        ylabel = ylabel[0].upper() + ylabel[1:]\n",
    "\n",
    "    ax.plot(time_fortran, q_fortran, lw=lw, color=c_bulk, label=l_bulk, ls=ls1)\n",
    "    ax.plot(time_cffi, q_cffi, lw=lw,  color=c_snet, label=l_snet, ls=ls2)\n",
    "    \n",
    "    if background is None:\n",
    "        pass\n",
    "    elif background == 'bulk-moment-rain':\n",
    "        # include the bulk moment rain in the background\n",
    "        bm_rain = cdo.fldint(input='-selname,qrvi ' + infile_fortran, returnXArray='qrvi').squeeze()\n",
    "        ax2 = plt.twinx(ax)\n",
    "        ax2.grid(False)\n",
    "        ax2.fill_between(time_fortran, bm_rain, alpha=1.0, color='#d3d3d3')\n",
    "        ax2.set_yticks([])\n",
    "        ax.set_zorder(ax2.get_zorder()+1)\n",
    "        ax.set_frame_on(False)\n",
    "    elif background == 'superdropnet-rain':\n",
    "        pass\n",
    "    else:\n",
    "        raise ValueError(f'Invalid background: {background}')\n",
    "\n",
    "    ax.legend()\n",
    "    ax.set_xlabel('Time (mins)')\n",
    "    ax.set_ylabel(ylabel)\n",
    "    ax.yaxis.set_major_formatter(formatter) \n",
    "\n",
    "    ax.set_xlim(0, 120)\n",
    "\n",
    "    plt.savefig(f'./paper_plots/int_{value}_{exp_bulkmoment}_{exp_superdropnet}.pdf', dpi=dpi, bbox_inches='tight')"
   ]
  },
  {
   "cell_type": "code",
   "execution_count": null,
   "id": "cb360c3b-9544-41cc-8d61-2d50a39be40c",
   "metadata": {},
   "outputs": [],
   "source": [
    "def compare_grid_vert_mean_content_time(value, \n",
    "                                       exp_bulkmoment='warm_bubble_fortran', \n",
    "                                       exp_superdropnet='warm_bubble_cffi', \n",
    "                                       exp_root='/work/ka1176/caroline/gitlab/icon-aes/experiments/',\n",
    "                                       background=None,\n",
    "                                       ylabel=None):\n",
    "    '''\n",
    "    Compare the grid averaged content for two experiments\n",
    "    \n",
    "    Args:\n",
    "      value (str): quantity to plot\n",
    "      exp_bulkmoment: the bulk-moment experiment (default: warm_bubble_fortran)\n",
    "      exp_superdropnet: the SuperdropNet experiment (default: warm_bubble_cffi)\n",
    "      exp_root: the experiment root directory (default: /work/ka1176/caroline/gitlab/icon-aes/experiments/)\n",
    "      background (str): choice of 'bulk-moment-rain' 'superdropnet-rain' None\n",
    "      ylabel (str): axis ylabel, if None construct from data\n",
    "\n",
    "    '''\n",
    "    \n",
    "    fig = plt.figure(figsize=figsize_single)\n",
    "    ax = fig.add_subplot(111)\n",
    "\n",
    "    infile_fortran = os.path.join(exp_root, exp_bulkmoment, f'{exp_bulkmoment}_atm_2d_ml_20080801T000000Z.nc')\n",
    "    infile_cffi    = os.path.join(exp_root, exp_superdropnet, f'{exp_superdropnet}_atm_2d_ml_20080801T000000Z.nc')\n",
    "    \n",
    "    q_fortran = cdo.fldmean(input=f'-selname,{value} ' + infile_fortran, returnXArray=value).squeeze()\n",
    "    q_cffi = cdo.fldmean(input=f'-selname,{value} ' + infile_cffi, returnXArray=value).squeeze()\n",
    "\n",
    "    time_fortran = get_time_mins(q_fortran)\n",
    "    time_cffi    = get_time_mins(q_cffi)\n",
    "\n",
    "    if ylabel is None:\n",
    "        ylabel = f'{q_fortran.long_name} ({q_fortran.units})'\n",
    "        ylabel = ylabel[0].upper() + ylabel[1:]\n",
    "\n",
    "    ax.plot(time_fortran, q_fortran, lw=lw, color=c_bulk, label=l_bulk)\n",
    "    ax.plot(time_cffi, q_cffi, lw=lw,  color=c_snet, label=l_snet)\n",
    "    \n",
    "    if background is None:\n",
    "        pass\n",
    "    elif background == 'bulk-moment-rain':\n",
    "        # include the bulk moment rain in the background\n",
    "        bm_rain = cdo.fldint(input='-selname,qrvi ' + infile_fortran, returnXArray='qrvi').squeeze()\n",
    "        ax2 = plt.twinx(ax)\n",
    "        ax2.grid(False)\n",
    "        ax2.fill_between(time_fortran, bm_rain, alpha=1.0, color='#d3d3d3')\n",
    "        ax2.set_yticks([])\n",
    "        ax.set_zorder(ax2.get_zorder()+1)\n",
    "        ax.set_frame_on(False)\n",
    "    elif background == 'superdropnet-rain':\n",
    "        pass\n",
    "    else:\n",
    "        raise ValueError(f'Invalid background: {background}')\n",
    "\n",
    "    ax.legend()\n",
    "    ax.set_xlabel('Time (mins)')\n",
    "    ax.set_ylabel(ylabel)\n",
    "    ax.yaxis.set_major_formatter(formatter) \n",
    "\n",
    "    ax.set_xlim(0, 120)\n",
    "\n",
    "    plt.savefig(f'./paper_plots/mean_{value}_{exp_bulkmoment}_{exp_superdropnet}.pdf', dpi=dpi, bbox_inches='tight')"
   ]
  },
  {
   "cell_type": "markdown",
   "id": "62d717e3-dd27-40bd-a22b-43014f9b496c",
   "metadata": {},
   "source": [
    "Specific rain content, warm bubble scenario"
   ]
  },
  {
   "cell_type": "code",
   "execution_count": null,
   "id": "ef4d2ab7-f577-4d8a-a759-6def597f165c",
   "metadata": {},
   "outputs": [],
   "source": [
    "compare_grid_vert_int_content_time('qrvi', ylabel='Integrated rain (kg)')"
   ]
  },
  {
   "cell_type": "markdown",
   "id": "40375d03-8707-4db7-a9ef-599d91b5e7cb",
   "metadata": {},
   "source": [
    "Cloud water content, warm bubble scenario"
   ]
  },
  {
   "cell_type": "code",
   "execution_count": null,
   "id": "f343db92-57cd-41bc-b08c-7374e7eafa8c",
   "metadata": {},
   "outputs": [],
   "source": [
    "compare_grid_vert_int_content_time('cllvi', ylabel='Integrated cloud water (kg)')"
   ]
  },
  {
   "cell_type": "markdown",
   "id": "a5b356a5-2b5f-459b-a796-bc22c098d4f9",
   "metadata": {},
   "source": [
    "Evaporation"
   ]
  },
  {
   "cell_type": "code",
   "execution_count": null,
   "id": "358ff015-2ac0-4751-9d19-9342609fa883",
   "metadata": {},
   "outputs": [],
   "source": [
    "compare_grid_vert_int_content_time('evspsbl', ylabel='Integrated evaporation (kg s-1)', background='bulk-moment-rain')"
   ]
  },
  {
   "cell_type": "code",
   "execution_count": null,
   "id": "ac18a7ac-bf36-44c4-a199-4a2b7ef7677e",
   "metadata": {},
   "outputs": [],
   "source": [
    "compare_grid_vert_mean_content_time('evspsbl', ylabel='Mean evaporation (kg s-1)', background='bulk-moment-rain')"
   ]
  },
  {
   "cell_type": "code",
   "execution_count": null,
   "id": "235bf3b3-2884-4890-900d-ab0d052341d6",
   "metadata": {},
   "outputs": [],
   "source": [
    "compare_grid_vert_int_content_time('hfls', ylabel='Integrated latent heat flux (W)', background='bulk-moment-rain')"
   ]
  },
  {
   "cell_type": "code",
   "execution_count": null,
   "id": "673b645e-51b6-4dd0-91c0-880fa8f441ea",
   "metadata": {},
   "outputs": [],
   "source": [
    "compare_grid_vert_mean_content_time('hfls', ylabel='Mean latent heat flux (W)', background='bulk-moment-rain')"
   ]
  },
  {
   "cell_type": "code",
   "execution_count": null,
   "id": "021e24d2-0647-473e-aed2-fe0ebe61b320",
   "metadata": {
    "tags": []
   },
   "outputs": [],
   "source": [
    "compare_grid_vert_int_content_time('hfss', ylabel='Integrated sensible heat flux (W)', background='bulk-moment-rain')"
   ]
  },
  {
   "cell_type": "code",
   "execution_count": null,
   "id": "e82e6243-6198-402b-a2bb-b5e6c80fe0b6",
   "metadata": {
    "tags": []
   },
   "outputs": [],
   "source": [
    "compare_grid_vert_mean_content_time('hfss', ylabel='Mean sensible heat flux (W)', background='bulk-moment-rain')"
   ]
  },
  {
   "cell_type": "markdown",
   "id": "3f9f4c85-deb3-4020-b312-c00e251490d4",
   "metadata": {},
   "source": [
    "Surface temperature"
   ]
  },
  {
   "cell_type": "code",
   "execution_count": null,
   "id": "0a2063cd-8e3a-4eed-ba01-2a708ce7d084",
   "metadata": {},
   "outputs": [],
   "source": [
    "compare_grid_vert_int_content_time('ts', ylabel=None, background='bulk-moment-rain')"
   ]
  },
  {
   "cell_type": "markdown",
   "id": "4c8b175f-868a-4c8a-a9e8-5fad7b163c80",
   "metadata": {},
   "source": [
    "Specific ice content, cold bubble scenario"
   ]
  },
  {
   "cell_type": "code",
   "execution_count": null,
   "id": "04dcb6f1-df69-4590-94f0-669339caf69f",
   "metadata": {},
   "outputs": [],
   "source": [
    "compare_grid_vert_int_content_time('clivi', exp_bulkmoment='cold_bubble_fortran', exp_superdropnet='cold_bubble_cffi', ylabel='Integrated cloud ice (kg)')"
   ]
  },
  {
   "cell_type": "markdown",
   "id": "6fe41513-d698-4246-ade7-da29a816cff2",
   "metadata": {},
   "source": [
    "Specific snow content, cold bubble scenario"
   ]
  },
  {
   "cell_type": "code",
   "execution_count": null,
   "id": "597309fc-eb3f-4b7d-be16-e0ef24d275c6",
   "metadata": {},
   "outputs": [],
   "source": [
    "compare_grid_vert_int_content_time('qsvi', exp_bulkmoment='cold_bubble_fortran', exp_superdropnet='cold_bubble_cffi', ylabel='Integrated snow (kg)', ls2='--')"
   ]
  },
  {
   "cell_type": "markdown",
   "id": "961c2d6e-420a-4400-a87b-b62993954cf2",
   "metadata": {},
   "source": [
    "Specific rain content, cold bubble scenario"
   ]
  },
  {
   "cell_type": "code",
   "execution_count": null,
   "id": "66ae0eae-8aad-412d-a598-bb964e25b797",
   "metadata": {},
   "outputs": [],
   "source": [
    "compare_grid_vert_int_content_time('qrvi', exp_bulkmoment='cold_bubble_fortran', exp_superdropnet='cold_bubble_cffi', ylabel='Integrated rain (kg)')"
   ]
  },
  {
   "cell_type": "markdown",
   "id": "4c5c02b8-0da3-4333-9226-1eb5e3bc4745",
   "metadata": {},
   "source": [
    "Specific cloud water content, cold bubble scenario"
   ]
  },
  {
   "cell_type": "code",
   "execution_count": null,
   "id": "4a3730c9-9917-4df8-8301-7c3c3e9584ea",
   "metadata": {},
   "outputs": [],
   "source": [
    "compare_grid_vert_int_content_time('cllvi', exp_bulkmoment='cold_bubble_fortran', exp_superdropnet='cold_bubble_cffi', ylabel='Integrated cloud water (kg)')"
   ]
  },
  {
   "cell_type": "markdown",
   "id": "780bd59a-b27d-4fe2-a850-2f5c89c8ebdb",
   "metadata": {},
   "source": [
    "## Hovmoller diagrams"
   ]
  },
  {
   "cell_type": "code",
   "execution_count": null,
   "id": "de7886f0-2632-4bb2-927d-ef64c65548d4",
   "metadata": {},
   "outputs": [],
   "source": [
    "def hovmoller_time(value, \n",
    "                   exp_bulkmoment='warm_bubble_fortran', \n",
    "                   exp_superdropnet='warm_bubble_cffi', \n",
    "                   exp_root='/work/ka1176/caroline/gitlab/icon-aes/experiments/',\n",
    "                   cmap='viridis',\n",
    "                   symmetric_cmap=False,\n",
    "                   max_height=10000,\n",
    "                   background=None,\n",
    "                   textcolor=None,\n",
    "                   clabel=None,\n",
    "                   use_scn=True):\n",
    "    '''\n",
    "    Hovmoller diagram (value vs time) for two experiments\n",
    "    \n",
    "    Args:\n",
    "      value (str): quantity to plot\n",
    "      exp_bulkmoment: the bulk-moment experiment (default: warm_bubble_fortran)\n",
    "      exp_superdropnet: the SuperdropNet experiment (default: warm_bubble_cffi)\n",
    "      exp_root: the experiment root directory (default: /work/ka1176/caroline/gitlab/icon-aes/experiments/)\n",
    "      cmap: matplotlib colormap\n",
    "      symmetric_cmap: set vmin = -max(abs(vmin, vmax)) if True (default: False)\n",
    "      max_height: max geometric height\n",
    "      background (str): choice of 'bulk-moment-rain' 'superdropnet-rain' None\n",
    "      textcolor: choice of annotation text color for scheme (default: None - no text)\n",
    "      clabel (str): colorbar clabel, if None construct from data\n",
    "      use_scn (bool): Use scientific notation on colorbar formatter (default: True)\n",
    "\n",
    "    '''\n",
    "\n",
    "    fig, ax = plt.subplots(1, 2, figsize=figsize_double, sharex=True, sharey=True)\n",
    "    \n",
    "    ax[0].grid(False)\n",
    "    ax[1].grid(False)\n",
    "    \n",
    "    infile_fortran = os.path.join(exp_root, exp_bulkmoment, f'{exp_bulkmoment}_atm_3d_ml_20080801T000000Z.nc')\n",
    "    infile_cffi    = os.path.join(exp_root, exp_superdropnet, f'{exp_superdropnet}_atm_3d_ml_20080801T000000Z.nc')\n",
    "    \n",
    "    q_fortran = cdo.fldmean(input=f'-selname,{value} ' + infile_fortran, returnXArray=value).squeeze()\n",
    "    q_cffi = cdo.fldmean(input=f'-selname,{value} ' + infile_cffi, returnXArray=value).squeeze()\n",
    "\n",
    "    time_fortran = get_time_mins(q_fortran)\n",
    "    time_cffi    = get_time_mins(q_cffi)\n",
    "    \n",
    "    zg_fortran = get_geometric_height(infile_fortran)\n",
    "    zg_cffi    = get_geometric_height(infile_cffi)\n",
    "    \n",
    "    if clabel is None:\n",
    "        clabel = f'Mean {q_fortran.long_name} ({q_fortran.units})'\n",
    "        \n",
    "    vmin = min(q_cffi.min(), q_fortran.min())\n",
    "    vmax = max(q_cffi.max(), q_fortran.max())\n",
    "    \n",
    "    if symmetric_cmap:\n",
    "        vmin = -max(np.abs([vmin, vmax]))\n",
    "        vmax = +max(np.abs([vmin, vmax]))\n",
    "    \n",
    "    # bulk moment scheme\n",
    "    img = ax[0].imshow(q_fortran.T, aspect='auto', \n",
    "                       extent=[time_fortran[0], time_fortran[-1], zg_fortran[-1], zg_fortran[0]], \n",
    "                       vmin=vmin, vmax=vmax,\n",
    "                       cmap=cmap)\n",
    "    ax[0].set_ylim(0, max_height)\n",
    "    ax[0].set_xlabel('Time (minutes)')\n",
    "    ax[0].set_ylabel('Geometric height (m)')\n",
    "    ax[0].set_xticks([0, 20, 40, 60, 80, 100, 120])\n",
    "    \n",
    "    if textcolor:\n",
    "        ax[0].text(0.01, 0.99, l_bulk, transform=ax[0].transAxes, va='top', ha='left', color=textcolor)\n",
    "    \n",
    "    # superdropnet\n",
    "    img = ax[1].imshow(q_cffi.T, aspect='auto', \n",
    "                       extent=[time_fortran[0], time_fortran[-1], zg_fortran[-1], zg_fortran[0]], \n",
    "                       vmin=vmin, vmax=vmax,\n",
    "                       cmap=cmap)\n",
    "    ax[1].set_ylim(0, max_height)\n",
    "    ax[1].set_xlabel('Time (minutes)')\n",
    "    \n",
    "    if use_scn:\n",
    "        plt.colorbar(img, ax=ax, label=clabel, format=formatter)\n",
    "    else:\n",
    "        plt.colorbar(img, ax=ax, label=clabel)\n",
    "    \n",
    "    if textcolor:\n",
    "        ax[1].text(0.01, 0.99, l_snet, transform=ax[1].transAxes, va='top', ha='left', color=textcolor)\n",
    "        \n",
    "    plt.savefig(f'./paper_plots/hovmoller_time_{value}_{exp_bulkmoment}_{exp_superdropnet}.pdf', dpi=dpi, bbox_inches='tight')    "
   ]
  },
  {
   "cell_type": "code",
   "execution_count": null,
   "id": "0369869a-3b57-40c1-9389-2384e8f4a472",
   "metadata": {},
   "outputs": [],
   "source": [
    "def hovmoller_time_diff(value, \n",
    "                   exp_bulkmoment='warm_bubble_fortran', \n",
    "                   exp_superdropnet='warm_bubble_cffi', \n",
    "                   exp_root='/work/ka1176/caroline/gitlab/icon-aes/experiments/',\n",
    "                   cmap='RdBu',\n",
    "                   symmetric_cmap=False,\n",
    "                   max_height=10000,\n",
    "                   background=None,\n",
    "                   textcolor=None,\n",
    "                   clabel=None,\n",
    "                   use_scn=True):\n",
    "    '''\n",
    "    Hovmoller diagram (value vs time) for the diff of two experiments\n",
    "    \n",
    "    Args:\n",
    "      value (str): quantity to plot\n",
    "      exp_bulkmoment: the bulk-moment experiment (default: warm_bubble_fortran)\n",
    "      exp_superdropnet: the SuperdropNet experiment (default: warm_bubble_cffi)\n",
    "      exp_root: the experiment root directory (default: /work/ka1176/caroline/gitlab/icon-aes/experiments/)\n",
    "      cmap: matplotlib colormap\n",
    "      symmetric_cmap: set vmin = -max(abs(vmin, vmax)) if True (default: False)\n",
    "      max_height: max geometric height\n",
    "      background (str): choice of 'bulk-moment-rain' 'superdropnet-rain' None\n",
    "      textcolor: choice of annotation text color for scheme (default: None - no text)\n",
    "      clabel (str): colorbar clabel, if None construct from data\n",
    "      use_scn (bool): Use scientific notation on colorbar formatter (default: True)\n",
    "\n",
    "    '''\n",
    "\n",
    "    fig, ax = plt.subplots(1, 1, figsize=figsize_single, sharex=True, sharey=True)\n",
    "    \n",
    "    ax.grid(False)\n",
    "    \n",
    "    infile_fortran = os.path.join(exp_root, exp_bulkmoment, f'{exp_bulkmoment}_atm_3d_ml_20080801T000000Z.nc')\n",
    "    infile_cffi    = os.path.join(exp_root, exp_superdropnet, f'{exp_superdropnet}_atm_3d_ml_20080801T000000Z.nc')\n",
    "    \n",
    "    q_fortran = cdo.fldmean(input=f'-selname,{value} ' + infile_fortran, returnXArray=value).squeeze()\n",
    "    q_cffi = cdo.fldmean(input=f'-selname,{value} ' + infile_cffi, returnXArray=value).squeeze()\n",
    "\n",
    "    time_fortran = get_time_mins(q_fortran)\n",
    "    time_cffi    = get_time_mins(q_cffi)\n",
    "    \n",
    "    zg_fortran = get_geometric_height(infile_fortran)\n",
    "    zg_cffi    = get_geometric_height(infile_cffi)\n",
    "    \n",
    "    if clabel is None:\n",
    "        clabel = f'Mean {q_fortran.long_name} ({q_fortran.units})'\n",
    "        \n",
    "    vmin = np.min(q_fortran - q_cffi)\n",
    "    vmax = np.max(q_fortran - q_cffi)\n",
    "    \n",
    "    if symmetric_cmap:\n",
    "        vmin = -max(np.abs([vmin, vmax]))\n",
    "        vmax = +max(np.abs([vmin, vmax]))\n",
    "    \n",
    "    # bulk moment scheme\n",
    "    img = ax.imshow(q_cffi.T - q_fortran.T, aspect='auto', \n",
    "                       extent=[time_fortran[0], time_fortran[-1], zg_fortran[-1], zg_fortran[0]], \n",
    "                       vmin=vmin, vmax=vmax,\n",
    "                       cmap=cmap)\n",
    "    ax.set_ylim(0, max_height)\n",
    "    ax.set_xlabel('Time (minutes)')\n",
    "    ax.set_ylabel('Geometric height (m)')\n",
    "    ax.set_xticks([0, 20, 40, 60, 80, 100, 120])\n",
    "    \n",
    "    if textcolor:\n",
    "        ax.text(0.01, 0.99, l_bulk, transform=ax[0].transAxes, va='top', ha='left', color=textcolor)\n",
    "    \n",
    "    if use_scn:\n",
    "        plt.colorbar(img, ax=ax, label=clabel, format=formatter)\n",
    "    else:\n",
    "        plt.colorbar(img, ax=ax, label=clabel)\n",
    "    \n",
    "    if textcolor:\n",
    "        ax[1].text(0.01, 0.99, l_snet, transform=ax[1].transAxes, va='top', ha='left', color=textcolor)\n",
    "        \n",
    "    plt.savefig(f'./paper_plots/hovmoller_time_diff_{value}_{exp_bulkmoment}_{exp_superdropnet}.pdf', dpi=dpi, bbox_inches='tight')    "
   ]
  },
  {
   "cell_type": "code",
   "execution_count": null,
   "id": "57b0e68c-0184-4277-b94b-c1e3eacd2760",
   "metadata": {},
   "outputs": [],
   "source": [
    "hovmoller_time_diff('hus', exp_bulkmoment='warm_bubble_fortran', exp_superdropnet='warm_bubble_cffi', clabel='Difference in spec. humidity', symmetric_cmap=True)"
   ]
  },
  {
   "cell_type": "code",
   "execution_count": null,
   "id": "581182d1-cfeb-4b86-9858-a7d3d9ed957f",
   "metadata": {},
   "outputs": [],
   "source": [
    "hovmoller_time('qr')"
   ]
  },
  {
   "cell_type": "code",
   "execution_count": null,
   "id": "d96f8706-0294-4a4a-8b04-2a699decf974",
   "metadata": {},
   "outputs": [],
   "source": [
    "hovmoller_time('ua', symmetric_cmap=True, cmap='RdYlGn', textcolor='C7', use_scn=False)"
   ]
  },
  {
   "cell_type": "code",
   "execution_count": null,
   "id": "0dae543a-640f-4ebb-b7cd-ebb3d0c9a7cd",
   "metadata": {},
   "outputs": [],
   "source": [
    "hovmoller_time('va', symmetric_cmap=True, cmap='Spectral', textcolor='C7', use_scn=False)"
   ]
  },
  {
   "cell_type": "code",
   "execution_count": null,
   "id": "39d222fb-d5f8-4480-8695-cd7337d72492",
   "metadata": {},
   "outputs": [],
   "source": [
    "hovmoller_time('ua', symmetric_cmap=True, cmap='PRGn', textcolor='C7', exp_bulkmoment='cold_bubble_fortran', exp_superdropnet='cold_bubble_cffi')"
   ]
  },
  {
   "cell_type": "code",
   "execution_count": null,
   "id": "3e45fe1a-932f-4e63-8431-e6bfb1900883",
   "metadata": {},
   "outputs": [],
   "source": [
    "hovmoller_time('va', symmetric_cmap=True, cmap='PRGn', textcolor='C7', exp_bulkmoment='cold_bubble_fortran', exp_superdropnet='cold_bubble_cffi')"
   ]
  },
  {
   "cell_type": "code",
   "execution_count": null,
   "id": "d7d5cdbe-f826-40d1-85a6-582ad1bc3d73",
   "metadata": {},
   "outputs": [],
   "source": [
    "hovmoller_time('qs', exp_bulkmoment='cold_bubble_fortran', exp_superdropnet='cold_bubble_cffi')"
   ]
  },
  {
   "cell_type": "code",
   "execution_count": null,
   "id": "0d782c5a-2ea1-4362-bb02-8b910ca7b4d7",
   "metadata": {},
   "outputs": [],
   "source": [
    "hovmoller_time('ta', use_scn=False)"
   ]
  },
  {
   "cell_type": "code",
   "execution_count": null,
   "id": "6fc01b73-5c41-49cc-8bec-1dc6bb69aea2",
   "metadata": {},
   "outputs": [],
   "source": [
    "def vertical_profile(value, \n",
    "                   exp_bulkmoment='warm_bubble_fortran', \n",
    "                   exp_superdropnet='warm_bubble_cffi', \n",
    "                   exp_root='/work/ka1176/caroline/gitlab/icon-aes/experiments/',\n",
    "                   max_height=10000,\n",
    "                   times=['00:00:00', '00:20:00', '00:40:00', '01:00:00', '01:20:00', '01:40:00', '02:00:00'], \n",
    "                   background=None,\n",
    "                   textcolor=None,\n",
    "                   clabel=None,\n",
    "                   xmin=None,\n",
    "                   xmax=None,\n",
    "                   use_scn=True):\n",
    "    '''\n",
    "    Vertical profile for two experiments\n",
    "    \n",
    "    Args:\n",
    "      value (str): quantity to plot\n",
    "      exp_bulkmoment: the bulk-moment experiment (default: warm_bubble_fortran)\n",
    "      exp_superdropnet: the SuperdropNet experiment (default: warm_bubble_cffi)\n",
    "      exp_root: the experiment root directory (default: /work/ka1176/caroline/gitlab/icon-aes/experiments/)\n",
    "      cmap: matplotlib colormap\n",
    "      symmetric_cmap: set vmin = -max(abs(vmin, vmax)) if True (default: False)\n",
    "      max_height: max geometric height\n",
    "      times (list): timestamps to use\n",
    "      background (str): choice of 'bulk-moment-rain' 'superdropnet-rain' None\n",
    "      textcolor: choice of annotation text color for scheme (default: None - no text)\n",
    "      clabel (str): colorbar clabel, if None construct from data\n",
    "      use_scn (bool): Use scientific notation on colorbar formatter (default: True)\n",
    "\n",
    "    '''\n",
    "\n",
    "    fig, ax = plt.subplots(1, 2, figsize=figsize_double, sharex=True, sharey=True)\n",
    "    \n",
    "    ax[0].grid(True)\n",
    "    ax[1].grid(True)\n",
    "    \n",
    "    infile_fortran = os.path.join(exp_root, exp_bulkmoment, f'{exp_bulkmoment}_atm_3d_ml_20080801T000000Z.nc')\n",
    "    infile_cffi    = os.path.join(exp_root, exp_superdropnet, f'{exp_superdropnet}_atm_3d_ml_20080801T000000Z.nc')\n",
    "    \n",
    "    zg_fortran = get_geometric_height(infile_fortran)\n",
    "    zg_cffi    = get_geometric_height(infile_cffi)\n",
    "    \n",
    "\n",
    "    \n",
    "    # bulk moment scheme\n",
    "    for time in times:\n",
    "        t_fldmean = cdo.seltime(time, input='-fldmean -selname,' + value + ' ' + infile_fortran, returnXArray=value).squeeze()\n",
    "        ax[0].plot(t_fldmean, zg_fortran, label=time)\n",
    "        t_fldmean = cdo.seltime(time, input='-fldmean -selname,' + value + ' ' + infile_cffi, returnXArray=value).squeeze()\n",
    "        ax[1].plot(t_fldmean, zg_cffi, label=time)\n",
    "        \n",
    "    ax[0].legend(loc=1)\n",
    "    ax[1].legend(loc=1)\n",
    "            \n",
    "    if clabel is None:\n",
    "        clabel = f'Mean {t_fldmean.long_name} ({t_fldmean.units})'\n",
    "    \n",
    "    \n",
    "    ax[0].set_ylim(0, max_height)\n",
    "    if not xmin is None and not xmax is None:\n",
    "        ax[0].set_xlim(xmin, xmax)\n",
    "    ax[0].set_xlabel(clabel)\n",
    "    ax[1].set_xlabel(clabel)\n",
    "    \n",
    "    ax[0].set_ylabel('Geometric height (m)')\n",
    "        \n",
    "    plt.savefig(f'./paper_plots/vertical_profile_{value}_{exp_bulkmoment}_{exp_superdropnet}.pdf', dpi=dpi, bbox_inches='tight')    "
   ]
  },
  {
   "cell_type": "code",
   "execution_count": null,
   "id": "108bb7e3-d931-4a48-b5aa-76c7b78b5876",
   "metadata": {
    "tags": []
   },
   "outputs": [],
   "source": [
    "vertical_profile('hus', max_height=7000, xmin=0, xmax=0.025)"
   ]
  },
  {
   "cell_type": "code",
   "execution_count": null,
   "id": "3a3f4d23-b452-4863-b438-489fafa5c773",
   "metadata": {},
   "outputs": [],
   "source": [
    "def ratio_vertical_profile(value1, value2, \n",
    "                   exp_bulkmoment='warm_bubble_fortran', \n",
    "                   exp_superdropnet='warm_bubble_cffi', \n",
    "                   exp_root='/work/ka1176/caroline/gitlab/icon-aes/experiments/',\n",
    "                   max_height=10000,\n",
    "                   times=['00:00:00', '00:20:00', '00:40:00', '01:00:00', '01:20:00', '01:40:00'], \n",
    "                   background=None,\n",
    "                   textcolor=None,\n",
    "                   clabel=None,\n",
    "                   xmin=None,\n",
    "                   xmax=None,\n",
    "                   cut=1e-24, # values below will be zero\n",
    "                   use_scn=True):\n",
    "    '''\n",
    "    Vertical profile for the ratio of two variables for two experiments\n",
    "    \n",
    "    Args:\n",
    "      value1 (str): first quantity\n",
    "      value2 (str): second quantity (plots v1/v2)\n",
    "      exp_bulkmoment: the bulk-moment experiment (default: warm_bubble_fortran)\n",
    "      exp_superdropnet: the SuperdropNet experiment (default: warm_bubble_cffi)\n",
    "      exp_root: the experiment root directory (default: /work/ka1176/caroline/gitlab/icon-aes/experiments/)\n",
    "      cmap: matplotlib colormap\n",
    "      symmetric_cmap: set vmin = -max(abs(vmin, vmax)) if True (default: False)\n",
    "      max_height: max geometric height\n",
    "      times (list): timestamps to use\n",
    "      background (str): choice of 'bulk-moment-rain' 'superdropnet-rain' None\n",
    "      textcolor: choice of annotation text color for scheme (default: None - no text)\n",
    "      clabel (str): colorbar clabel, if None construct from data\n",
    "      use_scn (bool): Use scientific notation on colorbar formatter (default: True)\n",
    "\n",
    "    '''\n",
    "\n",
    "    fig, ax = plt.subplots(1, 2, figsize=figsize_double, sharex=True, sharey=True)\n",
    "    \n",
    "    ax[0].grid(True)\n",
    "    ax[1].grid(True)\n",
    "    \n",
    "    infile_fortran = os.path.join(exp_root, exp_bulkmoment, f'{exp_bulkmoment}_atm_3d_ml_20080801T000000Z.nc')\n",
    "    infile_cffi    = os.path.join(exp_root, exp_superdropnet, f'{exp_superdropnet}_atm_3d_ml_20080801T000000Z.nc')\n",
    "    \n",
    "    zg_fortran = get_geometric_height(infile_fortran)\n",
    "    zg_cffi    = get_geometric_height(infile_cffi)\n",
    "    \n",
    "    for time in times:\n",
    "        #t_fldmean = cdo.seltime(time, input='-fldmean -selname,' + value1 + ' ' + infile_fortran, returnXArray=value1).squeeze()\n",
    "        #ax[0].plot(t_fldmean, zg_fortran, label=time)\n",
    "        #t_fldmean = cdo.seltime(time, input='-fldmean -selname,' + value1 + ' ' + infile_cffi, returnXArray=value1).squeeze()\n",
    "        #ax[1].plot(t_fldmean, zg_cffi, label=time)\n",
    "        \n",
    "        \n",
    "        \n",
    "        # bulk moment\n",
    "        tv1 = cdo.seltime(time, input='-selname,' + value1 + ' ' + infile_fortran, returnXArray=value1).squeeze()\n",
    "        tv2 = cdo.seltime(time, input='-selname,' + value2 + ' ' + infile_fortran, returnXArray=value2).squeeze()\n",
    "        \n",
    "        if clabel is None:\n",
    "            clabel = f'{tv1.long_name} ({tv1.units}) / {tv2.long_name} ({tv2.units})'\n",
    "        \n",
    "        tv1 = xr.where(tv1 < cut, 0, tv1, keep_attrs=True)\n",
    "        \n",
    "        ax[0].plot(np.sum(tv1/tv2, axis=1), zg_fortran, label=time)\n",
    "        \n",
    "        # superdropnet\n",
    "        tv1 = cdo.seltime(time, input='-selname,' + value1 + ' ' + infile_cffi, returnXArray=value1).squeeze()\n",
    "        tv2 = cdo.seltime(time, input='-selname,' + value2 + ' ' + infile_cffi, returnXArray=value2).squeeze()\n",
    "        \n",
    "        tv1 = xr.where(tv1 < cut, 0, tv1, keep_attrs=True)\n",
    "        \n",
    "        ax[1].plot(np.sum(tv1/tv2, axis=1), zg_cffi, label=time)\n",
    "        \n",
    "    ax[0].legend(loc=1, ncol=2)\n",
    "    ax[1].legend(loc=1, ncol=2)\n",
    "            \n",
    "    \n",
    "    \n",
    "    \n",
    "    ax[0].set_ylim(0, max_height)\n",
    "    if not xmin is None and not xmax is None:\n",
    "        ax[0].set_xlim(xmin, xmax)\n",
    "    ax[0].set_xlabel(clabel)\n",
    "    ax[1].set_xlabel(clabel)\n",
    "    \n",
    "    ax[0].set_ylabel('Geometric height (m)')\n",
    "        \n",
    "    plt.savefig(f'./paper_plots/ratio_vertical_profile_{value1}_{value2}_{exp_bulkmoment}_{exp_superdropnet}.pdf', dpi=dpi, bbox_inches='tight')    \n",
    "    \n",
    "    return tv1, tv2"
   ]
  },
  {
   "cell_type": "code",
   "execution_count": null,
   "id": "2afd951c-f636-480d-82d0-f85a927c5517",
   "metadata": {},
   "outputs": [],
   "source": [
    "def ratio_temporal_profile(value1, value2, \n",
    "                   exp_bulkmoment='warm_bubble_fortran', \n",
    "                   exp_superdropnet='warm_bubble_cffi', \n",
    "                   exp_root='/work/ka1176/caroline/gitlab/icon-aes/experiments/',\n",
    "                   max_height=10000,\n",
    "                   background=None,\n",
    "                   textcolor=None,\n",
    "                   clabel=None,\n",
    "                   xmin=None,\n",
    "                   xmax=None,\n",
    "                   cut=1e-24, # values below will be zero\n",
    "                   use_scn=True):\n",
    "    '''\n",
    "    Temporal profile for the ratio of two variables for two experiments\n",
    "    \n",
    "    Args:\n",
    "      value1 (str): first quantity\n",
    "      value2 (str): second quantity (plots v1/v2)\n",
    "      exp_bulkmoment: the bulk-moment experiment (default: warm_bubble_fortran)\n",
    "      exp_superdropnet: the SuperdropNet experiment (default: warm_bubble_cffi)\n",
    "      exp_root: the experiment root directory (default: /work/ka1176/caroline/gitlab/icon-aes/experiments/)\n",
    "      cmap: matplotlib colormap\n",
    "      symmetric_cmap: set vmin = -max(abs(vmin, vmax)) if True (default: False)\n",
    "      max_height: max geometric height\n",
    "      times (list): timestamps to use\n",
    "      background (str): choice of 'bulk-moment-rain' 'superdropnet-rain' None\n",
    "      textcolor: choice of annotation text color for scheme (default: None - no text)\n",
    "      clabel (str): colorbar clabel, if None construct from data\n",
    "      use_scn (bool): Use scientific notation on colorbar formatter (default: True)\n",
    "\n",
    "    '''\n",
    "\n",
    "    fig, ax = plt.subplots(1, 1, figsize=figsize_single, sharex=True, sharey=True)\n",
    "    \n",
    "    ax.grid(True)\n",
    "    \n",
    "    infile_fortran = os.path.join(exp_root, exp_bulkmoment, f'{exp_bulkmoment}_atm_3d_ml_20080801T000000Z.nc')\n",
    "    infile_cffi    = os.path.join(exp_root, exp_superdropnet, f'{exp_superdropnet}_atm_3d_ml_20080801T000000Z.nc')\n",
    "    \n",
    "    zg_fortran = get_geometric_height(infile_fortran)\n",
    "    zg_cffi    = get_geometric_height(infile_cffi)\n",
    "    \n",
    "    # bulk moment\n",
    "    tv1 = cdo.selname(value1, input=infile_fortran, returnXArray=value1).squeeze()\n",
    "    tv2 = cdo.selname(value2, input=infile_fortran, returnXArray=value2).squeeze()\n",
    "    tv1 = xr.where(tv1 < cut, 0, tv1, keep_attrs=True)\n",
    "        \n",
    "    if clabel is None:\n",
    "        assert False\n",
    "        \n",
    "        \n",
    "    ax.plot(np.sum(tv1/tv2, axis=(1,2)), label='Bulk moment')\n",
    "        \n",
    "    # superdropnet\n",
    "    tv1 = cdo.selname(value1, input=infile_cffi, returnXArray=value1).squeeze()\n",
    "    tv2 = cdo.selname(value2, input=infile_cffi, returnXArray=value2).squeeze()\n",
    "    tv1 = xr.where(tv1 < cut, 0, tv1, keep_attrs=True)\n",
    "        \n",
    "    ax.plot(np.sum(tv1/tv2, axis=(1,2)), label='SuperdropNet')\n",
    "        \n",
    "    ax.legend(loc=1, ncol=1)\n",
    "\n",
    "    ax.set_ylabel(clabel)\n",
    "    \n",
    "    ax.set_xlabel('Simulation time step')\n",
    "        \n",
    "    plt.savefig(f'./paper_plots/ratio_temporal_profile_{value1}_{value2}_{exp_bulkmoment}_{exp_superdropnet}.pdf', dpi=dpi, bbox_inches='tight')    \n",
    "    \n",
    "    return tv1, tv2"
   ]
  },
  {
   "cell_type": "code",
   "execution_count": null,
   "id": "f6e8a719-0b1a-40b7-9aaa-934b71b40789",
   "metadata": {
    "tags": []
   },
   "outputs": [],
   "source": [
    "t1, t2 = ratio_temporal_profile('qr', 'qnr', max_height=7000, cut=1e-20, clabel='Rain mass (kg)')"
   ]
  },
  {
   "cell_type": "code",
   "execution_count": null,
   "id": "da291d0b-3001-4184-a0e4-d48e2e5ca954",
   "metadata": {
    "tags": []
   },
   "outputs": [],
   "source": [
    "t1, t2 = ratio_vertical_profile('qr', 'qnr', max_height=7000, cut=1e-20, clabel='Rain mass (kg)')"
   ]
  },
  {
   "cell_type": "code",
   "execution_count": null,
   "id": "c3d35daa-2a9f-49a5-bff5-66fedb8447d8",
   "metadata": {
    "tags": []
   },
   "outputs": [],
   "source": [
    "t1, t2 = ratio_vertical_profile('qr', 'qnr', max_height=7000, cut=1e-24, times=['00:20:00', '00:25:00', '00:30:00'], clabel='Rain mass (kg)')"
   ]
  },
  {
   "cell_type": "code",
   "execution_count": null,
   "id": "1b8b0327-32c8-4b77-8871-ecaa67456ff8",
   "metadata": {
    "tags": []
   },
   "outputs": [],
   "source": [
    "vertical_profile('qnr', clabel='Number conc rain droplets (kg-1)', max_height=7000)"
   ]
  },
  {
   "cell_type": "code",
   "execution_count": null,
   "id": "696132fe-12f5-4101-ba34-e378fbd3ae8c",
   "metadata": {},
   "outputs": [],
   "source": [
    "def vertical_profile_by_time(value, \n",
    "                   exp_bulkmoment='warm_bubble_fortran', \n",
    "                   exp_superdropnet='warm_bubble_cffi', \n",
    "                   exp_root='/work/ka1176/caroline/gitlab/icon-aes/experiments/',\n",
    "                   max_height=10000,\n",
    "                   dheight=2000,\n",
    "                   times=['00:00:00', '00:20:00', '00:40:00', '01:00:00', '01:20:00', '01:40:00'], \n",
    "                   background=None,\n",
    "                   textcolor=None,\n",
    "                   clabel=None,\n",
    "                   xmin=None,\n",
    "                   xmax=None,\n",
    "                   use_scn=True):\n",
    "    '''\n",
    "    Vertical profile for two experiments organized in panels by time stamp\n",
    "    \n",
    "    Args:\n",
    "      value (str): quantity to plot\n",
    "      exp_bulkmoment: the bulk-moment experiment (default: warm_bubble_fortran)\n",
    "      exp_superdropnet: the SuperdropNet experiment (default: warm_bubble_cffi)\n",
    "      exp_root: the experiment root directory (default: /work/ka1176/caroline/gitlab/icon-aes/experiments/)\n",
    "      cmap: matplotlib colormap\n",
    "      symmetric_cmap: set vmin = -max(abs(vmin, vmax)) if True (default: False)\n",
    "      max_height: max geometric height\n",
    "      dheight: plot height tick spacing\n",
    "      times (list): timestamps to use\n",
    "      background (str): choice of 'bulk-moment-rain' 'superdropnet-rain' None\n",
    "      textcolor: choice of annotation text color for scheme (default: None - no text)\n",
    "      clabel (str): colorbar clabel, if None construct from data\n",
    "      use_scn (bool): Use scientific notation on colorbar formatter (default: True)\n",
    "\n",
    "    '''\n",
    "\n",
    "    fig, ax = plt.subplots(2, len(times)//2, figsize=figsize_double, sharex=True, sharey=True)\n",
    "    \n",
    "    [axx.grid(True) for axx in ax.flatten()]\n",
    "    \n",
    "    infile_fortran = os.path.join(exp_root, exp_bulkmoment, f'{exp_bulkmoment}_atm_3d_ml_20080801T000000Z.nc')\n",
    "    infile_cffi    = os.path.join(exp_root, exp_superdropnet, f'{exp_superdropnet}_atm_3d_ml_20080801T000000Z.nc')\n",
    "    \n",
    "    zg_fortran = get_geometric_height(infile_fortran)\n",
    "    zg_cffi    = get_geometric_height(infile_cffi)\n",
    "\n",
    "    # time frames\n",
    "    for i, time, axx in zip(range(len(times)), times, ax.flatten()):\n",
    "        t_fldmean = cdo.seltime(time, input='-fldmean -selname,' + value + ' ' + infile_fortran, returnXArray=value).squeeze()\n",
    "        if i==0: # label\n",
    "            axx.plot(t_fldmean, zg_fortran, lw=2, color='C0', label='Bulk moment')\n",
    "        else:\n",
    "            axx.plot(t_fldmean, zg_fortran, lw=2, color='C0')\n",
    "        \n",
    "        if clabel is None:\n",
    "            clabel = f'Mean {t_fldmean.long_name} ({t_fldmean.units})'\n",
    "        \n",
    "        t_fldmean = cdo.seltime(time, input='-fldmean -selname,' + value + ' ' + infile_cffi, returnXArray=value).squeeze()\n",
    "        if i==0: # label\n",
    "            axx.plot(t_fldmean, zg_cffi, lw=2, color='C3', label='SuperdropNet')\n",
    "        else:\n",
    "            axx.plot(t_fldmean, zg_cffi, lw=2, color='C3')\n",
    "        axx.set_ylim(0, max_height)\n",
    "        axx.set_yticks(np.arange(0, max_height+1, dheight))\n",
    "        \n",
    "        if not xmin is None and not xmax is None:\n",
    "            axx.set_xlim(xmin, xmax)\n",
    "            \n",
    "        axx.text(0.97, 0.95, time, transform=axx.transAxes, va='top', ha='right', bbox=dict(facecolor='white', alpha=0.5))\n",
    "    \n",
    "    # place legend on top\n",
    "    fig.legend(ncol=2, loc=9)\n",
    "        \n",
    "    fig.supylabel('Geometric height (m)', fontsize=10)\n",
    "    fig.supxlabel(clabel, fontsize=10, y=-0.05)\n",
    "    #fig.tight_layout()\n",
    "        \n",
    "    plt.savefig(f'./paper_plots/vertical_profile_by_time_{value}_{exp_bulkmoment}_{exp_superdropnet}.pdf', dpi=dpi, bbox_inches='tight')    "
   ]
  },
  {
   "cell_type": "code",
   "execution_count": null,
   "id": "691ab537-7052-40f0-93f7-610363d0229d",
   "metadata": {
    "tags": []
   },
   "outputs": [],
   "source": [
    "vertical_profile_by_time('hus', max_height=6000, dheight=1500, xmin=0, xmax=0.025, clabel='Mean specific humidity (kg kg-1)')"
   ]
  },
  {
   "cell_type": "code",
   "execution_count": null,
   "id": "17de5f8a-3897-43a2-a836-91cc064a252d",
   "metadata": {},
   "outputs": [],
   "source": [
    "def vertical_profile_ratio_by_time(value1, value2,\n",
    "                   exp_bulkmoment='warm_bubble_fortran', \n",
    "                   exp_superdropnet='warm_bubble_cffi', \n",
    "                   exp_root='/work/ka1176/caroline/gitlab/icon-aes/experiments/',\n",
    "                   max_height=10000,\n",
    "                   dheight=2000,\n",
    "                   times=['00:00:00', '00:20:00', '00:40:00', '01:00:00', '01:20:00', '01:40:00'], \n",
    "                   background=None,\n",
    "                   textcolor=None,\n",
    "                   clabel=None,\n",
    "                   xmin=None,\n",
    "                   cut=1e-24,\n",
    "                   xmax=None,\n",
    "                   use_scn=True):\n",
    "    '''\n",
    "    Vertical profile for two experiments organized in panels by time stamp\n",
    "    Ratio of two values\n",
    "    \n",
    "    Args:\n",
    "      value (str): quantity to plot\n",
    "      exp_bulkmoment: the bulk-moment experiment (default: warm_bubble_fortran)\n",
    "      exp_superdropnet: the SuperdropNet experiment (default: warm_bubble_cffi)\n",
    "      exp_root: the experiment root directory (default: /work/ka1176/caroline/gitlab/icon-aes/experiments/)\n",
    "      cmap: matplotlib colormap\n",
    "      symmetric_cmap: set vmin = -max(abs(vmin, vmax)) if True (default: False)\n",
    "      max_height: max geometric height\n",
    "      dheight: plot height tick spacing\n",
    "      times (list): timestamps to use\n",
    "      background (str): choice of 'bulk-moment-rain' 'superdropnet-rain' None\n",
    "      textcolor: choice of annotation text color for scheme (default: None - no text)\n",
    "      clabel (str): colorbar clabel, if None construct from data\n",
    "      use_scn (bool): Use scientific notation on colorbar formatter (default: True)\n",
    "\n",
    "    '''\n",
    "\n",
    "    fig, ax = plt.subplots(2, len(times)//2, figsize=figsize_double, sharex=True, sharey=True)\n",
    "    \n",
    "    [axx.grid(True) for axx in ax.flatten()]\n",
    "    \n",
    "    infile_fortran = os.path.join(exp_root, exp_bulkmoment, f'{exp_bulkmoment}_atm_3d_ml_20080801T000000Z.nc')\n",
    "    infile_cffi    = os.path.join(exp_root, exp_superdropnet, f'{exp_superdropnet}_atm_3d_ml_20080801T000000Z.nc')\n",
    "    \n",
    "    zg_fortran = get_geometric_height(infile_fortran)\n",
    "    zg_cffi    = get_geometric_height(infile_cffi)\n",
    "    \n",
    "    \n",
    "\n",
    "    for i, time, axx in zip(range(len(times)), times, ax.flatten()):\n",
    "        # bulk moment\n",
    "        tv1 = cdo.seltime(time, input='-selname,' + value1 + ' ' + infile_fortran, returnXArray=value1)\n",
    "        tv2 = cdo.seltime(time, input='-selname,' + value2 + ' ' + infile_fortran, returnXArray=value2)   \n",
    "        \n",
    "        if clabel is None:\n",
    "            clabel = f'Mean {tv1.long_name} ({tv1.units}) / {tv2.long_name} ({tv2.units})'\n",
    "       \n",
    "        tv1 = xr.where(tv1 < cut, 0, tv1, keep_attrs=True)\n",
    "        \n",
    "        if i==0: # label\n",
    "            axx.plot(np.sum(tv1/tv2, axis=(0,2)), zg_fortran, lw=2, color='C0', label='Bulk moment')\n",
    "        else:\n",
    "            axx.plot(np.sum(tv1/tv2, axis=(0,2)), zg_fortran, lw=2, color='C0')\n",
    "                                \n",
    "        # superdropnet\n",
    "        tv1 = cdo.seltime(time, input='-selname,' + value1 + ' ' + infile_cffi, returnXArray=value1)\n",
    "        tv2 = cdo.seltime(time, input='-selname,' + value2 + ' ' + infile_cffi, returnXArray=value2)\n",
    "        tv1 = xr.where(tv1 < cut, 0, tv1, keep_attrs=True)\n",
    "        \n",
    "        if i==0: # label\n",
    "            axx.plot(np.sum(tv1/tv2, axis=(0,2)), zg_cffi, lw=2, color='C3', label='SuperdropNet')\n",
    "        else:\n",
    "            axx.plot(np.sum(tv1/tv2, axis=(0,2)), zg_cffi, lw=2, color='C3')\n",
    "            \n",
    "        axx.set_ylim(0, max_height)\n",
    "        axx.set_yticks(np.arange(0, max_height+1, dheight))\n",
    "        \n",
    "        if not xmin is None and not xmax is None:\n",
    "            axx.set_xlim(xmin, xmax)\n",
    "            \n",
    "        axx.text(0.97, 0.95, time, transform=axx.transAxes, va='top', ha='right', bbox=dict(facecolor='white', alpha=0.5))\n",
    "    \n",
    "    # place legend on top\n",
    "    fig.legend(ncol=2, loc=9)\n",
    "        \n",
    "    fig.supylabel('Geometric height (m)', fontsize=10)\n",
    "    fig.supxlabel(clabel, fontsize=10, y=-0.05)\n",
    "    #fig.tight_layout()\n",
    "        \n",
    "    plt.savefig(f'./paper_plots/vertical_profile_ratio_by_time_{value1}_{value2}_{exp_bulkmoment}_{exp_superdropnet}.pdf', dpi=dpi, bbox_inches='tight')    "
   ]
  },
  {
   "cell_type": "code",
   "execution_count": null,
   "id": "4d5e79b0-d6b6-47cb-80a5-51a8a4dfc970",
   "metadata": {
    "tags": []
   },
   "outputs": [],
   "source": [
    "vertical_profile_ratio_by_time('qr', 'qnr', clabel='Mean rain droplet mass (kg)', max_height=6000, dheight=1500, cut=1e-20, xmin=-0.00002, xmax=0.00028, \n",
    "                               times=['00:20:00', '00:30:00', '00:40:00', '01:00:00', '01:20:00', '01:40:00'])"
   ]
  },
  {
   "cell_type": "markdown",
   "id": "ec4518a0-120f-46e2-add0-824a32a6fc19",
   "metadata": {},
   "source": [
    "## Benchmark for bridges"
   ]
  },
  {
   "cell_type": "code",
   "execution_count": null,
   "id": "f32f9196-959c-4d94-a673-d23fd6117cf3",
   "metadata": {},
   "outputs": [],
   "source": [
    "bridges = ['Bulk moment (Fortran)', 'SuperdropNet (CFFI)', 'SuperdropNet (pipes)', 'SuperdropNet (yac*)']\n",
    "t2mom_max = [1.254, 24.128, 62.597, 49.492]\n",
    "t2mom_880 = [23.84, 485, 52, 49.492]\n",
    "df = pd.DataFrame(dict(bridge=bridges, t2mom_max=t2mom_max))\n",
    "\n",
    "fig=plt.figure(figsize=figsize_single)\n",
    "sns.barplot(data=df, y='bridge', x='t2mom_max', ax=plt.gca())\n",
    "ax=plt.gca()\n",
    "ax.set_ylabel('')\n",
    "ax.set_xlabel('Time-to-solution spent in 2-moment scheme (s)')\n",
    "ax.set_xscale('log')\n",
    "ax.set_xticks([1, 2, 5, 10, 20, 50, 100])\n",
    "ax.set_xticklabels([1, 2, 5, 10, 20, 50, 100])\n",
    "\n",
    "fig.tight_layout()\n",
    "plt.savefig(f'./paper_plots/iconml-paper-bubble-bench.pdf', bbox_inches='tight')"
   ]
  },
  {
   "cell_type": "code",
   "execution_count": null,
   "id": "36d5b7f1-959a-4cd2-8ca3-17a910c427a9",
   "metadata": {},
   "outputs": [],
   "source": [
    "!pwd"
   ]
  },
  {
   "cell_type": "code",
   "execution_count": null,
   "id": "e5fe4afa-8725-4185-9047-b3c939056fbf",
   "metadata": {},
   "outputs": [],
   "source": []
  }
 ],
 "metadata": {
  "kernelspec": {
   "display_name": "Python 3 (based on the module python3/2023.01)",
   "language": "python",
   "name": "python3_2023_01"
  },
  "language_info": {
   "codemirror_mode": {
    "name": "ipython",
    "version": 3
   },
   "file_extension": ".py",
   "mimetype": "text/x-python",
   "name": "python",
   "nbconvert_exporter": "python",
   "pygments_lexer": "ipython3",
   "version": "3.10.10"
  }
 },
 "nbformat": 4,
 "nbformat_minor": 5
}
