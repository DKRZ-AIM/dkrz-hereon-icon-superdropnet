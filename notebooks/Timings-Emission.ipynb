{
 "cells": [
  {
   "cell_type": "markdown",
   "id": "4906763a-2976-4054-98ea-78712fd7b7bc",
   "metadata": {},
   "source": [
    "# Benchmark for the emission test tracer\n",
    "\n",
    "The emission test tracer is transported in ICON-AES. The emission test tracer tendency is updated using Python code and the established bridges given in the field attribute `echam_ttr_config%icon_ml_bridge`. \n",
    "\n",
    "- `fortran`: Pure Fortran\n",
    "- `cffi`\n",
    "- `pipes`\n",
    "- `mpi`\n",
    "\n",
    "The benchmark is done on a one-month atm amip simulation where no output is written beyond the basic necessities."
   ]
  },
  {
   "cell_type": "markdown",
   "id": "0171ba34-0430-4805-ab62-e6c1786cf0cc",
   "metadata": {},
   "source": [
    "## Read the times directly from log files\n",
    "\n",
    "Keep the human out of the loop to avoid errors.\n",
    "\n",
    "Cycle all the log files, check if they finished successfully, and retrieve the wall time\n",
    "\n",
    "We go the lazy route and just load the full file, worst case the jupyterhub crashes "
   ]
  },
  {
   "cell_type": "code",
   "execution_count": null,
   "id": "8bf15819-26c0-4b31-9692-ca3993d8ce6f",
   "metadata": {},
   "outputs": [],
   "source": [
    "import pandas as pd\n",
    "import itertools\n",
    "import os\n",
    "from datetime import datetime\n",
    "import numpy as np"
   ]
  },
  {
   "cell_type": "code",
   "execution_count": null,
   "id": "2a8cd14a-7ad4-44e3-9cc1-5e655b2b2529",
   "metadata": {},
   "outputs": [],
   "source": [
    "if os.path.exists('./benchmark.csv'):\n",
    "    df = pd.read_csv('./benchmark.csv')\n",
    "else:\n",
    "    df = pd.DataFrame(columns=['count', 'resolution', 'bridge', 'nodes', 'procs_pernode', 't_start', 't_end', 'logfile', 'is_logfile', 'is_finished_ok'])"
   ]
  },
  {
   "cell_type": "code",
   "execution_count": null,
   "id": "f647dba6-1253-4b96-80a5-d2aaf8da113d",
   "metadata": {},
   "outputs": [],
   "source": [
    "%%time\n",
    "\n",
    "exp_dir = '/work/ka1176/caroline/jobs/hereon_iconml/one_month/mpi_procs_64'\n",
    "\n",
    "var_nodes = [1, 2, 4]\n",
    "var_procs_pernode = [128, 64, 32, 16]\n",
    "var_counts = [1, 2]\n",
    "var_bridges = ['fortran', 'cffi', 'pipes', 'mpi']\n",
    "var_resolutions = ['R02B04']\n",
    "\n",
    "refresh_frame = True # refresh all entries --> False for speed up\n",
    "\n",
    "i=0\n",
    "for nodes, procs_pernode, count, bridge, resolution in itertools.product(var_nodes, var_procs_pernode, var_counts, var_bridges, var_resolutions):\n",
    "    \n",
    "    # check if entry already exists in dataframe\n",
    "    entry = df[df.eval(f\"count=={count} & nodes=={nodes} & procs_pernode=={procs_pernode}\")]\n",
    "    entry = entry.loc[entry['bridge'] == bridge] # stupid string comparison does not work in eval\n",
    "    entry = entry.loc[entry['resolution'] == resolution]\n",
    "    \n",
    "    assert len(entry) <= 1\n",
    "    \n",
    "    refresh_ix = None\n",
    "    \n",
    "    if len(entry)==1 and entry['is_finished_ok'].values[0] is True:\n",
    "        if refresh_frame:\n",
    "            refresh_ix = entry.index\n",
    "            print(f'Entry exists, refreshing index {refresh_ix}')\n",
    "        else:\n",
    "            continue\n",
    "    \n",
    "    logfile = f'LOG_exp.iconml_month_{bridge}_{nodes}-{procs_pernode}_{count}.run'\n",
    "    is_logfile = os.path.exists(os.path.join(exp_dir, logfile))\n",
    "    \n",
    "    # none-initialize the values that are parsed from logfiles\n",
    "    t_start = None\n",
    "    t_end = None\n",
    "    is_finished_ok = False\n",
    "    \n",
    "    # check if the run finished OK\n",
    "    if is_logfile:\n",
    "        with open(os.path.join(exp_dir, logfile)) as f:\n",
    "            ll = f.readlines()\n",
    "            \n",
    "            is_finished_ok = [ 'Script run successfully:  OK' in lll for lll in ll ]\n",
    "            is_finished_ok = np.sum(np.asarray(is_finished_ok)) == 2 # occurs twice in log script\n",
    "            \n",
    "            # read the start and end time\n",
    "            if is_finished_ok:\n",
    "                ix = np.where(np.asarray(ll) == '+ date\\n')[0]\n",
    "                assert len(ix) == 2\n",
    "                t_start = ll[ix[0]+1].strip()\n",
    "                t_end   = ll[ix[1]+1].strip()\n",
    "    \n",
    "    new_entry = pd.DataFrame(dict(count=count,\n",
    "                               resolution=resolution,\n",
    "                               bridge=bridge,\n",
    "                               nodes=nodes,\n",
    "                               procs_pernode=procs_pernode,\n",
    "                               t_start=t_start,\n",
    "                               t_end=t_end,\n",
    "                               logfile=logfile,\n",
    "                               is_logfile=is_logfile,\n",
    "                               is_finished_ok=is_finished_ok), index=[i])\n",
    "    \n",
    "    if refresh_ix is None:\n",
    "        df = pd.concat([df, new_entry], axis=0)\n",
    "    else:\n",
    "        df.iloc[refresh_ix] = new_entry\n",
    "    i += 1"
   ]
  },
  {
   "cell_type": "code",
   "execution_count": null,
   "id": "1ff84989-ff06-492a-a597-62d34ecfdf79",
   "metadata": {},
   "outputs": [],
   "source": [
    "df"
   ]
  },
  {
   "cell_type": "code",
   "execution_count": null,
   "id": "314852b3-1384-4cef-9863-0b5e648a6d3d",
   "metadata": {},
   "outputs": [],
   "source": [
    "df.loc[df['is_finished_ok']]"
   ]
  },
  {
   "cell_type": "code",
   "execution_count": null,
   "id": "672e5582-13dc-4564-8fdc-b24e0c910758",
   "metadata": {},
   "outputs": [],
   "source": [
    "df.to_csv('./benchmark.csv')"
   ]
  },
  {
   "cell_type": "markdown",
   "id": "6114c186-21b1-4936-82d2-c2788a0961cc",
   "metadata": {},
   "source": [
    "## Process\n",
    "\n",
    "- Calculate wall time\n",
    "- Calculate total number of MPI cores"
   ]
  },
  {
   "cell_type": "code",
   "execution_count": null,
   "id": "c8eef0b9-4b83-45a0-b5db-be04c77fe85c",
   "metadata": {},
   "outputs": [],
   "source": [
    "#df = df.loc[df['is_finished_ok']]\n",
    "df.info()"
   ]
  },
  {
   "cell_type": "code",
   "execution_count": null,
   "id": "1fa9d967-a75e-4e1e-abd5-744a320a1d57",
   "metadata": {},
   "outputs": [],
   "source": [
    "df['MPI_processes'] = df['nodes'] * df['procs_pernode']"
   ]
  },
  {
   "cell_type": "code",
   "execution_count": null,
   "id": "49fddcab-3b51-4431-924a-10502aad0c10",
   "metadata": {},
   "outputs": [],
   "source": [
    "def time_stamp_to_seconds(s, tsformat='%a %b %d %H:%M:%S %Z %Y', to_sec=True):\n",
    "    '''\n",
    "    Converts a time stamp from an ICON log script to UNIX seconds\n",
    "    \n",
    "    Parameters:\n",
    "    \n",
    "    s - Time stamp string\n",
    "    tsformat - Format see https://strftime.org/\n",
    "    to_sec - Return as Epoch seconds (default: True)\n",
    "    \n",
    "    Returns:\n",
    "    Parsed time stamp in requested format\n",
    "    '''\n",
    "    \n",
    "    if s == 'None': # typecast as str\n",
    "        return None\n",
    "        \n",
    "    x = datetime.strptime(s, tsformat)\n",
    "    \n",
    "    if to_sec:\n",
    "        return int(x.strftime('%s'))\n",
    "    return x"
   ]
  },
  {
   "cell_type": "code",
   "execution_count": null,
   "id": "dc204f1b-a76b-42aa-8598-1c5613b43f64",
   "metadata": {},
   "outputs": [],
   "source": [
    "df_sec = df[['t_start', 't_end']].astype(str).applymap(time_stamp_to_seconds)\n",
    "df_sec"
   ]
  },
  {
   "cell_type": "code",
   "execution_count": null,
   "id": "a503e887-edb4-48e2-b144-5fb970425a5d",
   "metadata": {},
   "outputs": [],
   "source": [
    "df['delta_t'] = df_sec['t_end'] - df_sec['t_start']"
   ]
  },
  {
   "cell_type": "markdown",
   "id": "b537a4ec-8065-49aa-aefb-127bf897dcaf",
   "metadata": {},
   "source": [
    "## Plot"
   ]
  },
  {
   "cell_type": "code",
   "execution_count": null,
   "id": "00456e45-c6d7-4b90-87da-96a36af9bc6a",
   "metadata": {},
   "outputs": [],
   "source": [
    "import seaborn as sns\n",
    "from matplotlib import pyplot as plt\n",
    "\n",
    "sns.set_style('whitegrid')\n",
    "sns.set_context('talk')"
   ]
  },
  {
   "cell_type": "markdown",
   "id": "3326251a-44df-4739-ac5d-77572f206316",
   "metadata": {},
   "source": [
    "### For different numbers of mpi_procs"
   ]
  },
  {
   "cell_type": "code",
   "execution_count": null,
   "id": "99dd74ab-18d7-40a4-b1d6-323326ef58da",
   "metadata": {},
   "outputs": [],
   "source": [
    "for procs in np.sort(pd.unique(df.MPI_processes)):\n",
    "    print(procs)\n",
    "    \n",
    "    fig, ax = plt.subplots(1, 1, figsize=(8, 5))\n",
    "\n",
    "    sns.barplot(data=df.loc[df['MPI_processes'] == procs], x='nodes', y='delta_t', hue='bridge', ax=ax)\n",
    "\n",
    "    ax.set_title(f'One month R02B04 with {procs} MPI processes')\n",
    "    ax.set_ylabel('Wall time (seconds)')\n",
    "\n",
    "    fig.tight_layout()\n",
    "    plt.show()"
   ]
  },
  {
   "cell_type": "markdown",
   "id": "949d5b03-27eb-49d1-8a0c-f4c8e5b8e15a",
   "metadata": {},
   "source": [
    "### Bridges compared"
   ]
  },
  {
   "cell_type": "code",
   "execution_count": null,
   "id": "4e365553-479b-4934-ab6a-9fb58304e422",
   "metadata": {},
   "outputs": [],
   "source": [
    "fig = plt.figure(figsize=(8, 5))\n",
    "\n",
    "sns.lineplot(data=df, x='MPI_processes', y='delta_t', hue='bridge', legend='brief', marker='o')\n",
    "ax=plt.gca()\n",
    "ax.set(xscale=\"log\", yscale=\"log\")\n",
    "ax.set_xlabel('MPI processes')\n",
    "ax.set_ylabel('Wall time (seconds)')\n",
    "\n",
    "xtix = np.sort(pd.unique(df.MPI_processes)).astype(int)\n",
    "ax.set_xticks(xtix)\n",
    "ax.set_xticklabels(xtix)\n",
    "plt.show()\n"
   ]
  },
  {
   "cell_type": "markdown",
   "id": "7f51ba88-cc80-42c2-b511-d5af7d47e3cd",
   "metadata": {},
   "source": [
    "Compare the runtime when bridge is included with the original Fortran runtime"
   ]
  },
  {
   "cell_type": "code",
   "execution_count": null,
   "id": "a08b610a-7f44-434f-9492-94b324c4542f",
   "metadata": {},
   "outputs": [],
   "source": [
    "for procs in np.sort(pd.unique(df.MPI_processes)):\n",
    "    print('-'*40)\n",
    "    print(' MPI processes: ', procs)\n",
    "    \n",
    "    tmp = df.loc[(df['MPI_processes']==procs) & (df['bridge'] != 'mpi')].groupby('bridge')['delta_t'].mean()\n",
    "    \n",
    "    if tmp.isnull().all():\n",
    "        continue\n",
    "\n",
    "    tmp =  100 * (tmp - tmp.fortran) / tmp.fortran\n",
    "    \n",
    "    print('Relative increase (%) compared to FORTRAN runtime\\n', tmp)"
   ]
  },
  {
   "cell_type": "markdown",
   "id": "f6f8ea20-a528-4407-9f4c-bb9132e89e69",
   "metadata": {},
   "source": [
    "### Variability"
   ]
  },
  {
   "cell_type": "code",
   "execution_count": null,
   "id": "cb2455b1-26d5-4234-8f31-a14c4e6c3381",
   "metadata": {},
   "outputs": [],
   "source": []
  },
  {
   "cell_type": "code",
   "execution_count": null,
   "id": "29eec8b9-0f7f-4298-80cd-59b11bc04846",
   "metadata": {},
   "outputs": [],
   "source": []
  }
 ],
 "metadata": {
  "kernelspec": {
   "display_name": "Python 3 (based on the module python3/2022.01)",
   "language": "python",
   "name": "python3_2022_01"
  },
  "language_info": {
   "codemirror_mode": {
    "name": "ipython",
    "version": 3
   },
   "file_extension": ".py",
   "mimetype": "text/x-python",
   "name": "python",
   "nbconvert_exporter": "python",
   "pygments_lexer": "ipython3",
   "version": "3.9.9"
  }
 },
 "nbformat": 4,
 "nbformat_minor": 5
}
