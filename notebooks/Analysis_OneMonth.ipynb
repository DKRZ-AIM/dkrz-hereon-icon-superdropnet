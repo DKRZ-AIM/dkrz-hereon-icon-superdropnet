{
 "cells": [
  {
   "cell_type": "code",
   "execution_count": 1,
   "metadata": {},
   "outputs": [],
   "source": [
    "import xarray as xr\n",
    "from matplotlib import pyplot as plt\n",
    "import numpy as np\n",
    "\n",
    "import os"
   ]
  },
  {
   "cell_type": "markdown",
   "metadata": {},
   "source": [
    "## Compare the runtime"
   ]
  },
  {
   "cell_type": "code",
   "execution_count": 2,
   "metadata": {},
   "outputs": [],
   "source": [
    "first_file = 'NAMELIST_atm_amip_emission_caroline_month_med_atm'\n",
    "last_file  = 'atm_amip_emission_caroline_month_med_atm_3d_ml_19790201T000000Z.nc'"
   ]
  },
  {
   "cell_type": "code",
   "execution_count": 3,
   "metadata": {},
   "outputs": [],
   "source": [
    "dir_fort = '/work/ka1176/caroline/gitlab/icon-aes/experiments/atm_amip_emission_caroline_month_med_standard/'\n",
    "dir_cffi = '/work/ka1176/caroline/gitlab/icon-aes/experiments/atm_amip_emission_caroline_month_med_cffi/'"
   ]
  },
  {
   "cell_type": "markdown",
   "metadata": {},
   "source": [
    "### Standard (calling fortran)"
   ]
  },
  {
   "cell_type": "code",
   "execution_count": 4,
   "metadata": {},
   "outputs": [
    {
     "data": {
      "text/plain": [
       "'/work/ka1176/caroline/gitlab/icon-aes/experiments/atm_amip_emission_caroline_month_med_standard/NAMELIST_atm_amip_emission_caroline_month_med_atm'"
      ]
     },
     "execution_count": 4,
     "metadata": {},
     "output_type": "execute_result"
    }
   ],
   "source": [
    "os.path.join(dir_fort, first_file)"
   ]
  },
  {
   "cell_type": "code",
   "execution_count": 5,
   "metadata": {},
   "outputs": [
    {
     "data": {
      "text/plain": [
       "'/work/ka1176/caroline/gitlab/icon-aes/experiments/atm_amip_emission_caroline_month_med_standard/atm_amip_emission_caroline_month_med_atm_3d_ml_19790201T000000Z.nc'"
      ]
     },
     "execution_count": 5,
     "metadata": {},
     "output_type": "execute_result"
    }
   ],
   "source": [
    "os.path.join(dir_fort, last_file)"
   ]
  },
  {
   "cell_type": "code",
   "execution_count": 6,
   "metadata": {},
   "outputs": [
    {
     "name": "stdout",
     "output_type": "stream",
     "text": [
      "  File: `/work/ka1176/caroline/gitlab/icon-aes/experiments/atm_amip_emission_caroline_month_med_standard/NAMELIST_atm_amip_emission_caroline_month_med_atm'\n",
      "  Size: 6538      \tBlocks: 16         IO Block: 4194304 regular file\n",
      "Device: 70806764h/1887463268d\tInode: 144122764414948095  Links: 1\n",
      "Access: (0644/-rw-r--r--)  Uid: (200155/ k202141)   Gid: (200189/  ka1176)\n",
      "Access: 2022-04-05 16:11:38.000000000 +0200\n",
      "Modify: 2022-04-05 16:11:23.000000000 +0200\n",
      "Change: 2022-04-05 16:11:24.000000000 +0200\n"
     ]
    }
   ],
   "source": [
    "!stat /work/ka1176/caroline/gitlab/icon-aes/experiments/atm_amip_emission_caroline_month_med_standard/NAMELIST_atm_amip_emission_caroline_month_med_atm"
   ]
  },
  {
   "cell_type": "code",
   "execution_count": 7,
   "metadata": {},
   "outputs": [
    {
     "name": "stdout",
     "output_type": "stream",
     "text": [
      "  File: `/work/ka1176/caroline/gitlab/icon-aes/experiments/atm_amip_emission_caroline_month_med_standard/atm_amip_emission_caroline_month_med_atm_3d_ml_19790201T000000Z.nc'\n",
      "  Size: 691585    \tBlocks: 1352       IO Block: 4194304 regular file\n",
      "Device: 70806764h/1887463268d\tInode: 144122764079405323  Links: 1\n",
      "Access: (0644/-rw-r--r--)  Uid: (200155/ k202141)   Gid: (200189/  ka1176)\n",
      "Access: 2022-04-05 17:34:14.000000000 +0200\n",
      "Modify: 2022-04-05 16:15:26.000000000 +0200\n",
      "Change: 2022-04-05 16:15:26.000000000 +0200\n"
     ]
    }
   ],
   "source": [
    "!stat /work/ka1176/caroline/gitlab/icon-aes/experiments/atm_amip_emission_caroline_month_med_standard/atm_amip_emission_caroline_month_med_atm_3d_ml_19790201T000000Z.nc"
   ]
  },
  {
   "cell_type": "markdown",
   "metadata": {},
   "source": [
    "### Embedded (calling python)"
   ]
  },
  {
   "cell_type": "code",
   "execution_count": 8,
   "metadata": {},
   "outputs": [
    {
     "data": {
      "text/plain": [
       "'/work/ka1176/caroline/gitlab/icon-aes/experiments/atm_amip_emission_caroline_month_med_cffi/NAMELIST_atm_amip_emission_caroline_month_med_atm'"
      ]
     },
     "execution_count": 8,
     "metadata": {},
     "output_type": "execute_result"
    }
   ],
   "source": [
    "os.path.join(dir_cffi, first_file)"
   ]
  },
  {
   "cell_type": "code",
   "execution_count": 9,
   "metadata": {},
   "outputs": [
    {
     "data": {
      "text/plain": [
       "'/work/ka1176/caroline/gitlab/icon-aes/experiments/atm_amip_emission_caroline_month_med_cffi/atm_amip_emission_caroline_month_med_atm_3d_ml_19790201T000000Z.nc'"
      ]
     },
     "execution_count": 9,
     "metadata": {},
     "output_type": "execute_result"
    }
   ],
   "source": [
    "os.path.join(dir_cffi, last_file)"
   ]
  },
  {
   "cell_type": "code",
   "execution_count": 10,
   "metadata": {},
   "outputs": [
    {
     "name": "stdout",
     "output_type": "stream",
     "text": [
      "  File: `/work/ka1176/caroline/gitlab/icon-aes/experiments/atm_amip_emission_caroline_month_med_cffi/NAMELIST_atm_amip_emission_caroline_month_med_atm'\n",
      "  Size: 6538      \tBlocks: 16         IO Block: 4194304 regular file\n",
      "Device: 70806764h/1887463268d\tInode: 144122792147688879  Links: 1\n",
      "Access: (0644/-rw-r--r--)  Uid: (200155/ k202141)   Gid: (200189/  ka1176)\n",
      "Access: 2022-04-05 20:33:17.000000000 +0200\n",
      "Modify: 2022-04-05 20:33:02.000000000 +0200\n",
      "Change: 2022-04-05 20:33:02.000000000 +0200\n"
     ]
    }
   ],
   "source": [
    "!stat /work/ka1176/caroline/gitlab/icon-aes/experiments/atm_amip_emission_caroline_month_med_cffi/NAMELIST_atm_amip_emission_caroline_month_med_atm"
   ]
  },
  {
   "cell_type": "code",
   "execution_count": 11,
   "metadata": {},
   "outputs": [
    {
     "name": "stdout",
     "output_type": "stream",
     "text": [
      "  File: `/work/ka1176/caroline/gitlab/icon-aes/experiments/atm_amip_emission_caroline_month_med_cffi/atm_amip_emission_caroline_month_med_atm_3d_ml_19790201T000000Z.nc'\n",
      "  Size: 691585    \tBlocks: 1352       IO Block: 4194304 regular file\n",
      "Device: 70806764h/1887463268d\tInode: 144122795503127122  Links: 1\n",
      "Access: (0644/-rw-r--r--)  Uid: (200155/ k202141)   Gid: (200189/  ka1176)\n",
      "Access: 2022-04-05 20:37:09.000000000 +0200\n",
      "Modify: 2022-04-05 20:37:10.000000000 +0200\n",
      "Change: 2022-04-05 20:37:10.000000000 +0200\n"
     ]
    }
   ],
   "source": [
    "!stat /work/ka1176/caroline/gitlab/icon-aes/experiments/atm_amip_emission_caroline_month_med_cffi/atm_amip_emission_caroline_month_med_atm_3d_ml_19790201T000000Z.nc"
   ]
  },
  {
   "cell_type": "markdown",
   "metadata": {},
   "source": [
    "### Comparison"
   ]
  },
  {
   "cell_type": "markdown",
   "metadata": {},
   "source": [
    "#### Extract the pure Fortran runtime\n",
    "\n",
    "The Fortran run created its first file at \n",
    "\n",
    "> 2022-04-05 16:11:23.000000000 +0200\n",
    "\n",
    "and the last file at \n",
    "\n",
    "> 2022-04-05 16:15:26.000000000 +0200\n",
    "\n",
    "The difference is\n",
    "\n",
    "> 4 min 3 sec"
   ]
  },
  {
   "cell_type": "markdown",
   "metadata": {},
   "source": [
    "#### Extract the embedded Python runtime\n",
    "\n",
    "The embedded python run created its first file at \n",
    "\n",
    "> 2022-04-05 17:03:49.000000000 +0200\n",
    "\n",
    "and the last file at \n",
    "\n",
    "> 2022-04-05 17:07:51.000000000 +0200\n",
    "\n",
    "The difference is\n",
    "\n",
    "> 4 min 2 sec"
   ]
  },
  {
   "cell_type": "markdown",
   "metadata": {},
   "source": [
    "#### Conclusion\n",
    "\n",
    "Both one-month runs took the same time to complete, indicating no significant overhead for a quick Python calculation that is executed in embedded code. Execution time remains dominated by other components, mainly File I/O. Reading from the log files, we can try to estimate the time that is passing between the log steps, that are executed every 72nd model step in our scenario.\n",
    "\n"
   ]
  },
  {
   "cell_type": "code",
   "execution_count": 55,
   "metadata": {},
   "outputs": [
    {
     "name": "stdout",
     "output_type": "stream",
     "text": [
      "Time per model step (Fortran) 0.11362500000015846\n",
      "Time per model step (CFFI)    0.11327777777801708\n"
     ]
    }
   ],
   "source": [
    "t1_fort = 161203.381\n",
    "t2_fort = 161211.562\n",
    "steps = 72\n",
    "\n",
    "t1_cffi = 203341.647\n",
    "t2_cffi = 203349.803\n",
    "\n",
    "print('Time per model step (Fortran)', (t2_fort - t1_fort) / steps)\n",
    "print('Time per model step (CFFI)   ', (t2_cffi - t1_cffi) / steps)"
   ]
  },
  {
   "cell_type": "markdown",
   "metadata": {},
   "source": [
    "## Compare the results"
   ]
  },
  {
   "cell_type": "code",
   "execution_count": 12,
   "metadata": {},
   "outputs": [],
   "source": [
    "import cartopy\n",
    "import cartopy.crs as ccrs\n",
    "from cartopy.util import add_cyclic_point\n",
    "import cartopy.feature"
   ]
  },
  {
   "cell_type": "code",
   "execution_count": 13,
   "metadata": {},
   "outputs": [],
   "source": [
    "from cdo import *\n",
    "\n",
    "cdo = Cdo()"
   ]
  },
  {
   "cell_type": "code",
   "execution_count": 14,
   "metadata": {},
   "outputs": [],
   "source": [
    "tempPath = './tmp/'\n",
    "cdo = Cdo(tempdir=tempPath)"
   ]
  },
  {
   "cell_type": "code",
   "execution_count": 39,
   "metadata": {},
   "outputs": [],
   "source": [
    "day = 31"
   ]
  },
  {
   "cell_type": "code",
   "execution_count": 40,
   "metadata": {},
   "outputs": [],
   "source": [
    "infile_fort  = os.path.join(dir_fort, f'atm_amip_emission_caroline_month_med_atm_3d_ml_197901{day:02d}T000000Z.nc')\n",
    "outfile_fort = f'./remapped/remap_fort_{day:02d}.nc'\n",
    "\n",
    "infile_cffi  = os.path.join(dir_cffi, f'atm_amip_emission_caroline_month_med_atm_3d_ml_197901{day:02d}T000000Z.nc')\n",
    "outfile_cffi = f'./remapped/remap_cffi_{day:02d}.nc'"
   ]
  },
  {
   "cell_type": "code",
   "execution_count": 41,
   "metadata": {},
   "outputs": [
    {
     "data": {
      "text/plain": [
       "'./remapped/remap_cffi_31.nc'"
      ]
     },
     "execution_count": 41,
     "metadata": {},
     "output_type": "execute_result"
    }
   ],
   "source": [
    "cdo.remapcon('t63grid', input='-seltimestep,1 -selvar,ttr ' + infile_fort, output=outfile_fort)\n",
    "cdo.remapcon('t63grid', input='-seltimestep,1 -selvar,ttr ' + infile_cffi, output=outfile_cffi)"
   ]
  },
  {
   "cell_type": "code",
   "execution_count": 42,
   "metadata": {},
   "outputs": [],
   "source": [
    "remapped_fort = xr.open_dataset(outfile_fort)\n",
    "remapped_fort.close()\n",
    "\n",
    "remapped_cffi = xr.open_dataset(outfile_cffi)\n",
    "remapped_cffi.close()"
   ]
  },
  {
   "cell_type": "code",
   "execution_count": 43,
   "metadata": {},
   "outputs": [
    {
     "data": {
      "text/html": [
       "<div><svg style=\"position: absolute; width: 0; height: 0; overflow: hidden\">\n",
       "<defs>\n",
       "<symbol id=\"icon-database\" viewBox=\"0 0 32 32\">\n",
       "<path d=\"M16 0c-8.837 0-16 2.239-16 5v4c0 2.761 7.163 5 16 5s16-2.239 16-5v-4c0-2.761-7.163-5-16-5z\"></path>\n",
       "<path d=\"M16 17c-8.837 0-16-2.239-16-5v6c0 2.761 7.163 5 16 5s16-2.239 16-5v-6c0 2.761-7.163 5-16 5z\"></path>\n",
       "<path d=\"M16 26c-8.837 0-16-2.239-16-5v6c0 2.761 7.163 5 16 5s16-2.239 16-5v-6c0 2.761-7.163 5-16 5z\"></path>\n",
       "</symbol>\n",
       "<symbol id=\"icon-file-text2\" viewBox=\"0 0 32 32\">\n",
       "<path d=\"M28.681 7.159c-0.694-0.947-1.662-2.053-2.724-3.116s-2.169-2.030-3.116-2.724c-1.612-1.182-2.393-1.319-2.841-1.319h-15.5c-1.378 0-2.5 1.121-2.5 2.5v27c0 1.378 1.122 2.5 2.5 2.5h23c1.378 0 2.5-1.122 2.5-2.5v-19.5c0-0.448-0.137-1.23-1.319-2.841zM24.543 5.457c0.959 0.959 1.712 1.825 2.268 2.543h-4.811v-4.811c0.718 0.556 1.584 1.309 2.543 2.268zM28 29.5c0 0.271-0.229 0.5-0.5 0.5h-23c-0.271 0-0.5-0.229-0.5-0.5v-27c0-0.271 0.229-0.5 0.5-0.5 0 0 15.499-0 15.5 0v7c0 0.552 0.448 1 1 1h7v19.5z\"></path>\n",
       "<path d=\"M23 26h-14c-0.552 0-1-0.448-1-1s0.448-1 1-1h14c0.552 0 1 0.448 1 1s-0.448 1-1 1z\"></path>\n",
       "<path d=\"M23 22h-14c-0.552 0-1-0.448-1-1s0.448-1 1-1h14c0.552 0 1 0.448 1 1s-0.448 1-1 1z\"></path>\n",
       "<path d=\"M23 18h-14c-0.552 0-1-0.448-1-1s0.448-1 1-1h14c0.552 0 1 0.448 1 1s-0.448 1-1 1z\"></path>\n",
       "</symbol>\n",
       "</defs>\n",
       "</svg>\n",
       "<style>/* CSS stylesheet for displaying xarray objects in jupyterlab.\n",
       " *\n",
       " */\n",
       "\n",
       ":root {\n",
       "  --xr-font-color0: var(--jp-content-font-color0, rgba(0, 0, 0, 1));\n",
       "  --xr-font-color2: var(--jp-content-font-color2, rgba(0, 0, 0, 0.54));\n",
       "  --xr-font-color3: var(--jp-content-font-color3, rgba(0, 0, 0, 0.38));\n",
       "  --xr-border-color: var(--jp-border-color2, #e0e0e0);\n",
       "  --xr-disabled-color: var(--jp-layout-color3, #bdbdbd);\n",
       "  --xr-background-color: var(--jp-layout-color0, white);\n",
       "  --xr-background-color-row-even: var(--jp-layout-color1, white);\n",
       "  --xr-background-color-row-odd: var(--jp-layout-color2, #eeeeee);\n",
       "}\n",
       "\n",
       "html[theme=dark],\n",
       "body.vscode-dark {\n",
       "  --xr-font-color0: rgba(255, 255, 255, 1);\n",
       "  --xr-font-color2: rgba(255, 255, 255, 0.54);\n",
       "  --xr-font-color3: rgba(255, 255, 255, 0.38);\n",
       "  --xr-border-color: #1F1F1F;\n",
       "  --xr-disabled-color: #515151;\n",
       "  --xr-background-color: #111111;\n",
       "  --xr-background-color-row-even: #111111;\n",
       "  --xr-background-color-row-odd: #313131;\n",
       "}\n",
       "\n",
       ".xr-wrap {\n",
       "  display: block;\n",
       "  min-width: 300px;\n",
       "  max-width: 700px;\n",
       "}\n",
       "\n",
       ".xr-text-repr-fallback {\n",
       "  /* fallback to plain text repr when CSS is not injected (untrusted notebook) */\n",
       "  display: none;\n",
       "}\n",
       "\n",
       ".xr-header {\n",
       "  padding-top: 6px;\n",
       "  padding-bottom: 6px;\n",
       "  margin-bottom: 4px;\n",
       "  border-bottom: solid 1px var(--xr-border-color);\n",
       "}\n",
       "\n",
       ".xr-header > div,\n",
       ".xr-header > ul {\n",
       "  display: inline;\n",
       "  margin-top: 0;\n",
       "  margin-bottom: 0;\n",
       "}\n",
       "\n",
       ".xr-obj-type,\n",
       ".xr-array-name {\n",
       "  margin-left: 2px;\n",
       "  margin-right: 10px;\n",
       "}\n",
       "\n",
       ".xr-obj-type {\n",
       "  color: var(--xr-font-color2);\n",
       "}\n",
       "\n",
       ".xr-sections {\n",
       "  padding-left: 0 !important;\n",
       "  display: grid;\n",
       "  grid-template-columns: 150px auto auto 1fr 20px 20px;\n",
       "}\n",
       "\n",
       ".xr-section-item {\n",
       "  display: contents;\n",
       "}\n",
       "\n",
       ".xr-section-item input {\n",
       "  display: none;\n",
       "}\n",
       "\n",
       ".xr-section-item input + label {\n",
       "  color: var(--xr-disabled-color);\n",
       "}\n",
       "\n",
       ".xr-section-item input:enabled + label {\n",
       "  cursor: pointer;\n",
       "  color: var(--xr-font-color2);\n",
       "}\n",
       "\n",
       ".xr-section-item input:enabled + label:hover {\n",
       "  color: var(--xr-font-color0);\n",
       "}\n",
       "\n",
       ".xr-section-summary {\n",
       "  grid-column: 1;\n",
       "  color: var(--xr-font-color2);\n",
       "  font-weight: 500;\n",
       "}\n",
       "\n",
       ".xr-section-summary > span {\n",
       "  display: inline-block;\n",
       "  padding-left: 0.5em;\n",
       "}\n",
       "\n",
       ".xr-section-summary-in:disabled + label {\n",
       "  color: var(--xr-font-color2);\n",
       "}\n",
       "\n",
       ".xr-section-summary-in + label:before {\n",
       "  display: inline-block;\n",
       "  content: '►';\n",
       "  font-size: 11px;\n",
       "  width: 15px;\n",
       "  text-align: center;\n",
       "}\n",
       "\n",
       ".xr-section-summary-in:disabled + label:before {\n",
       "  color: var(--xr-disabled-color);\n",
       "}\n",
       "\n",
       ".xr-section-summary-in:checked + label:before {\n",
       "  content: '▼';\n",
       "}\n",
       "\n",
       ".xr-section-summary-in:checked + label > span {\n",
       "  display: none;\n",
       "}\n",
       "\n",
       ".xr-section-summary,\n",
       ".xr-section-inline-details {\n",
       "  padding-top: 4px;\n",
       "  padding-bottom: 4px;\n",
       "}\n",
       "\n",
       ".xr-section-inline-details {\n",
       "  grid-column: 2 / -1;\n",
       "}\n",
       "\n",
       ".xr-section-details {\n",
       "  display: none;\n",
       "  grid-column: 1 / -1;\n",
       "  margin-bottom: 5px;\n",
       "}\n",
       "\n",
       ".xr-section-summary-in:checked ~ .xr-section-details {\n",
       "  display: contents;\n",
       "}\n",
       "\n",
       ".xr-array-wrap {\n",
       "  grid-column: 1 / -1;\n",
       "  display: grid;\n",
       "  grid-template-columns: 20px auto;\n",
       "}\n",
       "\n",
       ".xr-array-wrap > label {\n",
       "  grid-column: 1;\n",
       "  vertical-align: top;\n",
       "}\n",
       "\n",
       ".xr-preview {\n",
       "  color: var(--xr-font-color3);\n",
       "}\n",
       "\n",
       ".xr-array-preview,\n",
       ".xr-array-data {\n",
       "  padding: 0 5px !important;\n",
       "  grid-column: 2;\n",
       "}\n",
       "\n",
       ".xr-array-data,\n",
       ".xr-array-in:checked ~ .xr-array-preview {\n",
       "  display: none;\n",
       "}\n",
       "\n",
       ".xr-array-in:checked ~ .xr-array-data,\n",
       ".xr-array-preview {\n",
       "  display: inline-block;\n",
       "}\n",
       "\n",
       ".xr-dim-list {\n",
       "  display: inline-block !important;\n",
       "  list-style: none;\n",
       "  padding: 0 !important;\n",
       "  margin: 0;\n",
       "}\n",
       "\n",
       ".xr-dim-list li {\n",
       "  display: inline-block;\n",
       "  padding: 0;\n",
       "  margin: 0;\n",
       "}\n",
       "\n",
       ".xr-dim-list:before {\n",
       "  content: '(';\n",
       "}\n",
       "\n",
       ".xr-dim-list:after {\n",
       "  content: ')';\n",
       "}\n",
       "\n",
       ".xr-dim-list li:not(:last-child):after {\n",
       "  content: ',';\n",
       "  padding-right: 5px;\n",
       "}\n",
       "\n",
       ".xr-has-index {\n",
       "  font-weight: bold;\n",
       "}\n",
       "\n",
       ".xr-var-list,\n",
       ".xr-var-item {\n",
       "  display: contents;\n",
       "}\n",
       "\n",
       ".xr-var-item > div,\n",
       ".xr-var-item label,\n",
       ".xr-var-item > .xr-var-name span {\n",
       "  background-color: var(--xr-background-color-row-even);\n",
       "  margin-bottom: 0;\n",
       "}\n",
       "\n",
       ".xr-var-item > .xr-var-name:hover span {\n",
       "  padding-right: 5px;\n",
       "}\n",
       "\n",
       ".xr-var-list > li:nth-child(odd) > div,\n",
       ".xr-var-list > li:nth-child(odd) > label,\n",
       ".xr-var-list > li:nth-child(odd) > .xr-var-name span {\n",
       "  background-color: var(--xr-background-color-row-odd);\n",
       "}\n",
       "\n",
       ".xr-var-name {\n",
       "  grid-column: 1;\n",
       "}\n",
       "\n",
       ".xr-var-dims {\n",
       "  grid-column: 2;\n",
       "}\n",
       "\n",
       ".xr-var-dtype {\n",
       "  grid-column: 3;\n",
       "  text-align: right;\n",
       "  color: var(--xr-font-color2);\n",
       "}\n",
       "\n",
       ".xr-var-preview {\n",
       "  grid-column: 4;\n",
       "}\n",
       "\n",
       ".xr-var-name,\n",
       ".xr-var-dims,\n",
       ".xr-var-dtype,\n",
       ".xr-preview,\n",
       ".xr-attrs dt {\n",
       "  white-space: nowrap;\n",
       "  overflow: hidden;\n",
       "  text-overflow: ellipsis;\n",
       "  padding-right: 10px;\n",
       "}\n",
       "\n",
       ".xr-var-name:hover,\n",
       ".xr-var-dims:hover,\n",
       ".xr-var-dtype:hover,\n",
       ".xr-attrs dt:hover {\n",
       "  overflow: visible;\n",
       "  width: auto;\n",
       "  z-index: 1;\n",
       "}\n",
       "\n",
       ".xr-var-attrs,\n",
       ".xr-var-data {\n",
       "  display: none;\n",
       "  background-color: var(--xr-background-color) !important;\n",
       "  padding-bottom: 5px !important;\n",
       "}\n",
       "\n",
       ".xr-var-attrs-in:checked ~ .xr-var-attrs,\n",
       ".xr-var-data-in:checked ~ .xr-var-data {\n",
       "  display: block;\n",
       "}\n",
       "\n",
       ".xr-var-data > table {\n",
       "  float: right;\n",
       "}\n",
       "\n",
       ".xr-var-name span,\n",
       ".xr-var-data,\n",
       ".xr-attrs {\n",
       "  padding-left: 25px !important;\n",
       "}\n",
       "\n",
       ".xr-attrs,\n",
       ".xr-var-attrs,\n",
       ".xr-var-data {\n",
       "  grid-column: 1 / -1;\n",
       "}\n",
       "\n",
       "dl.xr-attrs {\n",
       "  padding: 0;\n",
       "  margin: 0;\n",
       "  display: grid;\n",
       "  grid-template-columns: 125px auto;\n",
       "}\n",
       "\n",
       ".xr-attrs dt,\n",
       ".xr-attrs dd {\n",
       "  padding: 0;\n",
       "  margin: 0;\n",
       "  float: left;\n",
       "  padding-right: 10px;\n",
       "  width: auto;\n",
       "}\n",
       "\n",
       ".xr-attrs dt {\n",
       "  font-weight: normal;\n",
       "  grid-column: 1;\n",
       "}\n",
       "\n",
       ".xr-attrs dt:hover span {\n",
       "  display: inline-block;\n",
       "  background: var(--xr-background-color);\n",
       "  padding-right: 10px;\n",
       "}\n",
       "\n",
       ".xr-attrs dd {\n",
       "  grid-column: 2;\n",
       "  white-space: pre-wrap;\n",
       "  word-break: break-all;\n",
       "}\n",
       "\n",
       ".xr-icon-database,\n",
       ".xr-icon-file-text2 {\n",
       "  display: inline-block;\n",
       "  vertical-align: middle;\n",
       "  width: 1em;\n",
       "  height: 1.5em !important;\n",
       "  stroke-width: 0;\n",
       "  stroke: currentColor;\n",
       "  fill: currentColor;\n",
       "}\n",
       "</style><pre class='xr-text-repr-fallback'>&lt;xarray.Dataset&gt;\n",
       "Dimensions:      (time: 1, lon: 192, lat: 96, bnds: 2, height: 47)\n",
       "Coordinates:\n",
       "  * time         (time) float64 1.979e+07\n",
       "  * lon          (lon) float64 0.0 1.875 3.75 5.625 ... 352.5 354.4 356.2 358.1\n",
       "  * lat          (lat) float64 88.57 86.72 84.86 83.0 ... -84.86 -86.72 -88.57\n",
       "  * height       (height) float64 1.0 2.0 3.0 4.0 5.0 ... 44.0 45.0 46.0 47.0\n",
       "Dimensions without coordinates: bnds\n",
       "Data variables:\n",
       "    lat_bnds     (lat, bnds) float64 87.71 90.0 85.83 ... -85.83 -90.0 -87.71\n",
       "    height_bnds  (height, bnds) float64 1.0 2.0 2.0 3.0 ... 46.0 47.0 47.0 48.0\n",
       "    ttr          (time, height, lat, lon) float32 ...\n",
       "Attributes:\n",
       "    CDI:          Climate Data Interface version 1.9.10 (https://mpimet.mpg.d...\n",
       "    Conventions:  CF-1.6\n",
       "    uuidOfVGrid:  77af4ca7-2d71-079d-1f8e-3e1c5c9f29c0\n",
       "    source:       git@gitlab.dkrz.de:k202141/icon-aes-fork.git@c1750c2ed05fd2...\n",
       "    institution:  Max Planck Institute for Meteorology\n",
       "    title:        ICON simulation\n",
       "    history:      Tue Apr 05 20:44:11 2022: cdo -O -remapcon,t63grid -seltime...\n",
       "    references:   see MPIM/DWD publications\n",
       "    comment:      Caroline Arnold (k202141) on m11357 (Linux 2.6.32-754.41.2....\n",
       "    CDO:          Climate Data Operators version 1.9.10 (https://mpimet.mpg.d...</pre><div class='xr-wrap' hidden><div class='xr-header'><div class='xr-obj-type'>xarray.Dataset</div></div><ul class='xr-sections'><li class='xr-section-item'><input id='section-8c6f46ca-4a2f-4c3d-b10a-eb1fe7cb3afe' class='xr-section-summary-in' type='checkbox' disabled ><label for='section-8c6f46ca-4a2f-4c3d-b10a-eb1fe7cb3afe' class='xr-section-summary'  title='Expand/collapse section'>Dimensions:</label><div class='xr-section-inline-details'><ul class='xr-dim-list'><li><span class='xr-has-index'>time</span>: 1</li><li><span class='xr-has-index'>lon</span>: 192</li><li><span class='xr-has-index'>lat</span>: 96</li><li><span>bnds</span>: 2</li><li><span class='xr-has-index'>height</span>: 47</li></ul></div><div class='xr-section-details'></div></li><li class='xr-section-item'><input id='section-a27aa93d-ebba-48ef-bf62-e5c8befa6b66' class='xr-section-summary-in' type='checkbox'  checked><label for='section-a27aa93d-ebba-48ef-bf62-e5c8befa6b66' class='xr-section-summary' >Coordinates: <span>(4)</span></label><div class='xr-section-inline-details'></div><div class='xr-section-details'><ul class='xr-var-list'><li class='xr-var-item'><div class='xr-var-name'><span class='xr-has-index'>time</span></div><div class='xr-var-dims'>(time)</div><div class='xr-var-dtype'>float64</div><div class='xr-var-preview xr-preview'>1.979e+07</div><input id='attrs-a2ca03c0-9a4d-44d8-8446-0b1cfa5fd564' class='xr-var-attrs-in' type='checkbox' ><label for='attrs-a2ca03c0-9a4d-44d8-8446-0b1cfa5fd564' title='Show/Hide attributes'><svg class='icon xr-icon-file-text2'><use xlink:href='#icon-file-text2'></use></svg></label><input id='data-a07f1c42-d449-4186-ae7e-2c5868b29968' class='xr-var-data-in' type='checkbox'><label for='data-a07f1c42-d449-4186-ae7e-2c5868b29968' title='Show/Hide data repr'><svg class='icon xr-icon-database'><use xlink:href='#icon-database'></use></svg></label><div class='xr-var-attrs'><dl class='xr-attrs'><dt><span>standard_name :</span></dt><dd>time</dd><dt><span>units :</span></dt><dd>day as %Y%m%d.%f</dd><dt><span>calendar :</span></dt><dd>proleptic_gregorian</dd><dt><span>axis :</span></dt><dd>T</dd></dl></div><div class='xr-var-data'><pre>array([19790131.])</pre></div></li><li class='xr-var-item'><div class='xr-var-name'><span class='xr-has-index'>lon</span></div><div class='xr-var-dims'>(lon)</div><div class='xr-var-dtype'>float64</div><div class='xr-var-preview xr-preview'>0.0 1.875 3.75 ... 356.2 358.1</div><input id='attrs-41d3a604-3e72-4e57-808d-b42657adbf7c' class='xr-var-attrs-in' type='checkbox' ><label for='attrs-41d3a604-3e72-4e57-808d-b42657adbf7c' title='Show/Hide attributes'><svg class='icon xr-icon-file-text2'><use xlink:href='#icon-file-text2'></use></svg></label><input id='data-b499be47-9633-4234-84dc-1fbc8cb28e93' class='xr-var-data-in' type='checkbox'><label for='data-b499be47-9633-4234-84dc-1fbc8cb28e93' title='Show/Hide data repr'><svg class='icon xr-icon-database'><use xlink:href='#icon-database'></use></svg></label><div class='xr-var-attrs'><dl class='xr-attrs'><dt><span>standard_name :</span></dt><dd>longitude</dd><dt><span>long_name :</span></dt><dd>longitude</dd><dt><span>units :</span></dt><dd>degrees_east</dd><dt><span>axis :</span></dt><dd>X</dd></dl></div><div class='xr-var-data'><pre>array([  0.   ,   1.875,   3.75 ,   5.625,   7.5  ,   9.375,  11.25 ,  13.125,\n",
       "        15.   ,  16.875,  18.75 ,  20.625,  22.5  ,  24.375,  26.25 ,  28.125,\n",
       "        30.   ,  31.875,  33.75 ,  35.625,  37.5  ,  39.375,  41.25 ,  43.125,\n",
       "        45.   ,  46.875,  48.75 ,  50.625,  52.5  ,  54.375,  56.25 ,  58.125,\n",
       "        60.   ,  61.875,  63.75 ,  65.625,  67.5  ,  69.375,  71.25 ,  73.125,\n",
       "        75.   ,  76.875,  78.75 ,  80.625,  82.5  ,  84.375,  86.25 ,  88.125,\n",
       "        90.   ,  91.875,  93.75 ,  95.625,  97.5  ,  99.375, 101.25 , 103.125,\n",
       "       105.   , 106.875, 108.75 , 110.625, 112.5  , 114.375, 116.25 , 118.125,\n",
       "       120.   , 121.875, 123.75 , 125.625, 127.5  , 129.375, 131.25 , 133.125,\n",
       "       135.   , 136.875, 138.75 , 140.625, 142.5  , 144.375, 146.25 , 148.125,\n",
       "       150.   , 151.875, 153.75 , 155.625, 157.5  , 159.375, 161.25 , 163.125,\n",
       "       165.   , 166.875, 168.75 , 170.625, 172.5  , 174.375, 176.25 , 178.125,\n",
       "       180.   , 181.875, 183.75 , 185.625, 187.5  , 189.375, 191.25 , 193.125,\n",
       "       195.   , 196.875, 198.75 , 200.625, 202.5  , 204.375, 206.25 , 208.125,\n",
       "       210.   , 211.875, 213.75 , 215.625, 217.5  , 219.375, 221.25 , 223.125,\n",
       "       225.   , 226.875, 228.75 , 230.625, 232.5  , 234.375, 236.25 , 238.125,\n",
       "       240.   , 241.875, 243.75 , 245.625, 247.5  , 249.375, 251.25 , 253.125,\n",
       "       255.   , 256.875, 258.75 , 260.625, 262.5  , 264.375, 266.25 , 268.125,\n",
       "       270.   , 271.875, 273.75 , 275.625, 277.5  , 279.375, 281.25 , 283.125,\n",
       "       285.   , 286.875, 288.75 , 290.625, 292.5  , 294.375, 296.25 , 298.125,\n",
       "       300.   , 301.875, 303.75 , 305.625, 307.5  , 309.375, 311.25 , 313.125,\n",
       "       315.   , 316.875, 318.75 , 320.625, 322.5  , 324.375, 326.25 , 328.125,\n",
       "       330.   , 331.875, 333.75 , 335.625, 337.5  , 339.375, 341.25 , 343.125,\n",
       "       345.   , 346.875, 348.75 , 350.625, 352.5  , 354.375, 356.25 , 358.125])</pre></div></li><li class='xr-var-item'><div class='xr-var-name'><span class='xr-has-index'>lat</span></div><div class='xr-var-dims'>(lat)</div><div class='xr-var-dtype'>float64</div><div class='xr-var-preview xr-preview'>88.57 86.72 84.86 ... -86.72 -88.57</div><input id='attrs-3770602e-b386-49ae-b409-1442b7bba7a0' class='xr-var-attrs-in' type='checkbox' ><label for='attrs-3770602e-b386-49ae-b409-1442b7bba7a0' title='Show/Hide attributes'><svg class='icon xr-icon-file-text2'><use xlink:href='#icon-file-text2'></use></svg></label><input id='data-6ae97277-93fb-45ac-a9b5-b2a156680961' class='xr-var-data-in' type='checkbox'><label for='data-6ae97277-93fb-45ac-a9b5-b2a156680961' title='Show/Hide data repr'><svg class='icon xr-icon-database'><use xlink:href='#icon-database'></use></svg></label><div class='xr-var-attrs'><dl class='xr-attrs'><dt><span>standard_name :</span></dt><dd>latitude</dd><dt><span>long_name :</span></dt><dd>latitude</dd><dt><span>units :</span></dt><dd>degrees_north</dd><dt><span>axis :</span></dt><dd>Y</dd><dt><span>bounds :</span></dt><dd>lat_bnds</dd></dl></div><div class='xr-var-data'><pre>array([ 88.572169,  86.722531,  84.86197 ,  82.998942,  81.134977,  79.270559,\n",
       "        77.405888,  75.541061,  73.676132,  71.811132,  69.946081,  68.080991,\n",
       "        66.215872,  64.35073 ,  62.485571,  60.620396,  58.755209,  56.890013,\n",
       "        55.024808,  53.159595,  51.294377,  49.429154,  47.563926,  45.698694,\n",
       "        43.833459,  41.96822 ,  40.102979,  38.237736,  36.372491,  34.507243,\n",
       "        32.641994,  30.776744,  28.911492,  27.046239,  25.180986,  23.315731,\n",
       "        21.450475,  19.585219,  17.719962,  15.854704,  13.989446,  12.124187,\n",
       "        10.258928,   8.393669,   6.528409,   4.66315 ,   2.79789 ,   0.93263 ,\n",
       "        -0.93263 ,  -2.79789 ,  -4.66315 ,  -6.528409,  -8.393669, -10.258928,\n",
       "       -12.124187, -13.989446, -15.854704, -17.719962, -19.585219, -21.450475,\n",
       "       -23.315731, -25.180986, -27.046239, -28.911492, -30.776744, -32.641994,\n",
       "       -34.507243, -36.372491, -38.237736, -40.102979, -41.96822 , -43.833459,\n",
       "       -45.698694, -47.563926, -49.429154, -51.294377, -53.159595, -55.024808,\n",
       "       -56.890013, -58.755209, -60.620396, -62.485571, -64.35073 , -66.215872,\n",
       "       -68.080991, -69.946081, -71.811132, -73.676132, -75.541061, -77.405888,\n",
       "       -79.270559, -81.134977, -82.998942, -84.86197 , -86.722531, -88.572169])</pre></div></li><li class='xr-var-item'><div class='xr-var-name'><span class='xr-has-index'>height</span></div><div class='xr-var-dims'>(height)</div><div class='xr-var-dtype'>float64</div><div class='xr-var-preview xr-preview'>1.0 2.0 3.0 4.0 ... 45.0 46.0 47.0</div><input id='attrs-ad3ab561-fef6-475c-830e-09f6f2a8bf4d' class='xr-var-attrs-in' type='checkbox' ><label for='attrs-ad3ab561-fef6-475c-830e-09f6f2a8bf4d' title='Show/Hide attributes'><svg class='icon xr-icon-file-text2'><use xlink:href='#icon-file-text2'></use></svg></label><input id='data-48cf639c-7969-4ddb-b1a1-f315981cc8af' class='xr-var-data-in' type='checkbox'><label for='data-48cf639c-7969-4ddb-b1a1-f315981cc8af' title='Show/Hide data repr'><svg class='icon xr-icon-database'><use xlink:href='#icon-database'></use></svg></label><div class='xr-var-attrs'><dl class='xr-attrs'><dt><span>standard_name :</span></dt><dd>height</dd><dt><span>long_name :</span></dt><dd>generalized_height</dd><dt><span>axis :</span></dt><dd>Z</dd><dt><span>bounds :</span></dt><dd>height_bnds</dd></dl></div><div class='xr-var-data'><pre>array([ 1.,  2.,  3.,  4.,  5.,  6.,  7.,  8.,  9., 10., 11., 12., 13., 14.,\n",
       "       15., 16., 17., 18., 19., 20., 21., 22., 23., 24., 25., 26., 27., 28.,\n",
       "       29., 30., 31., 32., 33., 34., 35., 36., 37., 38., 39., 40., 41., 42.,\n",
       "       43., 44., 45., 46., 47.])</pre></div></li></ul></div></li><li class='xr-section-item'><input id='section-4e6296da-f73c-4f0a-bdc4-62ade1a8f03e' class='xr-section-summary-in' type='checkbox'  checked><label for='section-4e6296da-f73c-4f0a-bdc4-62ade1a8f03e' class='xr-section-summary' >Data variables: <span>(3)</span></label><div class='xr-section-inline-details'></div><div class='xr-section-details'><ul class='xr-var-list'><li class='xr-var-item'><div class='xr-var-name'><span>lat_bnds</span></div><div class='xr-var-dims'>(lat, bnds)</div><div class='xr-var-dtype'>float64</div><div class='xr-var-preview xr-preview'>...</div><input id='attrs-80b747bf-8dc3-4c87-816f-832c905dee07' class='xr-var-attrs-in' type='checkbox' disabled><label for='attrs-80b747bf-8dc3-4c87-816f-832c905dee07' title='Show/Hide attributes'><svg class='icon xr-icon-file-text2'><use xlink:href='#icon-file-text2'></use></svg></label><input id='data-e175677e-e9c4-4f02-ba75-ea6ea66ed97f' class='xr-var-data-in' type='checkbox'><label for='data-e175677e-e9c4-4f02-ba75-ea6ea66ed97f' title='Show/Hide data repr'><svg class='icon xr-icon-database'><use xlink:href='#icon-database'></use></svg></label><div class='xr-var-attrs'><dl class='xr-attrs'></dl></div><div class='xr-var-data'><pre>array([[ 8.771262e+01,  9.000000e+01],\n",
       "       [ 8.582729e+01,  8.771262e+01],\n",
       "       [ 8.395447e+01,  8.582729e+01],\n",
       "       [ 8.208521e+01,  8.395447e+01],\n",
       "       [ 8.021747e+01,  8.208521e+01],\n",
       "       [ 7.835051e+01,  8.021747e+01],\n",
       "       [ 7.648401e+01,  7.835051e+01],\n",
       "       [ 7.461780e+01,  7.648401e+01],\n",
       "       [ 7.275179e+01,  7.461780e+01],\n",
       "       [ 7.088591e+01,  7.275179e+01],\n",
       "       [ 6.902014e+01,  7.088591e+01],\n",
       "       [ 6.715444e+01,  6.902014e+01],\n",
       "       [ 6.528880e+01,  6.715444e+01],\n",
       "       [ 6.342321e+01,  6.528880e+01],\n",
       "       [ 6.155766e+01,  6.342321e+01],\n",
       "       [ 5.969213e+01,  6.155766e+01],\n",
       "       [ 5.782663e+01,  5.969213e+01],\n",
       "       [ 5.596116e+01,  5.782663e+01],\n",
       "       [ 5.409570e+01,  5.596116e+01],\n",
       "       [ 5.223025e+01,  5.409570e+01],\n",
       "       [ 5.036482e+01,  5.223025e+01],\n",
       "       [ 4.849940e+01,  5.036482e+01],\n",
       "       [ 4.663399e+01,  4.849940e+01],\n",
       "       [ 4.476859e+01,  4.663399e+01],\n",
       "       [ 4.290319e+01,  4.476859e+01],\n",
       "       [ 4.103780e+01,  4.290319e+01],\n",
       "       [ 3.917242e+01,  4.103780e+01],\n",
       "       [ 3.730704e+01,  3.917242e+01],\n",
       "       [ 3.544167e+01,  3.730704e+01],\n",
       "       [ 3.357630e+01,  3.544167e+01],\n",
       "       [ 3.171093e+01,  3.357630e+01],\n",
       "       [ 2.984557e+01,  3.171093e+01],\n",
       "       [ 2.798021e+01,  2.984557e+01],\n",
       "       [ 2.611485e+01,  2.798021e+01],\n",
       "       [ 2.424950e+01,  2.611485e+01],\n",
       "       [ 2.238415e+01,  2.424950e+01],\n",
       "       [ 2.051879e+01,  2.238415e+01],\n",
       "       [ 1.865344e+01,  2.051879e+01],\n",
       "       [ 1.678810e+01,  1.865344e+01],\n",
       "       [ 1.492275e+01,  1.678810e+01],\n",
       "       [ 1.305740e+01,  1.492275e+01],\n",
       "       [ 1.119206e+01,  1.305740e+01],\n",
       "       [ 9.326714e+00,  1.119206e+01],\n",
       "       [ 7.461371e+00,  9.326714e+00],\n",
       "       [ 5.596027e+00,  7.461371e+00],\n",
       "       [ 3.730685e+00,  5.596027e+00],\n",
       "       [ 1.865342e+00,  3.730685e+00],\n",
       "       [-7.633331e-14,  1.865342e+00],\n",
       "       [-1.865342e+00, -7.633331e-14],\n",
       "       [-3.730685e+00, -1.865342e+00],\n",
       "       [-5.596027e+00, -3.730685e+00],\n",
       "       [-7.461371e+00, -5.596027e+00],\n",
       "       [-9.326714e+00, -7.461371e+00],\n",
       "       [-1.119206e+01, -9.326714e+00],\n",
       "       [-1.305740e+01, -1.119206e+01],\n",
       "       [-1.492275e+01, -1.305740e+01],\n",
       "       [-1.678810e+01, -1.492275e+01],\n",
       "       [-1.865344e+01, -1.678810e+01],\n",
       "       [-2.051879e+01, -1.865344e+01],\n",
       "       [-2.238415e+01, -2.051879e+01],\n",
       "       [-2.424950e+01, -2.238415e+01],\n",
       "       [-2.611485e+01, -2.424950e+01],\n",
       "       [-2.798021e+01, -2.611485e+01],\n",
       "       [-2.984557e+01, -2.798021e+01],\n",
       "       [-3.171093e+01, -2.984557e+01],\n",
       "       [-3.357630e+01, -3.171093e+01],\n",
       "       [-3.544167e+01, -3.357630e+01],\n",
       "       [-3.730704e+01, -3.544167e+01],\n",
       "       [-3.917242e+01, -3.730704e+01],\n",
       "       [-4.103780e+01, -3.917242e+01],\n",
       "       [-4.290319e+01, -4.103780e+01],\n",
       "       [-4.476859e+01, -4.290319e+01],\n",
       "       [-4.663399e+01, -4.476859e+01],\n",
       "       [-4.849940e+01, -4.663399e+01],\n",
       "       [-5.036482e+01, -4.849940e+01],\n",
       "       [-5.223025e+01, -5.036482e+01],\n",
       "       [-5.409570e+01, -5.223025e+01],\n",
       "       [-5.596116e+01, -5.409570e+01],\n",
       "       [-5.782663e+01, -5.596116e+01],\n",
       "       [-5.969213e+01, -5.782663e+01],\n",
       "       [-6.155766e+01, -5.969213e+01],\n",
       "       [-6.342321e+01, -6.155766e+01],\n",
       "       [-6.528880e+01, -6.342321e+01],\n",
       "       [-6.715444e+01, -6.528880e+01],\n",
       "       [-6.902014e+01, -6.715444e+01],\n",
       "       [-7.088591e+01, -6.902014e+01],\n",
       "       [-7.275179e+01, -7.088591e+01],\n",
       "       [-7.461780e+01, -7.275179e+01],\n",
       "       [-7.648401e+01, -7.461780e+01],\n",
       "       [-7.835051e+01, -7.648401e+01],\n",
       "       [-8.021747e+01, -7.835051e+01],\n",
       "       [-8.208521e+01, -8.021747e+01],\n",
       "       [-8.395447e+01, -8.208521e+01],\n",
       "       [-8.582729e+01, -8.395447e+01],\n",
       "       [-8.771262e+01, -8.582729e+01],\n",
       "       [-9.000000e+01, -8.771262e+01]])</pre></div></li><li class='xr-var-item'><div class='xr-var-name'><span>height_bnds</span></div><div class='xr-var-dims'>(height, bnds)</div><div class='xr-var-dtype'>float64</div><div class='xr-var-preview xr-preview'>...</div><input id='attrs-cdf440b4-8a78-49cd-a243-06ca97ff4e78' class='xr-var-attrs-in' type='checkbox' disabled><label for='attrs-cdf440b4-8a78-49cd-a243-06ca97ff4e78' title='Show/Hide attributes'><svg class='icon xr-icon-file-text2'><use xlink:href='#icon-file-text2'></use></svg></label><input id='data-86f86c55-efa2-405f-ad26-0001f57d1623' class='xr-var-data-in' type='checkbox'><label for='data-86f86c55-efa2-405f-ad26-0001f57d1623' title='Show/Hide data repr'><svg class='icon xr-icon-database'><use xlink:href='#icon-database'></use></svg></label><div class='xr-var-attrs'><dl class='xr-attrs'></dl></div><div class='xr-var-data'><pre>array([[ 1.,  2.],\n",
       "       [ 2.,  3.],\n",
       "       [ 3.,  4.],\n",
       "       [ 4.,  5.],\n",
       "       [ 5.,  6.],\n",
       "       [ 6.,  7.],\n",
       "       [ 7.,  8.],\n",
       "       [ 8.,  9.],\n",
       "       [ 9., 10.],\n",
       "       [10., 11.],\n",
       "       [11., 12.],\n",
       "       [12., 13.],\n",
       "       [13., 14.],\n",
       "       [14., 15.],\n",
       "       [15., 16.],\n",
       "       [16., 17.],\n",
       "       [17., 18.],\n",
       "       [18., 19.],\n",
       "       [19., 20.],\n",
       "       [20., 21.],\n",
       "       [21., 22.],\n",
       "       [22., 23.],\n",
       "       [23., 24.],\n",
       "       [24., 25.],\n",
       "       [25., 26.],\n",
       "       [26., 27.],\n",
       "       [27., 28.],\n",
       "       [28., 29.],\n",
       "       [29., 30.],\n",
       "       [30., 31.],\n",
       "       [31., 32.],\n",
       "       [32., 33.],\n",
       "       [33., 34.],\n",
       "       [34., 35.],\n",
       "       [35., 36.],\n",
       "       [36., 37.],\n",
       "       [37., 38.],\n",
       "       [38., 39.],\n",
       "       [39., 40.],\n",
       "       [40., 41.],\n",
       "       [41., 42.],\n",
       "       [42., 43.],\n",
       "       [43., 44.],\n",
       "       [44., 45.],\n",
       "       [45., 46.],\n",
       "       [46., 47.],\n",
       "       [47., 48.]])</pre></div></li><li class='xr-var-item'><div class='xr-var-name'><span>ttr</span></div><div class='xr-var-dims'>(time, height, lat, lon)</div><div class='xr-var-dtype'>float32</div><div class='xr-var-preview xr-preview'>...</div><input id='attrs-99326077-4c95-477d-9532-2f099933a677' class='xr-var-attrs-in' type='checkbox' ><label for='attrs-99326077-4c95-477d-9532-2f099933a677' title='Show/Hide attributes'><svg class='icon xr-icon-file-text2'><use xlink:href='#icon-file-text2'></use></svg></label><input id='data-7d917e25-d4b5-4b89-a0b7-f918dd486c61' class='xr-var-data-in' type='checkbox'><label for='data-7d917e25-d4b5-4b89-a0b7-f918dd486c61' title='Show/Hide data repr'><svg class='icon xr-icon-database'><use xlink:href='#icon-database'></use></svg></label><div class='xr-var-attrs'><dl class='xr-attrs'><dt><span>standard_name :</span></dt><dd>ttr</dd><dt><span>long_name :</span></dt><dd>ttr_mass_mixing_ratio</dd><dt><span>units :</span></dt><dd>kg kg-1</dd><dt><span>param :</span></dt><dd>255.14.0</dd><dt><span>CDI_grid_type :</span></dt><dd>gaussian</dd><dt><span>CDI_grid_num_LPE :</span></dt><dd>48</dd></dl></div><div class='xr-var-data'><pre>[866304 values with dtype=float32]</pre></div></li></ul></div></li><li class='xr-section-item'><input id='section-be6a9db2-7175-485e-b7bb-780b01150b94' class='xr-section-summary-in' type='checkbox'  ><label for='section-be6a9db2-7175-485e-b7bb-780b01150b94' class='xr-section-summary' >Attributes: <span>(10)</span></label><div class='xr-section-inline-details'></div><div class='xr-section-details'><dl class='xr-attrs'><dt><span>CDI :</span></dt><dd>Climate Data Interface version 1.9.10 (https://mpimet.mpg.de/cdi)</dd><dt><span>Conventions :</span></dt><dd>CF-1.6</dd><dt><span>uuidOfVGrid :</span></dt><dd>77af4ca7-2d71-079d-1f8e-3e1c5c9f29c0</dd><dt><span>source :</span></dt><dd>git@gitlab.dkrz.de:k202141/icon-aes-fork.git@c1750c2ed05fd22af83fa001dcd13af5043ab30d</dd><dt><span>institution :</span></dt><dd>Max Planck Institute for Meteorology</dd><dt><span>title :</span></dt><dd>ICON simulation</dd><dt><span>history :</span></dt><dd>Tue Apr 05 20:44:11 2022: cdo -O -remapcon,t63grid -seltimestep,1 -selvar,ttr /work/ka1176/caroline/gitlab/icon-aes/experiments/atm_amip_emission_caroline_month_med_standard/atm_amip_emission_caroline_month_med_atm_3d_ml_19790131T000000Z.nc ./remapped/remap_fort_31.nc\n",
       "/home/k/k202141/rootgit/icon-aes/bin/icon at 20220405 161138</dd><dt><span>references :</span></dt><dd>see MPIM/DWD publications</dd><dt><span>comment :</span></dt><dd>Caroline Arnold (k202141) on m11357 (Linux 2.6.32-754.41.2.el6.x86_64 x86_64)</dd><dt><span>CDO :</span></dt><dd>Climate Data Operators version 1.9.10 (https://mpimet.mpg.de/cdo)</dd></dl></div></li></ul></div></div>"
      ],
      "text/plain": [
       "<xarray.Dataset>\n",
       "Dimensions:      (time: 1, lon: 192, lat: 96, bnds: 2, height: 47)\n",
       "Coordinates:\n",
       "  * time         (time) float64 1.979e+07\n",
       "  * lon          (lon) float64 0.0 1.875 3.75 5.625 ... 352.5 354.4 356.2 358.1\n",
       "  * lat          (lat) float64 88.57 86.72 84.86 83.0 ... -84.86 -86.72 -88.57\n",
       "  * height       (height) float64 1.0 2.0 3.0 4.0 5.0 ... 44.0 45.0 46.0 47.0\n",
       "Dimensions without coordinates: bnds\n",
       "Data variables:\n",
       "    lat_bnds     (lat, bnds) float64 ...\n",
       "    height_bnds  (height, bnds) float64 ...\n",
       "    ttr          (time, height, lat, lon) float32 ...\n",
       "Attributes:\n",
       "    CDI:          Climate Data Interface version 1.9.10 (https://mpimet.mpg.d...\n",
       "    Conventions:  CF-1.6\n",
       "    uuidOfVGrid:  77af4ca7-2d71-079d-1f8e-3e1c5c9f29c0\n",
       "    source:       git@gitlab.dkrz.de:k202141/icon-aes-fork.git@c1750c2ed05fd2...\n",
       "    institution:  Max Planck Institute for Meteorology\n",
       "    title:        ICON simulation\n",
       "    history:      Tue Apr 05 20:44:11 2022: cdo -O -remapcon,t63grid -seltime...\n",
       "    references:   see MPIM/DWD publications\n",
       "    comment:      Caroline Arnold (k202141) on m11357 (Linux 2.6.32-754.41.2....\n",
       "    CDO:          Climate Data Operators version 1.9.10 (https://mpimet.mpg.d..."
      ]
     },
     "execution_count": 43,
     "metadata": {},
     "output_type": "execute_result"
    }
   ],
   "source": [
    "remapped_fort"
   ]
  },
  {
   "cell_type": "code",
   "execution_count": 44,
   "metadata": {},
   "outputs": [],
   "source": [
    "ttr_2D_fort = np.sum(remapped_fort.ttr.values.squeeze(), axis=0)\n",
    "ttr_2D_cffi = np.sum(remapped_cffi.ttr.values.squeeze(), axis=0)"
   ]
  },
  {
   "cell_type": "code",
   "execution_count": 45,
   "metadata": {},
   "outputs": [],
   "source": [
    "from cartopy.util import add_cyclic_point\n",
    "\n",
    "data_wrap_fort, lon_wrap_fort = add_cyclic_point(remapped_fort.ttr[0], coord=remapped_fort.lon, axis=2)\n",
    "\n",
    "data_wrap_fort = np.sum(data_wrap_fort, axis=0)\n",
    "\n",
    "data_wrap_cffi, lon_wrap_cffi = add_cyclic_point(remapped_cffi.ttr[0], coord=remapped_cffi.lon, axis=2)\n",
    "\n",
    "data_wrap_cffi = np.sum(data_wrap_cffi, axis=0)\n",
    "\n",
    "data_wrap_diff, lon_wrap_diff = add_cyclic_point(remapped_fort.ttr[0] - remapped_cffi.ttr[0], coord=remapped_cffi.lon, axis=2)\n",
    "\n",
    "data_wrap_diff = np.sum(data_wrap_diff, axis=0)"
   ]
  },
  {
   "cell_type": "code",
   "execution_count": 56,
   "metadata": {},
   "outputs": [
    {
     "data": {
      "image/png": "[encoded data removed]",
      "text/plain": [
       "<Figure size 504x336 with 2 Axes>"
      ]
     },
     "metadata": {
      "needs_background": "light"
     },
     "output_type": "display_data"
    }
   ],
   "source": [
    "fig, ax = plt.subplots(figsize=(7, 7*2/3))\n",
    "\n",
    "ax = plt.axes(projection=ccrs.PlateCarree())\n",
    "\n",
    "plt_cn = ax.contourf(lon_wrap_cffi, remapped_cffi.lat, data_wrap_cffi, transform=ccrs.PlateCarree(), levels=100)\n",
    "\n",
    "ax.coastlines(resolution='50m', linewidth=0.3, color='black')\n",
    "\n",
    "ax.gridlines(draw_labels=True, linewidth=0.5, color='gray', xlocs=range(-180,180,30), ylocs=range(-90,90,30))\n",
    "\n",
    "cbar = plt.colorbar(plt_cn, pad=0.08, shrink=0.55)\n",
    "cbar.set_label('Emission test tracer (Fortran)', labelpad=15, y=.5, rotation=270)\n",
    "\n",
    "plt.savefig(f'./plots/emission_ttr_fort_day_{day:02d}.png', bbox_inches='tight')"
   ]
  },
  {
   "cell_type": "code",
   "execution_count": 57,
   "metadata": {},
   "outputs": [
    {
     "data": {
      "image/png": "[encoded data removed]",
      "text/plain": [
       "<Figure size 504x336 with 2 Axes>"
      ]
     },
     "metadata": {
      "needs_background": "light"
     },
     "output_type": "display_data"
    }
   ],
   "source": [
    "fig, ax = plt.subplots(figsize=(7, 7*2/3))\n",
    "\n",
    "ax = plt.axes(projection=ccrs.PlateCarree())\n",
    "\n",
    "plt_cn = ax.contourf(lon_wrap_fort, remapped_fort.lat, data_wrap_fort, transform=ccrs.PlateCarree(), levels=100)\n",
    "\n",
    "ax.coastlines(resolution='50m', linewidth=0.3, color='black')\n",
    "\n",
    "ax.gridlines(draw_labels=True, linewidth=0.5, color='gray', xlocs=range(-180,180,30), ylocs=range(-90,90,30))\n",
    "\n",
    "cbar = plt.colorbar(plt_cn, pad=0.08, shrink=0.55)\n",
    "cbar.set_label('Emission test tracer (CFFI)', labelpad=15, y=.5, rotation=270)\n",
    "\n",
    "plt.savefig(f'./plots/emission_ttr_cffi_day_{day:02d}.png', bbox_inches='tight')"
   ]
  },
  {
   "cell_type": "code",
   "execution_count": 58,
   "metadata": {},
   "outputs": [
    {
     "data": {
      "image/png": "[encoded data removed]",
      "text/plain": [
       "<Figure size 504x336 with 2 Axes>"
      ]
     },
     "metadata": {
      "needs_background": "light"
     },
     "output_type": "display_data"
    }
   ],
   "source": [
    "fig, ax = plt.subplots(figsize=(7, 7*2/3))\n",
    "\n",
    "ax = plt.axes(projection=ccrs.PlateCarree())\n",
    "\n",
    "plt_cn = ax.contourf(lon_wrap_fort, remapped_fort.lat, data_wrap_diff, transform=ccrs.PlateCarree(), levels=100)\n",
    "\n",
    "ax.coastlines(resolution='50m', linewidth=0.3, color='black')\n",
    "\n",
    "ax.gridlines(draw_labels=True, linewidth=0.5, color='gray', xlocs=range(-180,180,30), ylocs=range(-90,90,30))\n",
    "\n",
    "cbar = plt.colorbar(plt_cn, pad=0.08, shrink=0.55)\n",
    "cbar.set_label('Difference', labelpad=15, y=.5, rotation=270)\n",
    "\n",
    "plt.savefig(f'./plots/emission_ttr_diff_day_{day:02d}.png', bbox_inches='tight')"
   ]
  },
  {
   "cell_type": "code",
   "execution_count": null,
   "metadata": {},
   "outputs": [],
   "source": []
  },
  {
   "cell_type": "code",
   "execution_count": null,
   "metadata": {},
   "outputs": [],
   "source": []
  },
  {
   "cell_type": "code",
   "execution_count": 49,
   "metadata": {},
   "outputs": [],
   "source": [
    "for i in range(47):\n",
    "    assert np.allclose(remapped_fort.ttr[0,i], remapped_cffi.ttr[0,i]), print(i)"
   ]
  },
  {
   "cell_type": "code",
   "execution_count": null,
   "metadata": {},
   "outputs": [],
   "source": []
  },
  {
   "cell_type": "code",
   "execution_count": null,
   "metadata": {},
   "outputs": [],
   "source": []
  }
 ],
 "metadata": {
  "kernelspec": {
   "display_name": "Python 3 unstable (using the module python3/unstable)",
   "language": "python",
   "name": "python3_unstable"
  },
  "language_info": {
   "codemirror_mode": {
    "name": "ipython",
    "version": 3
   },
   "file_extension": ".py",
   "mimetype": "text/x-python",
   "name": "python",
   "nbconvert_exporter": "python",
   "pygments_lexer": "ipython3",
   "version": "3.8.6"
  }
 },
 "nbformat": 4,
 "nbformat_minor": 4
}
